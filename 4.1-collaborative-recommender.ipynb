{
 "cells": [
  {
   "cell_type": "code",
   "execution_count": null,
   "id": "50138560-b29f-49c0-ab99-b68fcb1c0393",
   "metadata": {},
   "outputs": [],
   "source": [
    "Item-Item based \n",
    "because users..\n",
    "https://en.m.wikipedia.org/wiki/Collaborative_filtering\n",
    "\n",
    "NN analyticsvidhya.com/blog/2021/05/movie-recommendations-using-keras-recommender-systems/\n",
    "https://keras.io/examples/structured_data/collaborative_filtering_movielens/\n",
    "\n",
    "Behaviour sequence transformer\n",
    "https://keras.io/examples/structured_data/movielens_recommendations_transformers/"
   ]
  },
  {
   "cell_type": "code",
   "execution_count": null,
   "id": "a314e4de-4531-487c-a099-a3e9adf048b8",
   "metadata": {},
   "outputs": [],
   "source": [
    "memory based\n",
    "2 methods pearson correlation \n",
    "or cosine similartity\n",
    "Nearest neighbours, \n",
    "disadvantages:as matrices become sparse, performance decreases\n",
    "\n",
    "model based\n",
    "SVD - dimensionality reduction \n",
    "- better with sparsenes"
   ]
  }
 ],
 "metadata": {
  "kernelspec": {
   "display_name": "test_env",
   "language": "python",
   "name": "test_env"
  },
  "language_info": {
   "codemirror_mode": {
    "name": "ipython",
    "version": 3
   },
   "file_extension": ".py",
   "mimetype": "text/x-python",
   "name": "python",
   "nbconvert_exporter": "python",
   "pygments_lexer": "ipython3",
   "version": "3.6.13"
  }
 },
 "nbformat": 4,
 "nbformat_minor": 5
}
