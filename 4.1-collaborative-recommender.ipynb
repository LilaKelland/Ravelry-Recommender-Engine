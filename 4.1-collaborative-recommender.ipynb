{
 "cells": [
  {
   "cell_type": "code",
   "execution_count": null,
   "id": "50138560-b29f-49c0-ab99-b68fcb1c0393",
   "metadata": {},
   "outputs": [],
   "source": [
    "Item-Item based \n",
    "because users..\n",
    "https://en.m.wikipedia.org/wiki/Collaborative_filtering\n",
    "\n",
    "NN analyticsvidhya.com/blog/2021/05/movie-recommendations-using-keras-recommender-systems/\n",
    "https://keras.io/examples/structured_data/collaborative_filtering_movielens/\n",
    "\n",
    "Behaviour sequence transformer\n",
    "https://keras.io/examples/structured_data/movielens_recommendations_transformers/\n",
    "\n",
    "Do Users as well\n",
    "\n",
    "\n",
    "\"I’m going to go with item-item because it’s generally been found to be more effective, but also because it can immediately make fairly good recommendations to new users (assuming you already have other user reviews in place).\"\n",
    "https://medium.com/@jmcneilkeller/item-item-recommendation-with-surprise-4bf365355d96"
   ]
  },
  {
   "cell_type": "code",
   "execution_count": null,
   "id": "a314e4de-4531-487c-a099-a3e9adf048b8",
   "metadata": {},
   "outputs": [],
   "source": [
    "memory based\n",
    "2 methods pearson correlation \n",
    "or cosine similartity\n",
    "Nearest neighbours, \n",
    "disadvantages:as matrices become sparse, performance decreases - explain metrics obtained\n",
    "\n",
    "model based\n",
    "SVD - dimensionality reduction \n",
    "- better with sparsenes"
   ]
  },
  {
   "cell_type": "code",
   "execution_count": 2,
   "id": "05cf640e-2733-41f7-9248-5d9a2463c0d8",
   "metadata": {},
   "outputs": [],
   "source": [
    "import pandas as pd\n",
    "import numpy as np\n",
    "\n",
    "# KNN\n",
    "from sklearn.neighbors import NearestNeighbors\n",
    "from scipy.sparse import csr_matrix\n",
    "\n",
    "# Truncated SVD\n",
    "from sklearn.decomposition import TruncatedSVD\n",
    "import warnings\n",
    "warnings.filterwarnings(\"ignore\", category=RuntimeWarning)\n",
    "\n",
    "import surprise"
   ]
  },
  {
   "cell_type": "code",
   "execution_count": 3,
   "id": "13cc22de-ab81-4e7a-b949-26cda349319e",
   "metadata": {},
   "outputs": [],
   "source": [
    "# load data\n",
    "pattern_details = pd.read_csv('data/consolidated_patterns.csv', low_memory=False)\n",
    "df = pd.read_csv('data/less_sparse_users_patterns.csv', low_memory=False)"
   ]
  },
  {
   "cell_type": "code",
   "execution_count": 10,
   "id": "2e20b7af-1f40-4227-ac86-0f0c4bbbbe28",
   "metadata": {},
   "outputs": [
    {
     "data": {
      "text/plain": [
       "((188158, 24), (3250978, 5))"
      ]
     },
     "execution_count": 10,
     "metadata": {},
     "output_type": "execute_result"
    }
   ],
   "source": [
    "pattern_details.shape, df.shape"
   ]
  },
  {
   "cell_type": "code",
   "execution_count": 6,
   "id": "53acb5b1-a678-4b55-9a31-9d61a94db8be",
   "metadata": {},
   "outputs": [
    {
     "name": "stdout",
     "output_type": "stream",
     "text": [
      "(2963, 24)\n"
     ]
    }
   ],
   "source": [
    "#  merge with df to get metadata for each pattern \n",
    "metadata = pattern_details[pattern_details['pattern_id'].isin(df.pattern_ids.values)]\n",
    "# REINDEX??\n",
    "print(metadata.shape)"
   ]
  },
  {
   "cell_type": "markdown",
   "id": "56ad80e5-4fe0-43bd-98f0-77b996d8dd80",
   "metadata": {},
   "source": [
    "### K-Nearest Neighbours\n",
    "\n",
    "#### TODO - try different metrics (Euclidean, cosine, pearson, jaccard)"
   ]
  },
  {
   "cell_type": "code",
   "execution_count": 15,
   "id": "3a51aeae-c82a-4403-a4c2-a8f3790eca4a",
   "metadata": {},
   "outputs": [],
   "source": [
    "# from sklearn.neighbors import NearestNeighbors\n",
    "# https://en.wikipedia.org/wiki/K-nearest_neighbors_algorithm \n",
    "# (to see which algorithm to use)\n",
    "# # ‘ball_tree’ will use BallTree\n",
    "# ‘kd_tree’ will use KDTree\n",
    "# ‘brute’ will use a brute-force search.\n",
    "# ‘auto’ will attempt to decide the most appropriate algorithm based\n",
    "# on the values passed to fit method.\n",
    "# \n",
    " # default default=’minkowski’ (real value space) - try “jaccard” (boolean vector space)"
   ]
  },
  {
   "cell_type": "code",
   "execution_count": 14,
   "id": "13c0f84e-801e-439a-a064-8ba08fa4a65b",
   "metadata": {},
   "outputs": [],
   "source": [
    "user_knit = df\n",
    "# user_knit = user_knit.drop_duplicates(['user_id', 'pattern_ids'])\n",
    "user_knit_pivot = user_knit.pivot(index='pattern_ids', columns='user_id', values='has_knit').fillna(0)\n",
    "user_knit_matrix = csr_matrix(user_knit_pivot.values)\n",
    "user_knit_pivot.shape, user_knit_matrix.shape"
   ]
  },
  {
   "cell_type": "code",
   "execution_count": 17,
   "id": "4fdd5c9d-50ca-441e-acfd-3a56834eaebe",
   "metadata": {},
   "outputs": [
    {
     "data": {
      "text/plain": [
       "NearestNeighbors(algorithm='brute', metric='cosine')"
      ]
     },
     "execution_count": 17,
     "metadata": {},
     "output_type": "execute_result"
    }
   ],
   "source": [
    "model_knn = NearestNeighbors(metric = 'cosine', algorithm = 'brute')  # default default=’minkowski’ (real value space) - try “jaccard” (boolean vector space)\n",
    "model_knn.fit(user_knit_matrix)"
   ]
  },
  {
   "cell_type": "code",
   "execution_count": 18,
   "id": "828d23b9-7ca0-4ce3-9c04-f937a9db66a0",
   "metadata": {},
   "outputs": [
    {
     "name": "stdout",
     "output_type": "stream",
     "text": [
      "1600\n"
     ]
    }
   ],
   "source": [
    "# give recommendation - need to reference this article!! \n",
    "query_index = np.random.choice(user_knit_pivot.shape[0])\n",
    "print(query_index)\n",
    "distances, indices = model_knn.kneighbors(user_knit_pivot.iloc[query_index,:].values.reshape(1, -1), n_neighbors = 10)"
   ]
  },
  {
   "cell_type": "code",
   "execution_count": 19,
   "id": "3804faca-c9d2-4446-b0dc-f4067a4ec70a",
   "metadata": {},
   "outputs": [],
   "source": [
    "# TODO turn into one function! pattern id to name! \n",
    "\n",
    "def get_index_from_pattern_id(pattern_id):\n",
    "    return metadata[metadata.pattern_id == pattern_id].index[0]\n",
    "\n",
    "pattern_id = int(user_knit_pivot.index[query_index])\n",
    "pattern_index = get_index_from_pattern_id(pattern_id)\n",
    "\n",
    "def get_pattern_name_from_index(pattern_index):\n",
    "    return metadata[metadata.index == pattern_index][\"name_permalink\"].values[0]"
   ]
  },
  {
   "cell_type": "code",
   "execution_count": 21,
   "id": "4884abe4-9bdc-4834-b17b-c36306017927",
   "metadata": {},
   "outputs": [
    {
     "name": "stdout",
     "output_type": "stream",
     "text": [
      "Recommendations for bandana-cowl :\n",
      "\n",
      "1: 169260 honey-cowl, with distance of: 0.8732878156686384\n",
      "2: 426231 barley-2, with distance of: 0.8759726749468475\n",
      "3: 181549 the-age-of-brass-and-steam-kerchief, with distance of: 0.8854555800880314\n",
      "4: 211562 hitchhiker, with distance of: 0.8878690389677955\n",
      "5: 226359 rikke-hat, with distance of: 0.8905057869660706\n",
      "6: 75857 turn-a-square, with distance of: 0.8925989179925576\n",
      "7: 464893 garter-ear-flap-hat, with distance of: 0.8997002369473893\n",
      "8: 124400 sockhead-slouch-hat, with distance of: 0.8998918881352115\n",
      "9: 216488 gap-tastic-cowl, with distance of: 0.9015507120664095\n"
     ]
    }
   ],
   "source": [
    "# give recomendations for the pattern selected\n",
    "for i in range(0, len(distances.flatten())):\n",
    "    if i == 0:\n",
    "#         print('Recommendations for {0} :\\n'.format(user_knit_pivot.index[query_index]))\n",
    "        print('Recommendations for {0} :\\n'.format(get_pattern_name_from_index(get_index_from_pattern_id(int(user_knit_pivot.index[query_index])))))\n",
    "    else:\n",
    "        pattern_id = int(user_knit_pivot.index[indices.flatten()[i]])\n",
    "        pattern_metadata_index = get_index_from_pattern_id(pattern_id)\n",
    "        pattern_name = get_pattern_name_from_index(pattern_metadata_index)\n",
    " \n",
    "        print('{0}: {1} {2}, with distance of: {3}'\n",
    "                .format(i, pattern_id, pattern_name, distances.flatten()[i]))\n",
    "    "
   ]
  },
  {
   "cell_type": "markdown",
   "id": "ec49d930-ec93-44d8-bb77-b9f34227b128",
   "metadata": {},
   "source": [
    "### Matrix factorization \n",
    "#### a) Truncated SVD (explain all of the methods)"
   ]
  },
  {
   "cell_type": "code",
   "execution_count": null,
   "id": "82702683-30d7-42e9-80df-fc96a80c88d7",
   "metadata": {},
   "outputs": [],
   "source": []
  },
  {
   "cell_type": "code",
   "execution_count": null,
   "id": "4c021815-b9b6-4914-acbd-a6fa4489f27c",
   "metadata": {},
   "outputs": [],
   "source": [
    "user_knit = df\n",
    "user_knit_pivot = user_knit.pivot(index='pattern_ids', columns='user_id', values='has_knit').fillna(0)\n",
    "X = user_knit_pivot.values"
   ]
  },
  {
   "cell_type": "code",
   "execution_count": null,
   "id": "ab0fdec6-d282-4530-b0ed-1fbac91af40e",
   "metadata": {},
   "outputs": [],
   "source": [
    "svd = TruncatedSVD(n_components=1000, random_state =88)\n",
    "matrix = svd.fit_transform(X)\n",
    "matrix.shape"
   ]
  },
  {
   "cell_type": "code",
   "execution_count": null,
   "id": "8e24240b-9e95-475e-a57d-9d6c85e07e96",
   "metadata": {},
   "outputs": [],
   "source": [
    "# To determine best nymber (have increased from 10 iteratively to 1000 (explained variab\n",
    "# should be above 0.9, but \n",
    "\n",
    "explained_variance_ratios = svd.explained_variance_ratio_\n",
    "explained_variance_ratios_sum = svd.explained_variance_ratio_.sum()\n",
    "singular_values = svd.singular_values_\n",
    "print(explained_variance_ratios_sum )"
   ]
  },
  {
   "cell_type": "code",
   "execution_count": null,
   "id": "c13db9ec-300f-4ffe-8eb0-ba7d2a2451e1",
   "metadata": {},
   "outputs": [],
   "source": [
    "## PLOT EXPLAINED VARIANCE OVER COMPONENTS"
   ]
  },
  {
   "cell_type": "code",
   "execution_count": null,
   "id": "035c677f-a0d5-4f02-ba9c-ec4638c89239",
   "metadata": {},
   "outputs": [],
   "source": [
    "# calculate pearson R correlation \n",
    "corr = np.corrcoef(matrix)\n",
    "corr.shape"
   ]
  },
  {
   "cell_type": "code",
   "execution_count": 22,
   "id": "6376fcc8-acaf-4201-b168-adbc8cbdf402",
   "metadata": {},
   "outputs": [],
   "source": [
    "# get pattern id's out \n",
    "pattern_ids = user_knit_pivot.index\n",
    "pattern_ids_list = list(pattern_ids)"
   ]
  },
  {
   "cell_type": "code",
   "execution_count": null,
   "id": "4a53451f-d9a5-4b81-91dc-202c108909a7",
   "metadata": {},
   "outputs": [],
   "source": [
    "# Find recommendations for a particular pattern:\n",
    "pattern_100315 = pattern_ids_list.index('100315')\n",
    "corr_100315 = corr[pattern_100315]\n",
    "list(pattern_ids[(corr_100315<1.0)&(corr_100315>0.95)])"
   ]
  },
  {
   "cell_type": "code",
   "execution_count": null,
   "id": "8460c4e2-a561-4ba4-aa42-6db5b67ae34b",
   "metadata": {},
   "outputs": [],
   "source": [
    "#MAKE FUNCTION!! HOW TO CROSS VALIDATE??"
   ]
  },
  {
   "cell_type": "code",
   "execution_count": null,
   "id": "d284c7b4-39ae-4f9e-b964-2e708e16d5fa",
   "metadata": {},
   "outputs": [],
   "source": []
  },
  {
   "cell_type": "code",
   "execution_count": null,
   "id": "87116b82-9db9-4f77-8f91-89f3d21a26a2",
   "metadata": {},
   "outputs": [],
   "source": [
    "# plot with Tsne?? (https://towardsdatascience.com/recommender-system-singular-value-decomposition-svd-truncated-svd-97096338f361)\n",
    "\n",
    "# from sklearn.manifold import TSNE\n",
    "# import matplotlib.pyplot as plt\n",
    "# %matplotlib inline\n",
    "\n",
    "# tsne = TSNE(perplexity=5, n_components=2, init=\"pca\", n_iter=5000)\n",
    "# plot_only = 50\n",
    "# coords = tsne.fit_transform(movie_features[:plot_only, :])\n",
    "\n",
    "# plt.figure(figsize=(18, 18))\n",
    "# labels = [df_mv4.iloc[i].title for i in range(plot_only)]\n",
    "# for i, label in enumerate(labels):\n",
    "#     x, y = coords[i, :]\n",
    "#     plt.scatter(x, y)\n",
    "#     plt.annotate(label,\n",
    "#                  xy=(x, y),\n",
    "#                  xytext=(10, 4),\n",
    "#                  textcoords=\"offset points\",\n",
    "#                  ha=\"right\",\n",
    "#                  va=\"bottom\")\n",
    "\n",
    "# plt.show()"
   ]
  },
  {
   "cell_type": "markdown",
   "id": "7805dc6d-72b0-4f50-b43a-07a0bef53fb7",
   "metadata": {},
   "source": [
    "### Straight SVD no pp or surprise etc... \n",
    "https://analyticsindiamag.com/singular-value-decomposition-svd-application-recommender-system/"
   ]
  },
  {
   "cell_type": "code",
   "execution_count": 23,
   "id": "1a5d7ed4-e713-43dc-a8ee-821f70d3d03a",
   "metadata": {},
   "outputs": [],
   "source": [
    "user_knit = df\n",
    "user_knit_pivot = user_knit.pivot(index='pattern_ids', columns='user_id', values='has_knit').fillna(0)\n",
    "X = user_knit_pivot.values"
   ]
  },
  {
   "cell_type": "code",
   "execution_count": null,
   "id": "104b57f5-0a2b-41b9-828c-4e0678ff20be",
   "metadata": {},
   "outputs": [],
   "source": [
    "A = X.T / np.sqrt(X.shape[0] - 1)\n",
    "U, S, V = np.linalg.svd(A)"
   ]
  },
  {
   "cell_type": "code",
   "execution_count": null,
   "id": "d06b1786-cbaa-4513-ace6-d5c74924350f",
   "metadata": {},
   "outputs": [],
   "source": [
    "# Most similar\n",
    "def top_cosine_similarity(data, movie_id, top_n=10):\n",
    "    index = movie_id - 1 # Movie id starts from 1 in the dataset\n",
    "    movie_row = data[index, :]\n",
    "    magnitude = np.sqrt(np.einsum('ij, ij -> i', data, data))\n",
    "    similarity = np.dot(movie_row, data.T) / (magnitude[index] * magnitude)\n",
    "    sort_indexes = np.argsort(-similarity)\n",
    "    return sort_indexes[:top_n]"
   ]
  },
  {
   "cell_type": "code",
   "execution_count": null,
   "id": "e0fe2613-1f37-4f85-be66-3a1a8096cea4",
   "metadata": {},
   "outputs": [],
   "source": [
    "def print_similar_movies(movie_data, movie_id, top_indexes):\n",
    "    print('Recommendations for {0}: \\n'.format(\n",
    "    movie_data[movie_data.movie_id == movie_id].title.values[0]))\n",
    "    for id in top_indexes + 1:\n",
    "        print(movie_data[movie_data.movie_id == id].title.values[0])"
   ]
  },
  {
   "cell_type": "code",
   "execution_count": null,
   "id": "a06eea12-ad8c-4852-9b7c-65ec31cdfaff",
   "metadata": {},
   "outputs": [],
   "source": []
  },
  {
   "cell_type": "code",
   "execution_count": null,
   "id": "5a2c45d2-155a-41c3-b241-ad93735afb60",
   "metadata": {},
   "outputs": [],
   "source": [
    "#k-principal components to represent movies, movie_id to find recommendations, top_n print n results        \n",
    "k = 50\n",
    "movie_id = 10 # (getting an id from movies.dat)\n",
    "top_n = 10\n",
    "sliced = V.T[:, :k] # representative data\n",
    "indexes = top_cosine_similarity(sliced, movie_id, top_n)\n",
    "\n",
    "#Printing the top N similar movies\n",
    "print_similar_movies(movie_data, movie_id, indexes)"
   ]
  },
  {
   "cell_type": "markdown",
   "id": "2c7f34f2-4ccd-4d2d-8d4c-2681ac3c19bc",
   "metadata": {},
   "source": [
    "### Using the implicit library\n",
    "Using Surprise Library \n",
    "(doesn't suport implicit ratings, but the SVDpp algoithm  library does), nor item item??\n",
    "https://implicit.readthedocs.io/en/latest/quickstart.html\n",
    "https://towardsdatascience.com/building-a-collaborative-filtering-recommender-system-with-clickstream-data-dffc86c8c65\n",
    "\n",
    "** Interesting REad\n",
    "https://nbviewer.org/github/jmsteinw/Notebooks/blob/master/RecEngine_NB.ipynb"
   ]
  },
  {
   "cell_type": "code",
   "execution_count": null,
   "id": "c63cfd2b-afd6-4184-bf2c-2293b9a76b23",
   "metadata": {},
   "outputs": [],
   "source": [
    "# not going to tune as prone to overfitting https://towardsdatascience.com/svd-where-model-tuning-goes-wrong-61c269402919\n",
    "https://towardsdatascience.com/building-a-collaborative-filtering-recommender-system-with-clickstream-data-dffc86c8c65"
   ]
  },
  {
   "cell_type": "code",
   "execution_count": 2,
   "id": "122cf569-d2b3-4dba-a77b-7c4190a30c8f",
   "metadata": {},
   "outputs": [],
   "source": [
    "import implicit\n",
    "import numpy as np\n",
    "import pandas as pd\n",
    "import scipy.sparse as sparse"
   ]
  },
  {
   "cell_type": "code",
   "execution_count": 3,
   "id": "a9e542d4-d842-457e-b802-a7353bd2f8a0",
   "metadata": {},
   "outputs": [],
   "source": [
    "pattern_details = pd.read_csv('data/consolidated_patterns.csv', low_memory=False)\n",
    "df = pd.read_csv('data/less_sparse_users_patterns.csv', low_memory=False)"
   ]
  },
  {
   "cell_type": "code",
   "execution_count": 6,
   "id": "6f52219f-e473-48c8-9e72-c32a28920268",
   "metadata": {},
   "outputs": [],
   "source": [
    "df.columns\n",
    "dataset = df[['user_id', 'pattern_ids', 'has_knit']]\n",
    "dataset.columns = ['personId', 'contentId', 'has_knit']\n",
    "\n",
    "# item_user_data= df[['user_id', 'pattern_ids']]\n",
    "\n",
    "# user_knit = df\n",
    "# # user_knit = user_knit.drop_duplicates(['user_id', 'pattern_ids'])\n",
    "# user_knit_pivot = user_knit.pivot(index='pattern_ids', columns='user_id', values='has_knit').fillna(0)\n",
    "# user_knit_matrix = csr_matrix(user_knit_pivot.values)\n",
    "# user_knit_pivot.shape, user_knit_matrix.shape"
   ]
  },
  {
   "cell_type": "code",
   "execution_count": 8,
   "id": "39b0daa2-8b8b-4e66-ba73-f38afd3881c1",
   "metadata": {},
   "outputs": [],
   "source": [
    "# grouped_df['title'] = grouped_df['title'].astype(\"category\")\n",
    "dataset['personId'] = dataset['personId'].astype(\"category\")\n",
    "dataset['contentId'] = dataset['contentId'].astype(\"category\")\n",
    "dataset['person_id'] = dataset['personId'].cat.codes\n",
    "dataset['content_id'] = dataset['contentId'].cat.codes\n",
    "\n",
    "sparse_content_person = sparse.csr_matrix((dataset['has_knit'].astype(float), (dataset['content_id'], dataset['person_id'])))\n",
    "sparse_person_content = sparse.csr_matrix((dataset['has_knit'].astype(float), (dataset['person_id'], dataset['content_id'])))\n",
    "\n",
    "# model = implicit.als.AlternatingLeastSquares(factors=20, regularization=0.1, iterations=50)\n",
    "\n",
    "# alpha = 15\n",
    "# data = (sparse_content_person * alpha).astype('double')\n",
    "# model.fit(data)"
   ]
  },
  {
   "cell_type": "code",
   "execution_count": null,
   "id": "579bb4a6-416d-4974-b7e9-deb11e0a8f36",
   "metadata": {},
   "outputs": [
    {
     "name": "stderr",
     "output_type": "stream",
     "text": [
      "WARNING:root:Intel MKL BLAS detected. Its highly recommend to set the environment variable 'export MKL_NUM_THREADS=1' to disable its internal multithreading\n"
     ]
    },
    {
     "data": {
      "application/vnd.jupyter.widget-view+json": {
       "model_id": "9c3a3bb079974104bc140e35e6cc4970",
       "version_major": 2,
       "version_minor": 0
      },
      "text/plain": [
       "  0%|          | 0/50 [00:00<?, ?it/s]"
      ]
     },
     "metadata": {},
     "output_type": "display_data"
    }
   ],
   "source": [
    "model = implicit.als.AlternatingLeastSquares(factors=20, regularization=0.1, iterations=50)\n",
    "\n",
    "alpha = 15\n",
    "data = (sparse_content_person * alpha).astype('double')\n",
    "model.fit(data)"
   ]
  },
  {
   "cell_type": "code",
   "execution_count": null,
   "id": "62ddcbc2-5279-4751-b2a2-ac19fe779eaf",
   "metadata": {},
   "outputs": [
    {
     "data": {
      "application/vnd.jupyter.widget-view+json": {
       "model_id": "0b21402da2a84159a74eb476d999294a",
       "version_major": 2,
       "version_minor": 0
      },
      "text/plain": [
       "  0%|          | 0/15 [00:00<?, ?it/s]"
      ]
     },
     "metadata": {},
     "output_type": "display_data"
    }
   ],
   "source": [
    "# initialize a model\n",
    "model = implicit.als.AlternatingLeastSquares(factors=50)\n",
    "\n",
    "# train the model on a sparse matrix of item/user/confidence weights\n",
    "model.fit(user_knit_matrix )\n",
    "\n"
   ]
  },
  {
   "cell_type": "code",
   "execution_count": null,
   "id": "db96fcfa-56c5-4464-8609-2a4d064a6752",
   "metadata": {},
   "outputs": [],
   "source": [
    "content_id = 450\n",
    "n_similar = 10\n",
    "\n",
    "person_vecs = model.user_factors\n",
    "content_vecs = model.item_factors\n",
    "\n",
    "content_norms = np.sqrt((content_vecs * content_vecs).sum(axis=1))\n",
    "\n",
    "scores = content_vecs.dot(content_vecs[content_id]) / content_norms\n",
    "top_idx = np.argpartition(scores, -n_similar)[-n_similar:]\n",
    "similar = sorted(zip(top_idx, scores[top_idx] / content_norms[content_id]), key=lambda x: -x[1])\n",
    "\n",
    "for content in similar:\n",
    "    idx, score = content\n",
    "    print(grouped_df.title.loc[grouped_df.content_id == idx].iloc[0])"
   ]
  },
  {
   "cell_type": "code",
   "execution_count": null,
   "id": "0ddb71a1-646d-4bca-b46f-9a7f711f3c98",
   "metadata": {},
   "outputs": [],
   "source": [
    "# recommend items for a user\n",
    "user_items = item_user_data.T.tocsr()\n",
    "recommendations = model.recommend(userid, user_items)\n",
    "\n",
    "# find related items\n",
    "related = model.similar_items(itemid)"
   ]
  },
  {
   "cell_type": "code",
   "execution_count": null,
   "id": "bb7d2584-8eda-4762-87e9-8dccf803f873",
   "metadata": {},
   "outputs": [],
   "source": []
  },
  {
   "cell_type": "code",
   "execution_count": null,
   "id": "2f40b1fe-0a87-483d-b90a-67e4bad31ef5",
   "metadata": {},
   "outputs": [],
   "source": []
  },
  {
   "cell_type": "code",
   "execution_count": 8,
   "id": "aced9721-2dd9-4fe3-80b7-0d60fa566d1b",
   "metadata": {},
   "outputs": [],
   "source": []
  },
  {
   "cell_type": "code",
   "execution_count": 9,
   "id": "0abc2c31-a8da-4740-904f-268998f28ad2",
   "metadata": {},
   "outputs": [
    {
     "data": {
      "text/html": [
       "<div>\n",
       "<style scoped>\n",
       "    .dataframe tbody tr th:only-of-type {\n",
       "        vertical-align: middle;\n",
       "    }\n",
       "\n",
       "    .dataframe tbody tr th {\n",
       "        vertical-align: top;\n",
       "    }\n",
       "\n",
       "    .dataframe thead th {\n",
       "        text-align: right;\n",
       "    }\n",
       "</style>\n",
       "<table border=\"1\" class=\"dataframe\">\n",
       "  <thead>\n",
       "    <tr style=\"text-align: right;\">\n",
       "      <th></th>\n",
       "      <th>uid</th>\n",
       "      <th>iid</th>\n",
       "      <th>rating</th>\n",
       "    </tr>\n",
       "  </thead>\n",
       "  <tbody>\n",
       "    <tr>\n",
       "      <th>0</th>\n",
       "      <td>5153610</td>\n",
       "      <td>88</td>\n",
       "      <td>1</td>\n",
       "    </tr>\n",
       "    <tr>\n",
       "      <th>1</th>\n",
       "      <td>511279</td>\n",
       "      <td>88</td>\n",
       "      <td>1</td>\n",
       "    </tr>\n",
       "    <tr>\n",
       "      <th>2</th>\n",
       "      <td>3146767</td>\n",
       "      <td>88</td>\n",
       "      <td>1</td>\n",
       "    </tr>\n",
       "    <tr>\n",
       "      <th>3</th>\n",
       "      <td>21965</td>\n",
       "      <td>88</td>\n",
       "      <td>1</td>\n",
       "    </tr>\n",
       "    <tr>\n",
       "      <th>4</th>\n",
       "      <td>55722</td>\n",
       "      <td>88</td>\n",
       "      <td>1</td>\n",
       "    </tr>\n",
       "  </tbody>\n",
       "</table>\n",
       "</div>"
      ],
      "text/plain": [
       "       uid  iid  rating\n",
       "0  5153610   88       1\n",
       "1   511279   88       1\n",
       "2  3146767   88       1\n",
       "3    21965   88       1\n",
       "4    55722   88       1"
      ]
     },
     "execution_count": 9,
     "metadata": {},
     "output_type": "execute_result"
    }
   ],
   "source": [
    "dataset.head()"
   ]
  },
  {
   "cell_type": "code",
   "execution_count": 10,
   "id": "4d3f2144-18c1-4287-a4c3-ee60e25e0d74",
   "metadata": {},
   "outputs": [],
   "source": []
  },
  {
   "cell_type": "code",
   "execution_count": null,
   "id": "0ffa8c89-82ce-4e25-b2e4-4eaefb2e4cac",
   "metadata": {},
   "outputs": [],
   "source": []
  },
  {
   "cell_type": "code",
   "execution_count": null,
   "id": "47d3f0a5-ae7e-4f60-9a93-44221fa595e5",
   "metadata": {},
   "outputs": [],
   "source": []
  },
  {
   "cell_type": "code",
   "execution_count": null,
   "id": "d060eab9-4525-450d-be33-794dda6d9c33",
   "metadata": {},
   "outputs": [],
   "source": []
  },
  {
   "cell_type": "code",
   "execution_count": null,
   "id": "31fc1597-aee8-43a7-9698-dea61de52223",
   "metadata": {},
   "outputs": [],
   "source": [
    "# TO DO TEST TRAIN SPLIT AND assess with area under the curve like in \n",
    "# https://nbviewer.org/github/jmsteinw/Notebooks/blob/master/RecEngine_NB.ipynb\n",
    "\n",
    "explain how it works "
   ]
  }
 ],
 "metadata": {
  "kernelspec": {
   "display_name": "test_env",
   "language": "python",
   "name": "test_env"
  },
  "language_info": {
   "codemirror_mode": {
    "name": "ipython",
    "version": 3
   },
   "file_extension": ".py",
   "mimetype": "text/x-python",
   "name": "python",
   "nbconvert_exporter": "python",
   "pygments_lexer": "ipython3",
   "version": "3.6.13"
  }
 },
 "nbformat": 4,
 "nbformat_minor": 5
}
