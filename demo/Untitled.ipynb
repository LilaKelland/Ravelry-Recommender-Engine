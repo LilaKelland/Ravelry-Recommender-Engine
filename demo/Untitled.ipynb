{
 "cells": [
  {
   "cell_type": "code",
   "execution_count": 1,
   "id": "d76f3bb9-b5a0-43f1-ac74-7a0d5dd3dbf9",
   "metadata": {},
   "outputs": [],
   "source": [
    "import streamlit as st\n",
    "import pandas as pd\n",
    "import numpy as np\n",
    "import requests"
   ]
  },
  {
   "cell_type": "code",
   "execution_count": null,
   "id": "bb5e41fd-621b-426a-8f91-befa2b270099",
   "metadata": {},
   "outputs": [],
   "source": [
    "st.title(\"This is the title\")\n",
    "st.header(\"This is a header\")\n",
    "st.subheader(\"This is a header\")\n",
    "st.write(\"This is regular text\")\n",
    "\n",
    "\"\"\" \n",
    "# header\n",
    "This is markdown\n",
    "\"\"\"\n",
    "\n",
    "{\"key\":2,\n",
    " \"key2:3} This will pretty print (or assign to variable and st.write(some_dictionary)\n",
    " \n",
    " st.sidebar.write(\"Options\") # or title instead of write\n",
    " \n",
    " df = pd.DataFrame(np.random.randn(50,20), columns=('col %d' % i for i in range(20)))\n",
    " \n",
    " st.dataframe(df) # displays whole \n",
    " st.image(<imageurl>)\n",
    " \n",
    " interactive widgets:\n",
    " \n",
    " option = st.sidebar.selectbox(\"Which Dashboard?\",(\"Email', 'Home phone', 'mobile phone'))\n",
    "                                                   \n",
    "if option ==\"Email\":\n",
    "        st.subheader(\"twitter dashboard logic\")\n",
    "        r = requests.get(\"https://api....\")\n",
    "                                                   data = r.json()\n",
    "                                                   st.write(data)\n",
    "                                                   st.image['user']['avatar_url']\n",
    "    "
   ]
  },
  {
   "cell_type": "code",
   "execution_count": null,
   "id": "65230f63-ab13-43f3-b376-86128e38f7c3",
   "metadata": {},
   "outputs": [],
   "source": [
    "# streamlit run <filename> in terminal to run\n",
    "\n",
    "https://www.youtube.com/watch?v=0ESc1bh3eIg - stopped at 27 minutes\n",
    "\n",
    "Can parse out and put each dashboard in separate file if like"
   ]
  }
 ],
 "metadata": {
  "kernelspec": {
   "display_name": "test_env",
   "language": "python",
   "name": "test_env"
  },
  "language_info": {
   "codemirror_mode": {
    "name": "ipython",
    "version": 3
   },
   "file_extension": ".py",
   "mimetype": "text/x-python",
   "name": "python",
   "nbconvert_exporter": "python",
   "pygments_lexer": "ipython3",
   "version": "3.6.13"
  }
 },
 "nbformat": 4,
 "nbformat_minor": 5
}
