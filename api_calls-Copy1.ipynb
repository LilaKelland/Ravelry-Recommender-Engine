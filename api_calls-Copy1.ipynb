{
 "cells": [
  {
   "cell_type": "markdown",
   "id": "03dd9fed-fd7f-414b-b883-a17bb71b7aa4",
   "metadata": {},
   "source": [
    "## Aquiring Data (0.1)\n",
    "\n",
    "Using ravelry.com's api.  Limit of 100k per call.  As of Friday November 19, 665,465 knitting patterns. Api does not currently allow for sort-by searches directly.  Will need to segment and pull out in sequential chunks, then filter down after the fact. \n",
    "\n",
    "#### PLAN OF ATTACK\n",
    "* get pattern categories list\n",
    "* start with one category\n",
    "* then iterate through grab patterns for each if <100k\n",
    "* combine into one monster dataframe\n",
    "\n",
    "* write a script to interate through all id's grab info, write to csv... append with all info"
   ]
  },
  {
   "cell_type": "code",
   "execution_count": 9,
   "id": "c89fe5c2-e542-4531-aeab-9f1414dfbb28",
   "metadata": {},
   "outputs": [],
   "source": [
    "import pandas as pd\n",
    "import numpy as np\n",
    "\n",
    "import json\n",
    "import requests\n",
    "from requests.auth import HTTPBasicAuth\n",
    "from pprint import pprint\n",
    "\n",
    "from config import basic_auth_username, basic_auth_password\n",
    "from config import basic_auth_username_read_only, basic_auth_password_read_only"
   ]
  },
  {
   "cell_type": "markdown",
   "id": "84d0a5cc-b712-420e-90de-49bf337a6964",
   "metadata": {},
   "source": [
    "### Try current user call (my account)"
   ]
  },
  {
   "cell_type": "code",
   "execution_count": 10,
   "id": "f29193ad-86f8-482a-ba76-d23a9a744b2a",
   "metadata": {},
   "outputs": [
    {
     "data": {
      "text/plain": [
       "{'user': {'id': 264731,\n",
       "  'username': 'upsidedown',\n",
       "  'tiny_photo_url': 'https://avatars-d.ravelrycache.com/upsidedown/122038936/IMG_2763_tiny.JPG',\n",
       "  'small_photo_url': 'https://avatars-d.ravelrycache.com/upsidedown/122038936/IMG_2763_small.JPG',\n",
       "  'photo_url': 'https://avatars-d.ravelrycache.com/upsidedown/122038936/IMG_2763_large.JPG',\n",
       "  'large_photo_url': 'https://avatars-d.ravelrycache.com/upsidedown/122038936/IMG_2763_xlarge.JPG'}}"
      ]
     },
     "execution_count": 10,
     "metadata": {},
     "output_type": "execute_result"
    }
   ],
   "source": [
    "def search_current_user():\n",
    "    \"\"\" returns current (my) user metadata \"\"\"\n",
    "    response =requests.get('https://api.ravelry.com/current_user.json', auth=HTTPBasicAuth(basic_auth_username, basic_auth_password))\n",
    "    if response.status_code != 200:\n",
    "        print(\"Something's not quite right - please take a look, status_code = {}\".format(response.status_code))\n",
    "    else:\n",
    "        return response.json()\n",
    "    \n",
    "search_current_user()"
   ]
  },
  {
   "cell_type": "code",
   "execution_count": 460,
   "id": "4e3f1991-2404-4b92-ac44-b53823418d70",
   "metadata": {},
   "outputs": [],
   "source": [
    "# response =requests.get('https://api.ravelry.com/projects/DonnaYB/list.json?sort=rating_', auth=HTTPBasicAuth(basic_auth_username, basic_auth_password))\n",
    "# response.json()"
   ]
  },
  {
   "cell_type": "markdown",
   "id": "34f2ea1c-480b-466a-93b8-0b1c1bbb2376",
   "metadata": {},
   "source": [
    "### More general Search"
   ]
  },
  {
   "cell_type": "code",
   "execution_count": 138,
   "id": "9e2901ba-dfb5-4bc9-9218-c84deddf6751",
   "metadata": {},
   "outputs": [],
   "source": [
    "# def search(params, endpoint):\n",
    "#         \"\"\" gets data from ravelry api with given end point (string) and parameters (dictionary)\n",
    "#         outlined in the api documentation \"\"\"\n",
    "#         base_url = 'https://api.ravelry.com/'\n",
    "#         params = params\n",
    "#         response =requests.get('https://api.ravelry.com/'+endpoint, params=params,auth=HTTPBasicAuth(basic_auth_username, basic_auth_password))\n",
    "#         if response.status_code != 200:\n",
    "#             print(\"Something's not quite right - please take a look, status_code = {}\".format(response.status_code))\n",
    "#         return(response.json())"
   ]
  },
  {
   "cell_type": "markdown",
   "id": "104319ab-f2ba-4e6c-9edf-51d32f7d9771",
   "metadata": {},
   "source": [
    "#### get pattern categories"
   ]
  },
  {
   "cell_type": "code",
   "execution_count": 142,
   "id": "8a13ce32-00ed-4209-bd24-11527088f7c3",
   "metadata": {},
   "outputs": [],
   "source": [
    "# # get categories\n",
    "# response =requests.get('https://api.ravelry.com/pattern_categories/list.json')\n",
    "# categories = response.json()\n",
    "\n",
    "# # pprint(categories['pattern_categories']['children'])\n",
    "# # ugh - this is too massive!\n",
    "\n",
    "# # Ratings = 4 & knitting"
   ]
  },
  {
   "cell_type": "code",
   "execution_count": null,
   "id": "4ea7de80-c987-4498-b765-46193937c4a4",
   "metadata": {},
   "outputs": [],
   "source": []
  },
  {
   "cell_type": "code",
   "execution_count": null,
   "id": "0ead16d2-8031-43f8-8db2-cf8d62c3a664",
   "metadata": {},
   "outputs": [],
   "source": []
  },
  {
   "cell_type": "code",
   "execution_count": 157,
   "id": "d6327d0c-2053-4616-94a5-8876b936f490",
   "metadata": {},
   "outputs": [],
   "source": [
    "# endpoint = 'patterns/search.json'\n",
    "# params = {'query' : {'craft':'knitting'},\"page\": 1,\"page_size\": 500}# 'year published': '2020'\n",
    "# # params = {'query' : {'craft':'knitting', 'sort by': 'best match'}, 'limit':500, \"page\": 1,\"page_size\": 100}\n",
    "# response =requests.get('https://api.ravelry.com/'+end_point, params=params, auth=HTTPBasicAuth(basic_auth_username, basic_auth_password))\n",
    "# # response =requests.get('https://api.ravelry.com/search.json?patterns/knitting', auth=HTTPBasicAuth(basic_auth_username, basic_auth_password))"
   ]
  },
  {
   "cell_type": "code",
   "execution_count": null,
   "id": "0c336957-be55-43c8-8886-fcc2c071b0f8",
   "metadata": {},
   "outputs": [],
   "source": []
  },
  {
   "cell_type": "markdown",
   "id": "0d6a30fc-0b2d-409d-9e1c-97ada068cc79",
   "metadata": {},
   "source": [
    "## Grab actual patterns"
   ]
  },
  {
   "cell_type": "code",
   "execution_count": 498,
   "id": "59431226-914b-44e5-9977-d957022266b3",
   "metadata": {},
   "outputs": [],
   "source": [
    "# For knitting search:\n",
    "page=2\n",
    "response =requests.get('https://api.ravelry.com/patterns/search.json?craft=knitting&rating=4&sort=created_&page_size=500&page={}'.format(page),auth=HTTPBasicAuth(basic_auth_username, basic_auth_password))\n",
    "search_result = response.json()\n",
    "\n",
    "ids = []\n",
    "for i in range(len(search_result['patterns'])):\n",
    "    ids.append(search_result['patterns'][i]['id'])\n",
    "    \n",
    "id_list = [str(x) for x in ids]\n",
    "spaced_ids = '+'.join(id_list)\n",
    "spaced_ids\n",
    "\n",
    "response =requests.get(f'https://api.ravelry.com/patterns.json?ids={spaced_ids}', auth=HTTPBasicAuth(basic_auth_username, basic_auth_password))\n",
    "patterns = response.json()\n",
    "# patterns"
   ]
  },
  {
   "cell_type": "code",
   "execution_count": 355,
   "id": "3c76d91d-7ae1-43d4-9786-3d39c9ec3e95",
   "metadata": {},
   "outputs": [],
   "source": [
    "# user\n",
    "response =requests.get(f'https://api.ravelry.com/people/264731.json', auth=HTTPBasicAuth(basic_auth_username, basic_auth_password))\n",
    "users = response.json()\n",
    "users"
   ]
  },
  {
   "cell_type": "code",
   "execution_count": 13,
   "id": "600e1fde-b526-44a3-b49e-c284d1587a9e",
   "metadata": {},
   "outputs": [],
   "source": [
    "def get_search_results(page):\n",
    "    response =requests.get(f'https://api.ravelry.com/patterns/search.json?craft=knitting&rating=4&sort=created_&page_size=500&page={page}',auth=HTTPBasicAuth(basic_auth_username, basic_auth_password))\n",
    "    search_results = response.json()\n",
    "    return search_results\n",
    "\n",
    "def get_pattern_details(search_results):\n",
    "    ids = []\n",
    "    for i in range(len(search_result['patterns'])):\n",
    "        ids.append(search_result['patterns'][i]['id'])\n",
    "\n",
    "    id_list = [str(x) for x in ids]\n",
    "    spaced_ids = '+'.join(id_list)\n",
    "    spaced_ids\n",
    "\n",
    "    response =requests.get(f'https://api.ravelry.com/patterns.json?ids={spaced_ids}', auth=HTTPBasicAuth(basic_auth_username, basic_auth_password))\n",
    "    return response.json()"
   ]
  },
  {
   "cell_type": "code",
   "execution_count": 14,
   "id": "bb9a97a6-f6b3-4645-8f61-7014606a9078",
   "metadata": {},
   "outputs": [
    {
     "name": "stdout",
     "output_type": "stream",
     "text": [
      "name 'search_result' is not defined Stopped on page 1\n"
     ]
    }
   ],
   "source": [
    "def get_all_patterns():\n",
    "    try:\n",
    "        for page in range(1,4):\n",
    "            search_results = get_search_results(page)\n",
    "            json_data = get_pattern_details(search_results)\n",
    "            new_parsed_patterns = parse_json_response_into_df(json_data)\n",
    "            \n",
    "#             patterns_df = #append df\n",
    "\n",
    "            print('yay parsed pattterns!')\n",
    "            filter_and_save_csv(new_parsed_patterns)\n",
    "            print('yay saved!')\n",
    "    except Exception as e:\n",
    "            print(e, 'Stopped on page {}'.format(page))\n",
    "#     try:\n",
    "\n",
    "#     except:\n",
    "#         print('uh oh - saving failed')\n",
    "\n",
    "\n",
    "get_all_patterns()"
   ]
  },
  {
   "cell_type": "code",
   "execution_count": 326,
   "id": "5dd4d167-b02f-4565-b36b-9b516938e060",
   "metadata": {},
   "outputs": [],
   "source": [
    "# {'paginator': {'last_page': 1000,\n",
    "#                'page': 1,\n",
    "#                'page_count': 1000,\n",
    "#                'page_size': 100,\n",
    "#                'results': 100000},d"
   ]
  },
  {
   "cell_type": "code",
   "execution_count": null,
   "id": "21d79cf5-1043-4adf-a135-24d5fe2cba3a",
   "metadata": {},
   "outputs": [],
   "source": []
  },
  {
   "cell_type": "markdown",
   "id": "145a9e55-5dea-4707-b63f-a180da8faf07",
   "metadata": {},
   "source": [
    "### For Pattern Details\n",
    "#### For a singular result:"
   ]
  },
  {
   "cell_type": "code",
   "execution_count": 414,
   "id": "38b4490a-19ec-4b6c-beae-69bb3fb8c4b8",
   "metadata": {},
   "outputs": [],
   "source": [
    "# For one result:\n",
    "response =requests.get('https://api.ravelry.com/patterns/573.json',auth=HTTPBasicAuth(basic_auth_username, basic_auth_password))\n",
    "patterns = response.json()\n",
    "# pprint(patterns)"
   ]
  },
  {
   "cell_type": "markdown",
   "id": "a7eef763-eb5c-41a7-a491-73428e55eba7",
   "metadata": {},
   "source": [
    "#### For more than one result:"
   ]
  },
  {
   "cell_type": "code",
   "execution_count": 229,
   "id": "ba2bc30c-54f7-4505-a43d-4c73c73acc48",
   "metadata": {},
   "outputs": [],
   "source": [
    "pattern = response.json()\n",
    "page_count = pattern['paginator']['page_count']\n",
    "last_page = pattern['paginator']['last_page']\n",
    "# pprint(pattern['patterns'])"
   ]
  },
  {
   "cell_type": "code",
   "execution_count": 2,
   "id": "409e28ba-659b-4bab-80b1-9223932e10c0",
   "metadata": {},
   "outputs": [],
   "source": [
    "# Note this only works for multiple call \n",
    "# json_data = response.json()\n",
    "\n",
    "def parse_json_response_into_df(json_data):\n",
    "    \n",
    "#     instantiate lists\n",
    "    id_ = []\n",
    "    name = []\n",
    "    favorites_count = []\n",
    "    projects_count = []\n",
    "    difficulty_average = []\n",
    "    difficulty_count = []\n",
    "    rating_average = []\n",
    "    rating_count = []\n",
    "    pattern_type_id = []\n",
    "    pattern_type_names = []\n",
    "    pattern_type_clothing = []\n",
    "    yarn_weight = []\n",
    "    photos_url =[]\n",
    "    craft_id = []\n",
    "    yarn_weight = []\n",
    "    pattern_needle_sizes = []\n",
    "    yardage = []\n",
    "    yarn_weight_description = []\n",
    "    yardage_max = []\n",
    "    yardage = []\n",
    "    gauge = []\n",
    "    gauge_divisor = []\n",
    "    free = []\n",
    "    downloadable = []\n",
    "    queued_projects_count =[]\n",
    "    attributes = []\n",
    "    generally_available = []\n",
    "    yarn_weight_name = []\n",
    "    yardage_description =[]\n",
    "    pattern_attributes = []\n",
    "    categories = []\n",
    "    name_permalink =[]\n",
    "\n",
    "    # parse json response \n",
    "    for i in pattern['patterns']:\n",
    "        id_.append(pattern['patterns'][i]['id'])\n",
    "        name.append(pattern['patterns'][i]['name'])\n",
    "        name_permalink.append(pattern['patterns'][i]['permalink'])\n",
    "        favorites_count.append(pattern['patterns'][i]['favorites_count'])\n",
    "        projects_count.append(pattern['patterns'][i]['projects_count'])\n",
    "        difficulty_average.append(pattern['patterns'][i]['difficulty_average'])\n",
    "        difficulty_count.append(pattern['patterns'][i]['difficulty_count'])\n",
    "        queued_projects_count.append(pattern['patterns'][i]['queued_projects_count'])\n",
    "        rating_average.append(pattern['patterns'][i]['rating_average'])\n",
    "        rating_count.append(pattern['patterns'][i]['rating_count'])\n",
    "        downloadable.append(pattern['patterns'][i]['downloadable'])\n",
    "        free.append(pattern['patterns'][i]['free'])\n",
    "        gauge_divisor.append(pattern['patterns'][i]['gauge_divisor'])\n",
    "        gauge.append(pattern['patterns'][i]['gauge'])\n",
    "        yardage.append(pattern['patterns'][i]['yardage'])\n",
    "        yardage_max.append(pattern['patterns'][i]['yardage_max'])\n",
    "        yarn_weight_description.append(pattern['patterns'][i]['yarn_weight_description'])\n",
    "        generally_available.append(pattern['patterns'][i]['generally_available'])\n",
    "        yardage_description.append(pattern['patterns'][i]['yardage_description'])\n",
    "        photos_url.append(pattern['patterns'][i]['photos'][0]['square_url'])\n",
    "        pattern_type_clothing.append(pattern['patterns'][i]['pattern_type']['clothing'])\n",
    "        pattern_type_names.append(pattern['patterns'][i]['pattern_type']['permalink'])\n",
    "\n",
    "    #     try:\n",
    "        pattern_needle_sizes.append(pattern['patterns'][i]['pattern_needle_sizes'])\n",
    "    #     except:\n",
    "    #         pattern_needle_sizes.append(None)\n",
    "\n",
    "        attributes = []\n",
    "        try:\n",
    "            for j in range(len(pattern['patterns'][i]['pattern_attributes'])):\n",
    "                attributes.append(pattern['patterns'][i]['pattern_attributes'][j]['permalink'])\n",
    "            pattern_attributes.append(attributes)\n",
    "        except:\n",
    "            pattern_attributes.append('None')\n",
    "\n",
    "        try:\n",
    "            category_dict = pattern['patterns'][i]['pattern_categories'][0]\n",
    "            category_list = []\n",
    "            category_list = [category_dict['permalink']]\n",
    "            new_dict = category_dict['parent']\n",
    "            while 'parent' in new_dict.keys():\n",
    "                category_list.append(new_dict['permalink'])\n",
    "                new_dict = new_dict['parent']\n",
    "            categories.append(category_list)\n",
    "        except:\n",
    "            print(\"uhoh - check out categories!\")\n",
    "            \n",
    "    # assemble dictionary          \n",
    "    data = {'pattern_id':id_,\n",
    "            'name':name,\n",
    "            'name_permalink':name_permalink,\n",
    "            'favorites_count': favorites_count,\n",
    "            'projects_count': projects_count, \n",
    "            'difficulty_average' : difficulty_average, \n",
    "            'difficulty_count': difficulty_count, \n",
    "            'rating_average': rating_average,\n",
    "            'queued_projects_count': queued_projects_count,\n",
    "            'rating_count':rating_count,\n",
    "            'pattern_type_names' :pattern_type_names,\n",
    "            'pattern_type_clothing' :pattern_type_clothing,\n",
    "            'photos_url' :photos_url,\n",
    "            'pattern_needle_sizes' :pattern_needle_sizes,\n",
    "            'pattern_attributes':pattern_attributes,\n",
    "            'yardage_max' :yardage_max,\n",
    "            'yardage' :yardage,\n",
    "            'generally_available':generally_available,\n",
    "            'gauge' :gauge,\n",
    "            'gauge_divisor' :gauge_divisor,\n",
    "            'free' :free,\n",
    "            'downloadable': downloadable,\n",
    "            'categories':categories,\n",
    "            'yarn_weight_description' :yarn_weight_description,   \n",
    "           }\n",
    "    \n",
    "    return pd.DataFrame(data)     "
   ]
  },
  {
   "cell_type": "code",
   "execution_count": 3,
   "id": "6c7be4b3-ab69-4e5e-a2b3-9b861c352bd3",
   "metadata": {},
   "outputs": [
    {
     "ename": "NameError",
     "evalue": "name 'patterns_df' is not defined",
     "output_type": "error",
     "traceback": [
      "\u001b[0;31m---------------------------------------------------------------------------\u001b[0m",
      "\u001b[0;31mNameError\u001b[0m                                 Traceback (most recent call last)",
      "\u001b[0;32m/var/folders/q4/f3xj1m3j2h3fl1lc7921wysh0000gn/T/ipykernel_28701/2707399203.py\u001b[0m in \u001b[0;36m<module>\u001b[0;34m\u001b[0m\n\u001b[0;32m----> 1\u001b[0;31m \u001b[0mpatterns_df\u001b[0m\u001b[0;34m.\u001b[0m\u001b[0mcolumns\u001b[0m\u001b[0;34m\u001b[0m\u001b[0;34m\u001b[0m\u001b[0m\n\u001b[0m",
      "\u001b[0;31mNameError\u001b[0m: name 'patterns_df' is not defined"
     ]
    }
   ],
   "source": [
    "patterns_df.columns"
   ]
  },
  {
   "cell_type": "code",
   "execution_count": 4,
   "id": "845fd4e0-a7e9-4b29-ac31-5f5146114b30",
   "metadata": {},
   "outputs": [],
   "source": [
    "def filter_and_save_csv(df):\n",
    "    # remove any project with less than 5 projects\n",
    "    \n",
    "    # remove any with rating less than equal 3.5\n",
    "    \n",
    "    # do the actual saving\n",
    "    df.to_csv('data/patterns_df.csv', mode =\"a\", index=False)\n",
    "    \n"
   ]
  },
  {
   "cell_type": "code",
   "execution_count": 5,
   "id": "282e79e6-fdea-4163-86bf-8574d068ac47",
   "metadata": {},
   "outputs": [
    {
     "ename": "NameError",
     "evalue": "name 'response' is not defined",
     "output_type": "error",
     "traceback": [
      "\u001b[0;31m---------------------------------------------------------------------------\u001b[0m",
      "\u001b[0;31mNameError\u001b[0m                                 Traceback (most recent call last)",
      "\u001b[0;32m/var/folders/q4/f3xj1m3j2h3fl1lc7921wysh0000gn/T/ipykernel_28701/1850094065.py\u001b[0m in \u001b[0;36m<module>\u001b[0;34m\u001b[0m\n\u001b[0;32m----> 1\u001b[0;31m \u001b[0mpatterns_df\u001b[0m \u001b[0;34m=\u001b[0m \u001b[0mparse_json_response_into_df\u001b[0m\u001b[0;34m(\u001b[0m\u001b[0mresponse\u001b[0m\u001b[0;34m.\u001b[0m\u001b[0mjson\u001b[0m\u001b[0;34m(\u001b[0m\u001b[0;34m)\u001b[0m\u001b[0;34m)\u001b[0m\u001b[0;34m\u001b[0m\u001b[0;34m\u001b[0m\u001b[0m\n\u001b[0m\u001b[1;32m      2\u001b[0m \u001b[0mfilter_and_save_csv\u001b[0m\u001b[0;34m(\u001b[0m\u001b[0mpatterns_df\u001b[0m\u001b[0;34m)\u001b[0m\u001b[0;34m\u001b[0m\u001b[0;34m\u001b[0m\u001b[0m\n",
      "\u001b[0;31mNameError\u001b[0m: name 'response' is not defined"
     ]
    }
   ],
   "source": [
    "patterns_df = parse_json_response_into_df(response.json())\n",
    "filter_and_save_csv(patterns_df)"
   ]
  },
  {
   "cell_type": "code",
   "execution_count": null,
   "id": "b5b465b8-5f6e-4ac4-9295-d34b661e32e3",
   "metadata": {},
   "outputs": [],
   "source": [
    "\n",
    "\n"
   ]
  },
  {
   "cell_type": "code",
   "execution_count": null,
   "id": "f62f2369-2af4-4aa6-b649-4f19afd1aac9",
   "metadata": {},
   "outputs": [],
   "source": []
  }
 ],
 "metadata": {
  "kernelspec": {
   "display_name": "new_bootcamp",
   "language": "python",
   "name": "new_bootcamp"
  },
  "language_info": {
   "codemirror_mode": {
    "name": "ipython",
    "version": 3
   },
   "file_extension": ".py",
   "mimetype": "text/x-python",
   "name": "python",
   "nbconvert_exporter": "python",
   "pygments_lexer": "ipython3",
   "version": "3.8.11"
  }
 },
 "nbformat": 4,
 "nbformat_minor": 5
}
