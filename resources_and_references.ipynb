{
 "cells": [
  {
   "cell_type": "markdown",
   "id": "9774ef68-8965-4fb9-8bdc-310085b937f7",
   "metadata": {},
   "source": [
    "Start here:\n",
    "https://www.datacamp.com/community/tutorials/recommender-systems-python\n",
    "\n",
    "word2 vec representation (don't think I need)\n",
    "https://www.analyticsvidhya.com/blog/2019/07/how-to-build-recommendation-system-word2vec-python/\n",
    "\n",
    "content based:\n",
    "https://www.analyticsvidhya.com/blog/2015/08/beginners-guide-learn-content-based-recommender-systems/\n",
    "\n",
    "In the immortal words of Steve Jobs: “A lot of times, people don’t know what they want until you show it to them.”\n",
    "(source: https://pub.towardsai.net/recommendation-systems-104bdfe3f93f)\n",
    "\n",
    "This one is great! \n",
    "https://medium.com/@medfordxie/what-to-drink-next-a-simple-beer-recommendation-system-using-collaborative-filtering-b65dd32b600d\n",
    "https://medium.com/@medfordxie/what-to-drink-next-a-simple-beer-recommendation-system-using-collaborative-filtering-b65dd32b600d\n",
    "\n",
    "data sets if I need to jump ship\n",
    "https://cseweb.ucsd.edu/~jmcauley/datasets.html\n",
    "\n",
    "recommender system images\n",
    "https://www.google.com/search?rlz=1C5CHFA_enCA795CA795&sxsrf=AOaemvIlk333uswQzF-C-w--VFYuWvaMMg:1637331258238&source=univ&tbm=isch&q=ravelry+recommender+engine+medium&fir=UOSYFxb_13gIdM%252CFGyWhfqmyUawCM%252C_%253By7POHtQfATrRiM%252CFGyWhfqmyUawCM%252C_%253BGP96o1eAo4mXVM%252CbhbxLloNBELAdM%252C_%253B5gGdQ5jT2Y87HM%252CYuGe30z9O0aKhM%252C_%253BMzIK4EXzNoZLpM%252C2Re_mdvx7NFQrM%252C_%253BZmrPMO5jpRrjIM%252CbhbxLloNBELAdM%252C_%253B6xPsdmTqiQDrjM%252CHWQ-wGjBltbcsM%252C_%253BS6bd4omZ6WL3vM%252CYZqoL0m9WMbZzM%252C_%253BQJSdG54WDiFMuM%252CnLEydvJJM-xuYM%252C_%253BG9r0YZVVD-90AM%252C4L5V8KfKrm696M%252C_&usg=AI4_-kRFjHLPNdiXfJG7zb7-J_j0nNtRcQ&sa=X&ved=2ahUKEwiS95qgzqT0AhVCSzABHeZFAgMQjJkEegQIJRAC&biw=1440&bih=677&dpr=2#imgrc=5gGdQ5jT2Y87HM\n",
    "\n",
    "RBM\n",
    "https://towardsdatascience.com/recsys-series-part-7-the-3-variants-of-boltzmann-machines-for-collaborative-filtering-4c002af258f9\n",
    "\n",
    "Spreadsheet for prject sign up and description\n",
    "https://docs.google.com/spreadsheets/d/1jhrh2BTKC2Nj93H56zje1Kxy5WxTRjWHsZmmFqlqi0w/edit#gid=406936251\n",
    "\n",
    "high level\n",
    "https://towardsdatascience.com/knitting-and-recommendations-b9d178a86c97\n",
    "\n",
    "Good explaination how how to hybrid it up \n",
    "https://medium.com/analytics-vidhya/how-to-build-personalized-recommendation-from-scratch-recipes-from-food-com-c7da4507f98"
   ]
  },
  {
   "cell_type": "markdown",
   "id": "b7f61eb5-45a0-40d9-92f3-4eb96720d168",
   "metadata": {},
   "source": [
    "RBM seriers\n",
    "https://towardsdatascience.com/recommendation-system-series-part-1-an-executive-guide-to-building-recommendation-system-608f83e2630a"
   ]
  },
  {
   "cell_type": "code",
   "execution_count": 2,
   "id": "29ce5278-fe99-4663-8d07-5faf4a398ce6",
   "metadata": {},
   "outputs": [
    {
     "ename": "SyntaxError",
     "evalue": "invalid syntax (3374680697.py, line 1)",
     "output_type": "error",
     "traceback": [
      "\u001b[0;36m  File \u001b[0;32m\"/var/folders/q4/f3xj1m3j2h3fl1lc7921wysh0000gn/T/ipykernel_31924/3374680697.py\"\u001b[0;36m, line \u001b[0;32m1\u001b[0m\n\u001b[0;31m    ** https://www.kaggle.com/fdemirok/hybrid-recommendation ** when get into next part\u001b[0m\n\u001b[0m    ^\u001b[0m\n\u001b[0;31mSyntaxError\u001b[0m\u001b[0;31m:\u001b[0m invalid syntax\n"
     ]
    }
   ],
   "source": [
    "** https://www.kaggle.com/fdemirok/hybrid-recommendation ** when get into next part"
   ]
  },
  {
   "cell_type": "code",
   "execution_count": null,
   "id": "cc137384-89f7-419b-a5a4-f6ef6b37da1d",
   "metadata": {},
   "outputs": [],
   "source": []
  }
 ],
 "metadata": {
  "kernelspec": {
   "display_name": "new_bootcamp",
   "language": "python",
   "name": "new_bootcamp"
  },
  "language_info": {
   "codemirror_mode": {
    "name": "ipython",
    "version": 3
   },
   "file_extension": ".py",
   "mimetype": "text/x-python",
   "name": "python",
   "nbconvert_exporter": "python",
   "pygments_lexer": "ipython3",
   "version": "3.8.11"
  }
 },
 "nbformat": 4,
 "nbformat_minor": 5
}
