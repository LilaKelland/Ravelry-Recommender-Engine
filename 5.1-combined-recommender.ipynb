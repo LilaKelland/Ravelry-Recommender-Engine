{
 "cells": [
  {
   "cell_type": "code",
   "execution_count": null,
   "id": "091a9e0d-86a5-4640-91b9-682d4114ec39",
   "metadata": {},
   "outputs": [],
   "source": [
    "Average both together \n",
    "https://medium.com/analytics-vidhya/how-to-build-personalized-recommendation-from-scratch-recipes-from-food-com-c7da4507f98"
   ]
  }
 ],
 "metadata": {
  "kernelspec": {
   "display_name": "test_env",
   "language": "python",
   "name": "test_env"
  },
  "language_info": {
   "codemirror_mode": {
    "name": "ipython",
    "version": 3
   },
   "file_extension": ".py",
   "mimetype": "text/x-python",
   "name": "python",
   "nbconvert_exporter": "python",
   "pygments_lexer": "ipython3",
   "version": "3.6.13"
  }
 },
 "nbformat": 4,
 "nbformat_minor": 5
}
