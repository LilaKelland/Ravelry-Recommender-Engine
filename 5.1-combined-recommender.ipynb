{
 "cells": [
  {
   "cell_type": "markdown",
   "id": "a3c96f2b-5f25-4102-b44a-aa785a96ef29",
   "metadata": {},
   "source": [
    "Average both together \n",
    "\n",
    "# TODO \n",
    "https://medium.com/@farukdemirok/hybrid-recommender-system-811ee411b697 \n",
    "\n",
    "https://medium.com/analytics-vidhya/how-to-build-personalized-recommendation-from-scratch-recipes-from-food-com-c7da4507f98"
   ]
  },
  {
   "cell_type": "code",
   "execution_count": 2,
   "id": "0a919d57-a7a7-496a-8146-0a7035f94f07",
   "metadata": {},
   "outputs": [],
   "source": [
    "import pandas as pd\n",
    "import numpy as np\n",
    "\n",
    "# KNN\n",
    "from sklearn.neighbors import NearestNeighbors\n",
    "from scipy.sparse import csr_matrix\n"
   ]
  },
  {
   "cell_type": "code",
   "execution_count": 22,
   "id": "4f3da65e-fb53-4a94-a906-8672f60b1b1e",
   "metadata": {},
   "outputs": [],
   "source": [
    "pattern_details = pd.read_csv('data/consolidated_patterns.csv', low_memory=False)\n",
    "df = pd.read_csv('data/less_sparse_users_patterns.csv', low_memory=False)\n",
    "# df = pd.read_csv('data/user_projects_cleaned.csv', low_memory=False)"
   ]
  },
  {
   "cell_type": "code",
   "execution_count": 26,
   "id": "60917110-f47f-4bbc-bc83-d5f574f92396",
   "metadata": {},
   "outputs": [],
   "source": [
    "metadata = pattern_details[pattern_details['pattern_id'].isin(df.pattern_ids.values)]\n",
    "user_knit = df\n",
    "user_knit_pivot = user_knit.pivot(index='pattern_ids', columns='user_id', values='has_knit').fillna(0)\n",
    "X = user_knit_pivot.values"
   ]
  },
  {
   "cell_type": "code",
   "execution_count": 14,
   "id": "b54ff9cf-de17-4981-a4ee-e97a90a62efa",
   "metadata": {},
   "outputs": [],
   "source": [
    "svd = TruncatedSVD(n_components=500, random_state =88)\n",
    "matrix = svd.fit_transform(X)"
   ]
  },
  {
   "cell_type": "code",
   "execution_count": 15,
   "id": "63d73586-20ec-4e55-9176-871ce52c00dc",
   "metadata": {},
   "outputs": [],
   "source": [
    "corr = np.corrcoef(matrix)"
   ]
  },
  {
   "cell_type": "code",
   "execution_count": 16,
   "id": "b51daa65-c56e-4ab9-983e-b750f870ebe0",
   "metadata": {},
   "outputs": [],
   "source": [
    "# get pattern id's out \n",
    "pattern_ids = user_knit_pivot.index\n",
    "pattern_ids_list = list(pattern_ids)"
   ]
  },
  {
   "cell_type": "code",
   "execution_count": 23,
   "id": "c51ff54f-50f5-4bd9-b2f9-b39a7d6c5ae3",
   "metadata": {},
   "outputs": [
    {
     "data": {
      "text/plain": [
       "436"
      ]
     },
     "execution_count": 23,
     "metadata": {},
     "output_type": "execute_result"
    }
   ],
   "source": [
    "# len(pattern_ids_list)\n",
    "pattern_ids_list[80]"
   ]
  },
  {
   "cell_type": "code",
   "execution_count": null,
   "id": "c35e106f-fb57-4b34-8a9a-6f68970903f0",
   "metadata": {},
   "outputs": [],
   "source": []
  }
 ],
 "metadata": {
  "kernelspec": {
   "display_name": "test_env",
   "language": "python",
   "name": "test_env"
  },
  "language_info": {
   "codemirror_mode": {
    "name": "ipython",
    "version": 3
   },
   "file_extension": ".py",
   "mimetype": "text/x-python",
   "name": "python",
   "nbconvert_exporter": "python",
   "pygments_lexer": "ipython3",
   "version": "3.6.13"
  }
 },
 "nbformat": 4,
 "nbformat_minor": 5
}
