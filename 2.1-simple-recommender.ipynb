{
 "cells": [
  {
   "cell_type": "markdown",
   "id": "1fbd33d9-81b5-4dae-b5bd-0ffd198ffcd7",
   "metadata": {},
   "source": [
    "## Simple Recommender \n",
    "Based only on overall popularity and ratings.\n",
    "\n",
    "Ratings do not take into account popularity (we could have one person be the only one to rate a pattern, and rate it as 5 - using this metric, that pattern would then be considered better than one that had 1000's of ratings and average of 4.8). We need to take both into consideration and use a weighted average.\n",
    "\n",
    "Ravelry is interesting as it has a few popularity metics other than rating count. Popularity can also be considered by number of people who have it in their queue (planning on making it in the near future), and number of projects completed or attempted should also be considered. \n",
    "\n",
    "Also note - I only took patterns with average ratings of 4 and 5."
   ]
  },
  {
   "cell_type": "code",
   "execution_count": 51,
   "id": "449f2a90-ec88-43ce-8a7c-e12dc6e90576",
   "metadata": {},
   "outputs": [],
   "source": [
    "import pandas as pd\n",
    "import numpy as np"
   ]
  },
  {
   "cell_type": "code",
   "execution_count": 53,
   "id": "5a80aa5a-77be-43e5-8a93-8e4c489cfc07",
   "metadata": {},
   "outputs": [
    {
     "name": "stdout",
     "output_type": "stream",
     "text": [
      "(100, 35)\n"
     ]
    },
    {
     "data": {
      "text/html": [
       "<div>\n",
       "<style scoped>\n",
       "    .dataframe tbody tr th:only-of-type {\n",
       "        vertical-align: middle;\n",
       "    }\n",
       "\n",
       "    .dataframe tbody tr th {\n",
       "        vertical-align: top;\n",
       "    }\n",
       "\n",
       "    .dataframe thead th {\n",
       "        text-align: right;\n",
       "    }\n",
       "</style>\n",
       "<table border=\"1\" class=\"dataframe\">\n",
       "  <thead>\n",
       "    <tr style=\"text-align: right;\">\n",
       "      <th></th>\n",
       "      <th>pattern_id</th>\n",
       "      <th>name</th>\n",
       "      <th>name_permalink</th>\n",
       "      <th>favorites_count</th>\n",
       "      <th>projects_count</th>\n",
       "      <th>difficulty_average</th>\n",
       "      <th>difficulty_count</th>\n",
       "      <th>rating_average</th>\n",
       "      <th>rating_count</th>\n",
       "      <th>pattern_type_id</th>\n",
       "      <th>...</th>\n",
       "      <th>row_gauge</th>\n",
       "      <th>free</th>\n",
       "      <th>downloadable</th>\n",
       "      <th>categories</th>\n",
       "      <th>yarn_weight_description</th>\n",
       "      <th>yarn_weight_id</th>\n",
       "      <th>yarn_weight_name</th>\n",
       "      <th>yarn_weight_ply</th>\n",
       "      <th>yarn_weight_wpi</th>\n",
       "      <th>yarn_weight_knit_gauge</th>\n",
       "    </tr>\n",
       "  </thead>\n",
       "  <tbody>\n",
       "    <tr>\n",
       "      <th>0</th>\n",
       "      <td>10</td>\n",
       "      <td>The Flower Basket Shawl (S-2014)</td>\n",
       "      <td>the-flower-basket-shawl-s-2014</td>\n",
       "      <td>4526</td>\n",
       "      <td>2009</td>\n",
       "      <td>3.887821</td>\n",
       "      <td>936.0</td>\n",
       "      <td>4.466368</td>\n",
       "      <td>892.0</td>\n",
       "      <td>10</td>\n",
       "      <td>...</td>\n",
       "      <td>24.0</td>\n",
       "      <td>False</td>\n",
       "      <td>True</td>\n",
       "      <td>['scarf', 'neck-torso', 'accessories', 'neck-t...</td>\n",
       "      <td>Fingering (14 wpi)</td>\n",
       "      <td>5</td>\n",
       "      <td>Fingering</td>\n",
       "      <td>4</td>\n",
       "      <td>14</td>\n",
       "      <td>28</td>\n",
       "    </tr>\n",
       "    <tr>\n",
       "      <th>1</th>\n",
       "      <td>13</td>\n",
       "      <td>Marilyn's Not-So-Shrunken Cardigan</td>\n",
       "      <td>marilyns-not-so-shrunken-cardigan</td>\n",
       "      <td>731</td>\n",
       "      <td>159</td>\n",
       "      <td>3.000000</td>\n",
       "      <td>78.0</td>\n",
       "      <td>4.266667</td>\n",
       "      <td>75.0</td>\n",
       "      <td>7</td>\n",
       "      <td>...</td>\n",
       "      <td>32.0</td>\n",
       "      <td>False</td>\n",
       "      <td>True</td>\n",
       "      <td>['scarf', 'neck-torso', 'accessories', 'neck-t...</td>\n",
       "      <td>DK / Sport</td>\n",
       "      <td>3</td>\n",
       "      <td>DK / Sport</td>\n",
       "      <td>NaN</td>\n",
       "      <td>NaN</td>\n",
       "      <td>NaN</td>\n",
       "    </tr>\n",
       "    <tr>\n",
       "      <th>2</th>\n",
       "      <td>16</td>\n",
       "      <td>Child's Placket Neck Pullover</td>\n",
       "      <td>childs-placket-neck-pullover</td>\n",
       "      <td>6627</td>\n",
       "      <td>2845</td>\n",
       "      <td>2.972950</td>\n",
       "      <td>1183.0</td>\n",
       "      <td>4.153497</td>\n",
       "      <td>1101.0</td>\n",
       "      <td>17</td>\n",
       "      <td>...</td>\n",
       "      <td>32.0</td>\n",
       "      <td>True</td>\n",
       "      <td>True</td>\n",
       "      <td>['scarf', 'neck-torso', 'accessories', 'neck-t...</td>\n",
       "      <td>DK (11 wpi)</td>\n",
       "      <td>11</td>\n",
       "      <td>DK</td>\n",
       "      <td>8</td>\n",
       "      <td>11</td>\n",
       "      <td>22</td>\n",
       "    </tr>\n",
       "    <tr>\n",
       "      <th>3</th>\n",
       "      <td>17</td>\n",
       "      <td>Pomatomus</td>\n",
       "      <td>pomatomus</td>\n",
       "      <td>11631</td>\n",
       "      <td>5127</td>\n",
       "      <td>4.911640</td>\n",
       "      <td>2354.0</td>\n",
       "      <td>4.471111</td>\n",
       "      <td>2250.0</td>\n",
       "      <td>2</td>\n",
       "      <td>...</td>\n",
       "      <td>12.0</td>\n",
       "      <td>True</td>\n",
       "      <td>True</td>\n",
       "      <td>['scarf', 'neck-torso', 'accessories', 'neck-t...</td>\n",
       "      <td>Fingering (14 wpi)</td>\n",
       "      <td>5</td>\n",
       "      <td>Fingering</td>\n",
       "      <td>4</td>\n",
       "      <td>14</td>\n",
       "      <td>28</td>\n",
       "    </tr>\n",
       "    <tr>\n",
       "      <th>4</th>\n",
       "      <td>20</td>\n",
       "      <td>Amelia Earhart Aviator Cap</td>\n",
       "      <td>amelia-earhart-aviator-cap</td>\n",
       "      <td>3920</td>\n",
       "      <td>873</td>\n",
       "      <td>2.926714</td>\n",
       "      <td>423.0</td>\n",
       "      <td>4.287958</td>\n",
       "      <td>382.0</td>\n",
       "      <td>3</td>\n",
       "      <td>...</td>\n",
       "      <td>NaN</td>\n",
       "      <td>True</td>\n",
       "      <td>True</td>\n",
       "      <td>['scarf', 'neck-torso', 'accessories', 'neck-t...</td>\n",
       "      <td>Worsted (9 wpi)</td>\n",
       "      <td>12</td>\n",
       "      <td>Worsted</td>\n",
       "      <td>10</td>\n",
       "      <td>9</td>\n",
       "      <td>20</td>\n",
       "    </tr>\n",
       "  </tbody>\n",
       "</table>\n",
       "<p>5 rows × 35 columns</p>\n",
       "</div>"
      ],
      "text/plain": [
       "   pattern_id                                name  \\\n",
       "0          10    The Flower Basket Shawl (S-2014)   \n",
       "1          13  Marilyn's Not-So-Shrunken Cardigan   \n",
       "2          16       Child's Placket Neck Pullover   \n",
       "3          17                           Pomatomus   \n",
       "4          20          Amelia Earhart Aviator Cap   \n",
       "\n",
       "                      name_permalink  favorites_count  projects_count  \\\n",
       "0     the-flower-basket-shawl-s-2014             4526            2009   \n",
       "1  marilyns-not-so-shrunken-cardigan              731             159   \n",
       "2       childs-placket-neck-pullover             6627            2845   \n",
       "3                          pomatomus            11631            5127   \n",
       "4         amelia-earhart-aviator-cap             3920             873   \n",
       "\n",
       "   difficulty_average  difficulty_count  rating_average  rating_count  \\\n",
       "0            3.887821             936.0        4.466368         892.0   \n",
       "1            3.000000              78.0        4.266667          75.0   \n",
       "2            2.972950            1183.0        4.153497        1101.0   \n",
       "3            4.911640            2354.0        4.471111        2250.0   \n",
       "4            2.926714             423.0        4.287958         382.0   \n",
       "\n",
       "   pattern_type_id  ... row_gauge   free downloadable  \\\n",
       "0               10  ...      24.0  False         True   \n",
       "1                7  ...      32.0  False         True   \n",
       "2               17  ...      32.0   True         True   \n",
       "3                2  ...      12.0   True         True   \n",
       "4                3  ...       NaN   True         True   \n",
       "\n",
       "                                          categories yarn_weight_description  \\\n",
       "0  ['scarf', 'neck-torso', 'accessories', 'neck-t...      Fingering (14 wpi)   \n",
       "1  ['scarf', 'neck-torso', 'accessories', 'neck-t...              DK / Sport   \n",
       "2  ['scarf', 'neck-torso', 'accessories', 'neck-t...             DK (11 wpi)   \n",
       "3  ['scarf', 'neck-torso', 'accessories', 'neck-t...      Fingering (14 wpi)   \n",
       "4  ['scarf', 'neck-torso', 'accessories', 'neck-t...         Worsted (9 wpi)   \n",
       "\n",
       "  yarn_weight_id yarn_weight_name  yarn_weight_ply  yarn_weight_wpi  \\\n",
       "0              5        Fingering                4               14   \n",
       "1              3       DK / Sport              NaN              NaN   \n",
       "2             11               DK                8               11   \n",
       "3              5        Fingering                4               14   \n",
       "4             12          Worsted               10                9   \n",
       "\n",
       "  yarn_weight_knit_gauge  \n",
       "0                     28  \n",
       "1                    NaN  \n",
       "2                     22  \n",
       "3                     28  \n",
       "4                     20  \n",
       "\n",
       "[5 rows x 35 columns]"
      ]
     },
     "execution_count": 53,
     "metadata": {},
     "output_type": "execute_result"
    }
   ],
   "source": [
    "# import pattern data\n",
    "\n",
    "patterns = pd.read_csv('data/patterns_5star_not_clothing.csv')\n",
    "df = patterns.copy()\n",
    "print(df.shape)\n",
    "df.head()"
   ]
  },
  {
   "cell_type": "code",
   "execution_count": 16,
   "id": "754eccc9-fc5c-4cd4-a733-e247ab531fac",
   "metadata": {},
   "outputs": [
    {
     "name": "stdout",
     "output_type": "stream",
     "text": [
      "<class 'pandas.core.frame.DataFrame'>\n",
      "RangeIndex: 100 entries, 0 to 99\n",
      "Data columns (total 3 columns):\n",
      " #   Column          Non-Null Count  Dtype  \n",
      "---  ------          --------------  -----  \n",
      " 0   pattern_id      100 non-null    int64  \n",
      " 1   rating_count    99 non-null     float64\n",
      " 2   rating_average  100 non-null    float64\n",
      "dtypes: float64(2), int64(1)\n",
      "memory usage: 2.5 KB\n"
     ]
    }
   ],
   "source": [
    "# Only need the rating_count and rating_average columns for simple recommender\n",
    "\n",
    "df = df[['pattern_id', 'rating_count', 'rating_average']]\n",
    "df.info()"
   ]
  },
  {
   "cell_type": "code",
   "execution_count": 17,
   "id": "1da6ebd4-c619-4eec-9a67-f038d62a86c4",
   "metadata": {},
   "outputs": [
    {
     "name": "stdout",
     "output_type": "stream",
     "text": [
      "(99, 3)\n"
     ]
    }
   ],
   "source": [
    "# Drop Nan and average ratings of 0. \n",
    "\n",
    "df.dropna(inplace=True)\n",
    "df\n",
    "print(df.shape)"
   ]
  },
  {
   "cell_type": "markdown",
   "id": "20e254fa-90eb-4775-b48d-e6ecbbbfdc81",
   "metadata": {},
   "source": [
    "#### Calculate Weighted Average\n",
    "To calculate weighted average, we need the overall average for all patterns (mean_average below), rating count (df.rating_count), and rating average (df.rating_average) for each pattern.\n",
    "\n",
    "WeightedRating(WR) = ((c/(c+m))*R) + (m/(c+m))*M\n",
    "\n",
    "c = # rating counts\n",
    "M - mean rating across whole dataset (mean_average)\n",
    "R - average rating for pattern\n",
    "m - minimum number of ratings to be on chart (say, to be in the top 90 percent)\n",
    "\n",
    "##### (reference: https://www.datacamp.com/community/tutorials/recommender-systems-python)"
   ]
  },
  {
   "cell_type": "code",
   "execution_count": 27,
   "id": "4450c766-f6d7-46ee-9e73-76e7877773bc",
   "metadata": {},
   "outputs": [
    {
     "data": {
      "text/plain": [
       "4.198661551852408"
      ]
     },
     "execution_count": 27,
     "metadata": {},
     "output_type": "execute_result"
    }
   ],
   "source": [
    "# Calculate the overall pattern average (M)\n",
    "\n",
    "mean_average = df['rating_average'].mean()\n",
    "mean_average"
   ]
  },
  {
   "cell_type": "code",
   "execution_count": 28,
   "id": "5c62b94d-a7a0-479a-8a18-204ac5ee01fd",
   "metadata": {},
   "outputs": [
    {
     "name": "stdout",
     "output_type": "stream",
     "text": [
      "1048.2000000000003\n"
     ]
    }
   ],
   "source": [
    "# Want the top segment of patterns (only recommending top ones) - look at the top 10%\n",
    "# m is the minimum rating count to get into that segmented\n",
    "\n",
    "# from tues walk though - look at top ratings:\n",
    "# print(book_ratingCount['totalRatingCount'].quantile(np.arange(.9, 1, .01)))\n",
    "m = df['rating_count'].quantile(0.90)\n",
    "print(m)"
   ]
  },
  {
   "cell_type": "code",
   "execution_count": 29,
   "id": "d38c475a-529f-4518-85fb-3ecc904be020",
   "metadata": {},
   "outputs": [
    {
     "data": {
      "text/plain": [
       "(10, 3)"
      ]
     },
     "execution_count": 29,
     "metadata": {},
     "output_type": "execute_result"
    }
   ],
   "source": [
    "top_10percent_count_patterns = df.copy().loc[df['rating_count'] >= m]\n",
    "top_10percent_count_patterns.shape"
   ]
  },
  {
   "cell_type": "code",
   "execution_count": 30,
   "id": "6b867e0e-a0bf-4739-ae97-78f7045f9bbb",
   "metadata": {},
   "outputs": [],
   "source": [
    "def weighted_rating(x, m=m, C=mean_average):\n",
    "    v = x['rating_count']\n",
    "    R = x['rating_average']\n",
    "    # Calculation based on the IMDB formula\n",
    "    return (v/(v+m) * R) + (m/(m+v) * C)"
   ]
  },
  {
   "cell_type": "code",
   "execution_count": null,
   "id": "a4ed135e-0179-4155-8d64-2362b6c6615f",
   "metadata": {},
   "outputs": [],
   "source": []
  },
  {
   "cell_type": "code",
   "execution_count": 36,
   "id": "62d6a9e3-e561-4191-9694-dbc917f526ba",
   "metadata": {},
   "outputs": [],
   "source": [
    "top_10percent_count_patterns['score'] = top_10percent_count_patterns.apply(weighted_rating, axis=1)"
   ]
  },
  {
   "cell_type": "code",
   "execution_count": 37,
   "id": "f405eb04-9cf6-47ad-83ee-720786651dd8",
   "metadata": {},
   "outputs": [],
   "source": [
    "top_10percent_count_patterns = top_10percent_count_patterns.sort_values('score', ascending=False)"
   ]
  },
  {
   "cell_type": "code",
   "execution_count": 38,
   "id": "9ad5e499-223f-467a-8779-902615246f6a",
   "metadata": {},
   "outputs": [
    {
     "data": {
      "text/html": [
       "<div>\n",
       "<style scoped>\n",
       "    .dataframe tbody tr th:only-of-type {\n",
       "        vertical-align: middle;\n",
       "    }\n",
       "\n",
       "    .dataframe tbody tr th {\n",
       "        vertical-align: top;\n",
       "    }\n",
       "\n",
       "    .dataframe thead th {\n",
       "        text-align: right;\n",
       "    }\n",
       "</style>\n",
       "<table border=\"1\" class=\"dataframe\">\n",
       "  <thead>\n",
       "    <tr style=\"text-align: right;\">\n",
       "      <th></th>\n",
       "      <th>pattern_id</th>\n",
       "      <th>rating_count</th>\n",
       "      <th>rating_average</th>\n",
       "      <th>score</th>\n",
       "    </tr>\n",
       "  </thead>\n",
       "  <tbody>\n",
       "    <tr>\n",
       "      <th>29</th>\n",
       "      <td>54</td>\n",
       "      <td>3226.0</td>\n",
       "      <td>4.532858</td>\n",
       "      <td>4.450900</td>\n",
       "    </tr>\n",
       "    <tr>\n",
       "      <th>93</th>\n",
       "      <td>140</td>\n",
       "      <td>3186.0</td>\n",
       "      <td>4.525738</td>\n",
       "      <td>4.444768</td>\n",
       "    </tr>\n",
       "    <tr>\n",
       "      <th>11</th>\n",
       "      <td>29</td>\n",
       "      <td>8501.0</td>\n",
       "      <td>4.432537</td>\n",
       "      <td>4.406865</td>\n",
       "    </tr>\n",
       "    <tr>\n",
       "      <th>3</th>\n",
       "      <td>17</td>\n",
       "      <td>2250.0</td>\n",
       "      <td>4.471111</td>\n",
       "      <td>4.384524</td>\n",
       "    </tr>\n",
       "    <tr>\n",
       "      <th>68</th>\n",
       "      <td>108</td>\n",
       "      <td>2242.0</td>\n",
       "      <td>4.461195</td>\n",
       "      <td>4.377557</td>\n",
       "    </tr>\n",
       "    <tr>\n",
       "      <th>42</th>\n",
       "      <td>71</td>\n",
       "      <td>1858.0</td>\n",
       "      <td>4.450484</td>\n",
       "      <td>4.359658</td>\n",
       "    </tr>\n",
       "    <tr>\n",
       "      <th>18</th>\n",
       "      <td>38</td>\n",
       "      <td>1115.0</td>\n",
       "      <td>4.401794</td>\n",
       "      <td>4.303364</td>\n",
       "    </tr>\n",
       "    <tr>\n",
       "      <th>19</th>\n",
       "      <td>40</td>\n",
       "      <td>4367.0</td>\n",
       "      <td>4.265858</td>\n",
       "      <td>4.252851</td>\n",
       "    </tr>\n",
       "    <tr>\n",
       "      <th>54</th>\n",
       "      <td>88</td>\n",
       "      <td>6619.0</td>\n",
       "      <td>4.225412</td>\n",
       "      <td>4.221755</td>\n",
       "    </tr>\n",
       "    <tr>\n",
       "      <th>2</th>\n",
       "      <td>16</td>\n",
       "      <td>1101.0</td>\n",
       "      <td>4.153497</td>\n",
       "      <td>4.175524</td>\n",
       "    </tr>\n",
       "  </tbody>\n",
       "</table>\n",
       "</div>"
      ],
      "text/plain": [
       "    pattern_id  rating_count  rating_average     score\n",
       "29          54        3226.0        4.532858  4.450900\n",
       "93         140        3186.0        4.525738  4.444768\n",
       "11          29        8501.0        4.432537  4.406865\n",
       "3           17        2250.0        4.471111  4.384524\n",
       "68         108        2242.0        4.461195  4.377557\n",
       "42          71        1858.0        4.450484  4.359658\n",
       "18          38        1115.0        4.401794  4.303364\n",
       "19          40        4367.0        4.265858  4.252851\n",
       "54          88        6619.0        4.225412  4.221755\n",
       "2           16        1101.0        4.153497  4.175524"
      ]
     },
     "execution_count": 38,
     "metadata": {},
     "output_type": "execute_result"
    }
   ],
   "source": [
    "top_10percent_count_patterns"
   ]
  },
  {
   "cell_type": "code",
   "execution_count": 64,
   "id": "6205e2aa-8782-4404-8518-c25e4ad365f3",
   "metadata": {},
   "outputs": [],
   "source": [
    "top_patterns = top_10percent_count_patterns.merge(patterns[['pattern_id','name','photos_url']], on='pattern_id', how = 'left')"
   ]
  },
  {
   "cell_type": "code",
   "execution_count": 65,
   "id": "0a44f3ea-e34a-421f-bac7-11f4e0b04860",
   "metadata": {},
   "outputs": [
    {
     "data": {
      "text/html": [
       "<div>\n",
       "<style scoped>\n",
       "    .dataframe tbody tr th:only-of-type {\n",
       "        vertical-align: middle;\n",
       "    }\n",
       "\n",
       "    .dataframe tbody tr th {\n",
       "        vertical-align: top;\n",
       "    }\n",
       "\n",
       "    .dataframe thead th {\n",
       "        text-align: right;\n",
       "    }\n",
       "</style>\n",
       "<table border=\"1\" class=\"dataframe\">\n",
       "  <thead>\n",
       "    <tr style=\"text-align: right;\">\n",
       "      <th></th>\n",
       "      <th>name</th>\n",
       "      <th>score</th>\n",
       "      <th>rating_count</th>\n",
       "      <th>photos_url</th>\n",
       "    </tr>\n",
       "  </thead>\n",
       "  <tbody>\n",
       "    <tr>\n",
       "      <th>0</th>\n",
       "      <td>Felted Clogs (AC33e)</td>\n",
       "      <td>4.450900</td>\n",
       "      <td>3226.0</td>\n",
       "      <td>https://images4-g.ravelrycache.com/uploads/FTk...</td>\n",
       "    </tr>\n",
       "    <tr>\n",
       "      <th>1</th>\n",
       "      <td>Irish Hiking Scarf</td>\n",
       "      <td>4.444768</td>\n",
       "      <td>3186.0</td>\n",
       "      <td>https://images4-f.ravelrycache.com/uploads/cas...</td>\n",
       "    </tr>\n",
       "    <tr>\n",
       "      <th>2</th>\n",
       "      <td>Clapotis</td>\n",
       "      <td>4.406865</td>\n",
       "      <td>8501.0</td>\n",
       "      <td>https://images4-g.ravelrycache.com/uploads/cas...</td>\n",
       "    </tr>\n",
       "    <tr>\n",
       "      <th>3</th>\n",
       "      <td>Pomatomus</td>\n",
       "      <td>4.384524</td>\n",
       "      <td>2250.0</td>\n",
       "      <td>https://images4-g.ravelrycache.com/uploads/fre...</td>\n",
       "    </tr>\n",
       "    <tr>\n",
       "      <th>4</th>\n",
       "      <td>#13 Central Park Hoodie</td>\n",
       "      <td>4.377557</td>\n",
       "      <td>2242.0</td>\n",
       "      <td>https://images4-g.ravelrycache.com/uploads/mck...</td>\n",
       "    </tr>\n",
       "    <tr>\n",
       "      <th>5</th>\n",
       "      <td>Endpaper Mitts</td>\n",
       "      <td>4.359658</td>\n",
       "      <td>1858.0</td>\n",
       "      <td>https://images4-f.ravelrycache.com/uploads/yar...</td>\n",
       "    </tr>\n",
       "    <tr>\n",
       "      <th>6</th>\n",
       "      <td>Icarus Shawl</td>\n",
       "      <td>4.303364</td>\n",
       "      <td>1115.0</td>\n",
       "      <td>https://images4-g.ravelrycache.com/uploads/cas...</td>\n",
       "    </tr>\n",
       "    <tr>\n",
       "      <th>7</th>\n",
       "      <td>Jaywalker</td>\n",
       "      <td>4.252851</td>\n",
       "      <td>4367.0</td>\n",
       "      <td>https://images4-g.ravelrycache.com/uploads/San...</td>\n",
       "    </tr>\n",
       "    <tr>\n",
       "      <th>8</th>\n",
       "      <td>Calorimetry</td>\n",
       "      <td>4.221755</td>\n",
       "      <td>6619.0</td>\n",
       "      <td>https://images4-f.ravelrycache.com/uploads/cas...</td>\n",
       "    </tr>\n",
       "    <tr>\n",
       "      <th>9</th>\n",
       "      <td>Child's Placket Neck Pullover</td>\n",
       "      <td>4.175524</td>\n",
       "      <td>1101.0</td>\n",
       "      <td>https://images4-g.ravelrycache.com/uploads/Col...</td>\n",
       "    </tr>\n",
       "  </tbody>\n",
       "</table>\n",
       "</div>"
      ],
      "text/plain": [
       "                            name     score  rating_count  \\\n",
       "0           Felted Clogs (AC33e)  4.450900        3226.0   \n",
       "1             Irish Hiking Scarf  4.444768        3186.0   \n",
       "2                       Clapotis  4.406865        8501.0   \n",
       "3                      Pomatomus  4.384524        2250.0   \n",
       "4        #13 Central Park Hoodie  4.377557        2242.0   \n",
       "5                 Endpaper Mitts  4.359658        1858.0   \n",
       "6                   Icarus Shawl  4.303364        1115.0   \n",
       "7                      Jaywalker  4.252851        4367.0   \n",
       "8                    Calorimetry  4.221755        6619.0   \n",
       "9  Child's Placket Neck Pullover  4.175524        1101.0   \n",
       "\n",
       "                                          photos_url  \n",
       "0  https://images4-g.ravelrycache.com/uploads/FTk...  \n",
       "1  https://images4-f.ravelrycache.com/uploads/cas...  \n",
       "2  https://images4-g.ravelrycache.com/uploads/cas...  \n",
       "3  https://images4-g.ravelrycache.com/uploads/fre...  \n",
       "4  https://images4-g.ravelrycache.com/uploads/mck...  \n",
       "5  https://images4-f.ravelrycache.com/uploads/yar...  \n",
       "6  https://images4-g.ravelrycache.com/uploads/cas...  \n",
       "7  https://images4-g.ravelrycache.com/uploads/San...  \n",
       "8  https://images4-f.ravelrycache.com/uploads/cas...  \n",
       "9  https://images4-g.ravelrycache.com/uploads/Col...  "
      ]
     },
     "execution_count": 65,
     "metadata": {},
     "output_type": "execute_result"
    }
   ],
   "source": [
    "top_patterns[['name', 'score', 'rating_count', 'photos_url']]"
   ]
  },
  {
   "cell_type": "markdown",
   "id": "c7c0e5ce-3c6c-4819-97a7-8bf63cabc781",
   "metadata": {},
   "source": [
    "### Simple recommender on most projects \n",
    "(curently a ravelry search feature)"
   ]
  },
  {
   "cell_type": "code",
   "execution_count": null,
   "id": "b3663bcc-02d2-4e43-abba-2c5cdd6bf549",
   "metadata": {},
   "outputs": [],
   "source": []
  },
  {
   "cell_type": "code",
   "execution_count": null,
   "id": "cd4abb92-ffc9-4ac3-9cfd-8551fd7a60b9",
   "metadata": {},
   "outputs": [],
   "source": []
  },
  {
   "cell_type": "code",
   "execution_count": null,
   "id": "8b722249-0586-4d7a-a550-507959e1dd81",
   "metadata": {},
   "outputs": [],
   "source": []
  },
  {
   "cell_type": "markdown",
   "id": "1ed5c56f-389d-4958-90df-080cd6a22161",
   "metadata": {},
   "source": [
    "### Simple recommender on most favourited projects \n",
    "(curently a ravelry search feature)"
   ]
  },
  {
   "cell_type": "code",
   "execution_count": null,
   "id": "d893616d-29ae-45ac-94eb-4b76eb578956",
   "metadata": {},
   "outputs": [],
   "source": [
    "df[['pattern_id', 'name', 'favorites_count']]"
   ]
  },
  {
   "cell_type": "code",
   "execution_count": null,
   "id": "188e6850-616d-4fa7-8011-8cb35d59daa1",
   "metadata": {},
   "outputs": [],
   "source": []
  },
  {
   "cell_type": "code",
   "execution_count": null,
   "id": "01107867-d566-43a7-88f1-963cf7453367",
   "metadata": {},
   "outputs": [],
   "source": []
  },
  {
   "cell_type": "markdown",
   "id": "6d4abcc1-ba8e-43f1-845b-cfd735f9e51d",
   "metadata": {},
   "source": [
    "### Favouites to projects ratio \n",
    "(everything above a 90 percent project count threshold)"
   ]
  },
  {
   "cell_type": "code",
   "execution_count": 46,
   "id": "6e131633-ddd8-4790-885d-e508506af563",
   "metadata": {},
   "outputs": [
    {
     "data": {
      "text/plain": [
       "Index(['pattern_id', 'name', 'name_permalink', 'favorites_count',\n",
       "       'projects_count', 'difficulty_average', 'difficulty_count',\n",
       "       'rating_average', 'rating_count', 'pattern_type_id',\n",
       "       'pattern_type_names', 'pattern_type_clothing', 'photos_url', 'craft_id',\n",
       "       'url', 'pattern_attributes', 'yardage_max', 'yardage',\n",
       "       'yardage_description', 'generally_available', 'published', 'gauge',\n",
       "       'gauge_pattern', 'gauge_divisor', 'row_gauge', 'free', 'downloadable',\n",
       "       'categories', 'yarn_weight_description', 'yarn_weight_id',\n",
       "       'yarn_weight_name', 'yarn_weight_ply', 'yarn_weight_wpi',\n",
       "       'yarn_weight_knit_gauge'],\n",
       "      dtype='object')"
      ]
     },
     "execution_count": 46,
     "metadata": {},
     "output_type": "execute_result"
    }
   ],
   "source": [
    "df.columns"
   ]
  },
  {
   "cell_type": "code",
   "execution_count": 45,
   "id": "6077d571-b914-449c-9a58-8ff4b1171bfb",
   "metadata": {},
   "outputs": [
    {
     "ename": "KeyError",
     "evalue": "'project_count'",
     "output_type": "error",
     "traceback": [
      "\u001b[0;31m---------------------------------------------------------------------------\u001b[0m",
      "\u001b[0;31mKeyError\u001b[0m                                  Traceback (most recent call last)",
      "\u001b[0;32m~/opt/anaconda3/envs/test_env/lib/python3.6/site-packages/pandas/core/indexes/base.py\u001b[0m in \u001b[0;36mget_loc\u001b[0;34m(self, key, method, tolerance)\u001b[0m\n\u001b[1;32m   2897\u001b[0m             \u001b[0;32mtry\u001b[0m\u001b[0;34m:\u001b[0m\u001b[0;34m\u001b[0m\u001b[0;34m\u001b[0m\u001b[0m\n\u001b[0;32m-> 2898\u001b[0;31m                 \u001b[0;32mreturn\u001b[0m \u001b[0mself\u001b[0m\u001b[0;34m.\u001b[0m\u001b[0m_engine\u001b[0m\u001b[0;34m.\u001b[0m\u001b[0mget_loc\u001b[0m\u001b[0;34m(\u001b[0m\u001b[0mcasted_key\u001b[0m\u001b[0;34m)\u001b[0m\u001b[0;34m\u001b[0m\u001b[0;34m\u001b[0m\u001b[0m\n\u001b[0m\u001b[1;32m   2899\u001b[0m             \u001b[0;32mexcept\u001b[0m \u001b[0mKeyError\u001b[0m \u001b[0;32mas\u001b[0m \u001b[0merr\u001b[0m\u001b[0;34m:\u001b[0m\u001b[0;34m\u001b[0m\u001b[0;34m\u001b[0m\u001b[0m\n",
      "\u001b[0;32mpandas/_libs/index.pyx\u001b[0m in \u001b[0;36mpandas._libs.index.IndexEngine.get_loc\u001b[0;34m()\u001b[0m\n",
      "\u001b[0;32mpandas/_libs/index.pyx\u001b[0m in \u001b[0;36mpandas._libs.index.IndexEngine.get_loc\u001b[0;34m()\u001b[0m\n",
      "\u001b[0;32mpandas/_libs/hashtable_class_helper.pxi\u001b[0m in \u001b[0;36mpandas._libs.hashtable.PyObjectHashTable.get_item\u001b[0;34m()\u001b[0m\n",
      "\u001b[0;32mpandas/_libs/hashtable_class_helper.pxi\u001b[0m in \u001b[0;36mpandas._libs.hashtable.PyObjectHashTable.get_item\u001b[0;34m()\u001b[0m\n",
      "\u001b[0;31mKeyError\u001b[0m: 'project_count'",
      "\nThe above exception was the direct cause of the following exception:\n",
      "\u001b[0;31mKeyError\u001b[0m                                  Traceback (most recent call last)",
      "\u001b[0;32m<ipython-input-45-8ccc640e014e>\u001b[0m in \u001b[0;36m<module>\u001b[0;34m\u001b[0m\n\u001b[0;32m----> 1\u001b[0;31m \u001b[0mm\u001b[0m \u001b[0;34m=\u001b[0m \u001b[0mdf\u001b[0m\u001b[0;34m[\u001b[0m\u001b[0;34m'project_count'\u001b[0m\u001b[0;34m]\u001b[0m\u001b[0;34m.\u001b[0m\u001b[0mquantile\u001b[0m\u001b[0;34m(\u001b[0m\u001b[0;36m0.90\u001b[0m\u001b[0;34m)\u001b[0m\u001b[0;34m\u001b[0m\u001b[0;34m\u001b[0m\u001b[0m\n\u001b[0m\u001b[1;32m      2\u001b[0m \u001b[0mprint\u001b[0m\u001b[0;34m(\u001b[0m\u001b[0mm\u001b[0m\u001b[0;34m)\u001b[0m\u001b[0;34m\u001b[0m\u001b[0;34m\u001b[0m\u001b[0m\n",
      "\u001b[0;32m~/opt/anaconda3/envs/test_env/lib/python3.6/site-packages/pandas/core/frame.py\u001b[0m in \u001b[0;36m__getitem__\u001b[0;34m(self, key)\u001b[0m\n\u001b[1;32m   2904\u001b[0m             \u001b[0;32mif\u001b[0m \u001b[0mself\u001b[0m\u001b[0;34m.\u001b[0m\u001b[0mcolumns\u001b[0m\u001b[0;34m.\u001b[0m\u001b[0mnlevels\u001b[0m \u001b[0;34m>\u001b[0m \u001b[0;36m1\u001b[0m\u001b[0;34m:\u001b[0m\u001b[0;34m\u001b[0m\u001b[0;34m\u001b[0m\u001b[0m\n\u001b[1;32m   2905\u001b[0m                 \u001b[0;32mreturn\u001b[0m \u001b[0mself\u001b[0m\u001b[0;34m.\u001b[0m\u001b[0m_getitem_multilevel\u001b[0m\u001b[0;34m(\u001b[0m\u001b[0mkey\u001b[0m\u001b[0;34m)\u001b[0m\u001b[0;34m\u001b[0m\u001b[0;34m\u001b[0m\u001b[0m\n\u001b[0;32m-> 2906\u001b[0;31m             \u001b[0mindexer\u001b[0m \u001b[0;34m=\u001b[0m \u001b[0mself\u001b[0m\u001b[0;34m.\u001b[0m\u001b[0mcolumns\u001b[0m\u001b[0;34m.\u001b[0m\u001b[0mget_loc\u001b[0m\u001b[0;34m(\u001b[0m\u001b[0mkey\u001b[0m\u001b[0;34m)\u001b[0m\u001b[0;34m\u001b[0m\u001b[0;34m\u001b[0m\u001b[0m\n\u001b[0m\u001b[1;32m   2907\u001b[0m             \u001b[0;32mif\u001b[0m \u001b[0mis_integer\u001b[0m\u001b[0;34m(\u001b[0m\u001b[0mindexer\u001b[0m\u001b[0;34m)\u001b[0m\u001b[0;34m:\u001b[0m\u001b[0;34m\u001b[0m\u001b[0;34m\u001b[0m\u001b[0m\n\u001b[1;32m   2908\u001b[0m                 \u001b[0mindexer\u001b[0m \u001b[0;34m=\u001b[0m \u001b[0;34m[\u001b[0m\u001b[0mindexer\u001b[0m\u001b[0;34m]\u001b[0m\u001b[0;34m\u001b[0m\u001b[0;34m\u001b[0m\u001b[0m\n",
      "\u001b[0;32m~/opt/anaconda3/envs/test_env/lib/python3.6/site-packages/pandas/core/indexes/base.py\u001b[0m in \u001b[0;36mget_loc\u001b[0;34m(self, key, method, tolerance)\u001b[0m\n\u001b[1;32m   2898\u001b[0m                 \u001b[0;32mreturn\u001b[0m \u001b[0mself\u001b[0m\u001b[0;34m.\u001b[0m\u001b[0m_engine\u001b[0m\u001b[0;34m.\u001b[0m\u001b[0mget_loc\u001b[0m\u001b[0;34m(\u001b[0m\u001b[0mcasted_key\u001b[0m\u001b[0;34m)\u001b[0m\u001b[0;34m\u001b[0m\u001b[0;34m\u001b[0m\u001b[0m\n\u001b[1;32m   2899\u001b[0m             \u001b[0;32mexcept\u001b[0m \u001b[0mKeyError\u001b[0m \u001b[0;32mas\u001b[0m \u001b[0merr\u001b[0m\u001b[0;34m:\u001b[0m\u001b[0;34m\u001b[0m\u001b[0;34m\u001b[0m\u001b[0m\n\u001b[0;32m-> 2900\u001b[0;31m                 \u001b[0;32mraise\u001b[0m \u001b[0mKeyError\u001b[0m\u001b[0;34m(\u001b[0m\u001b[0mkey\u001b[0m\u001b[0;34m)\u001b[0m \u001b[0;32mfrom\u001b[0m \u001b[0merr\u001b[0m\u001b[0;34m\u001b[0m\u001b[0;34m\u001b[0m\u001b[0m\n\u001b[0m\u001b[1;32m   2901\u001b[0m \u001b[0;34m\u001b[0m\u001b[0m\n\u001b[1;32m   2902\u001b[0m         \u001b[0;32mif\u001b[0m \u001b[0mtolerance\u001b[0m \u001b[0;32mis\u001b[0m \u001b[0;32mnot\u001b[0m \u001b[0;32mNone\u001b[0m\u001b[0;34m:\u001b[0m\u001b[0;34m\u001b[0m\u001b[0;34m\u001b[0m\u001b[0m\n",
      "\u001b[0;31mKeyError\u001b[0m: 'project_count'"
     ]
    }
   ],
   "source": [
    "m = df['project_count'].quantile(0.90)\n",
    "print(m)"
   ]
  },
  {
   "cell_type": "code",
   "execution_count": null,
   "id": "ca287431-aea9-4db7-a428-4e1a059df2a4",
   "metadata": {},
   "outputs": [],
   "source": []
  }
 ],
 "metadata": {
  "kernelspec": {
   "display_name": "test_env",
   "language": "python",
   "name": "test_env"
  },
  "language_info": {
   "codemirror_mode": {
    "name": "ipython",
    "version": 3
   },
   "file_extension": ".py",
   "mimetype": "text/x-python",
   "name": "python",
   "nbconvert_exporter": "python",
   "pygments_lexer": "ipython3",
   "version": "3.6.13"
  }
 },
 "nbformat": 4,
 "nbformat_minor": 5
}
