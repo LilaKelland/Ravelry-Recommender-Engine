{
 "cells": [
  {
   "cell_type": "markdown",
   "id": "4a6ab610-d302-4ab0-ba0a-6bc3ca3c5e4c",
   "metadata": {},
   "source": [
    "## Collaborative Recommender \n",
    "based on user behaviour \n",
    "\n",
    "**** https://www.kaggle.com/zolboo/recommender-systems-knn-svd-nn-keras/notebook\n",
    "\n",
    "Use implicit package for python\n",
    "https://implicit.readthedocs.io/en/latest/models.html"
   ]
  },
  {
   "cell_type": "code",
   "execution_count": 74,
   "id": "2b6bb936-3405-46b7-9795-694d6c6945b7",
   "metadata": {},
   "outputs": [],
   "source": [
    "import pandas as pd\n",
    "import numpy as np\n",
    "import matplotlib.pyplot as plt\n",
    "from sklearn.neighbors import NearestNeighbors"
   ]
  },
  {
   "cell_type": "code",
   "execution_count": 239,
   "id": "189df4e5-60de-4b8f-9a9a-247d680a5640",
   "metadata": {},
   "outputs": [],
   "source": [
    "df1 = pd.read_csv('data/users_projects_0-100.csv')\n",
    "df2 = pd.read_csv('data/users_projects_100-300.csv')\n",
    "df3 = pd.read_csv('data/users_projects_300-500.csv')\n",
    "df4 = pd.read_csv('data/users_projects_500-700.csv')\n",
    "df5 = pd.read_csv('data/users_projects_700-900.csv')\n",
    "df6 = pd.read_csv('data/users_projects_900-1100.csv')\n",
    "df7 = pd.read_csv('data/users_projects_1100-1300.csv')\n",
    "df8 = pd.read_csv('data/users_projects_1300-1500.csv')\n",
    "df9 = pd.read_csv('data/users_projects_1500-1700.csv')# this one will need to be redone\n",
    "df10 = pd.read_csv('data/users_projects_1700-1900.csv')\n",
    "df11 = pd.read_csv('data/users_projects_1887-1900.csv')\n",
    "df12 = pd.read_csv('data/users_projects_1900-2100.csv')\n",
    "df13 = pd.read_csv('data/users_projects_2100-2300.csv')\n",
    "df14 = pd.read_csv('data/users_projects_2300-2500.csv')\n",
    "df15 = pd.read_csv('data/users_projects_2500-2700.csv')\n",
    "df16 = pd.read_csv('data/users_projects_2700-2900.csv')\n",
    "df17 = pd.read_csv('data/users_projects_2900-2962.csv')\n",
    "\n",
    "pattern_details = pd.read_csv('data/consolidated_patterns.csv', low_memory=False)\n",
    "# this needs to be repaced with cleaned data?"
   ]
  },
  {
   "cell_type": "code",
   "execution_count": 240,
   "id": "ef984fed-39af-4572-a5db-65c335cef2e0",
   "metadata": {},
   "outputs": [
    {
     "data": {
      "text/plain": [
       "((343032, 4),\n",
       " (386356, 4),\n",
       " (248913, 4),\n",
       " (210382, 4),\n",
       " (171374, 4),\n",
       " (161808, 4),\n",
       " (281092, 4),\n",
       " (279575, 4),\n",
       " (596740, 4),\n",
       " (813227, 4),\n",
       " (35527, 4),\n",
       " (366425, 4),\n",
       " (298682, 4),\n",
       " (252212, 4),\n",
       " (220635, 4),\n",
       " (185410, 4),\n",
       " (44375, 4))"
      ]
     },
     "execution_count": 240,
     "metadata": {},
     "output_type": "execute_result"
    }
   ],
   "source": [
    "(df1.shape, df2.shape, df3.shape, df4.shape, \n",
    " df5.shape, df6.shape, df7.shape, df8.shape,\n",
    " df9.shape, df10.shape, df11.shape,df12.shape,\n",
    " df13.shape, df14.shape, df15.shape,df16.shape, df17.shape\n",
    ")"
   ]
  },
  {
   "cell_type": "code",
   "execution_count": 241,
   "id": "74e78ae9-6f99-4422-be71-5cac8e0192a5",
   "metadata": {},
   "outputs": [
    {
     "data": {
      "text/plain": [
       "(4895765, 4)"
      ]
     },
     "execution_count": 241,
     "metadata": {},
     "output_type": "execute_result"
    }
   ],
   "source": [
    "# For full set\n",
    "df = df1.append(df2, ignore_index=True)\n",
    "df = df.append(df3, ignore_index=True)\n",
    "df = df.append(df4, ignore_index=True)\n",
    "df = df.append(df5, ignore_index=True)\n",
    "df = df.append(df6, ignore_index=True)\n",
    "df = df.append(df7, ignore_index=True)\n",
    "df = df.append(df8, ignore_index=True)\n",
    "df = df.append(df9, ignore_index=True)\n",
    "df = df.append(df10, ignore_index=True)\n",
    "df = df.append(df11, ignore_index=True)\n",
    "df = df.append(df12, ignore_index=True)\n",
    "df = df.append(df13, ignore_index=True)\n",
    "df = df.append(df14, ignore_index=True)\n",
    "df = df.append(df15, ignore_index=True)\n",
    "df = df.append(df16, ignore_index=True)\n",
    "df = df.append(df17, ignore_index=True)\n",
    "df.shape"
   ]
  },
  {
   "cell_type": "code",
   "execution_count": null,
   "id": "564411ef-0f16-48cf-9f7b-cf26213150bb",
   "metadata": {},
   "outputs": [],
   "source": [
    "# # use these plots from https://towardsdatascience.com/building-and-testing-recommender-systems-with-surprise-step-by-step-d4ba702ef80b\n",
    "# # Number of ratings per user\n",
    "# data = df.groupby('userID')['bookRating'].count().clip(upper=50)\n",
    "\n",
    "# # Create trace\n",
    "# trace = go.Histogram(x = data.values,\n",
    "#                      name = 'Ratings',\n",
    "#                      xbins = dict(start = 0,\n",
    "#                                   end = 50,\n",
    "#                                   size = 2))\n",
    "# # Create layout\n",
    "# layout = go.Layout(title = 'Distribution Of Number of Ratings Per User (Clipped at 50)',\n",
    "#                    xaxis = dict(title = 'Ratings Per User'),\n",
    "#                    yaxis = dict(title = 'Count'),\n",
    "#                    bargap = 0.2)\n",
    "\n",
    "# # Create plot\n",
    "# fig = go.Figure(data=[trace], layout=layout)\n",
    "# iplot(fig)"
   ]
  },
  {
   "cell_type": "code",
   "execution_count": 242,
   "id": "9375a132-159d-4120-b729-d3bc74c07910",
   "metadata": {},
   "outputs": [],
   "source": [
    "# Clean data and save\n",
    "\n",
    "# remove accidental headers\n",
    "df = df.drop(df[df['user_id']=='user_id'].index)\n",
    "\n",
    "# remove douplicates\n",
    "df = df.drop_duplicates()\n",
    "\n",
    "# reset index\n",
    "df.reset_index(inplace=True, drop=True)\n",
    "\n",
    "# df.to_csv('data/user_projects_cleaned.csv', index=False)"
   ]
  },
  {
   "cell_type": "code",
   "execution_count": 243,
   "id": "560fa045-acb6-4fd5-a41a-7814cd6c58d5",
   "metadata": {},
   "outputs": [
    {
     "data": {
      "text/plain": [
       "(4478010, 4)"
      ]
     },
     "execution_count": 243,
     "metadata": {},
     "output_type": "execute_result"
    }
   ],
   "source": [
    "df.shape"
   ]
  },
  {
   "cell_type": "code",
   "execution_count": 244,
   "id": "960d2a86-4f86-468c-8d53-35d3479506ac",
   "metadata": {},
   "outputs": [
    {
     "name": "stdout",
     "output_type": "stream",
     "text": [
      "(4478010, 5)\n"
     ]
    },
    {
     "data": {
      "text/html": [
       "<div>\n",
       "<style scoped>\n",
       "    .dataframe tbody tr th:only-of-type {\n",
       "        vertical-align: middle;\n",
       "    }\n",
       "\n",
       "    .dataframe tbody tr th {\n",
       "        vertical-align: top;\n",
       "    }\n",
       "\n",
       "    .dataframe thead th {\n",
       "        text-align: right;\n",
       "    }\n",
       "</style>\n",
       "<table border=\"1\" class=\"dataframe\">\n",
       "  <thead>\n",
       "    <tr style=\"text-align: right;\">\n",
       "      <th></th>\n",
       "      <th>user_id</th>\n",
       "      <th>pattern_ids</th>\n",
       "      <th>date_completed</th>\n",
       "      <th>project_id</th>\n",
       "      <th>has_knit</th>\n",
       "    </tr>\n",
       "  </thead>\n",
       "  <tbody>\n",
       "    <tr>\n",
       "      <th>0</th>\n",
       "      <td>5153610</td>\n",
       "      <td>88</td>\n",
       "      <td>2021/11/19</td>\n",
       "      <td>29203938</td>\n",
       "      <td>1</td>\n",
       "    </tr>\n",
       "    <tr>\n",
       "      <th>1</th>\n",
       "      <td>3183664</td>\n",
       "      <td>88</td>\n",
       "      <td>2021/11/18</td>\n",
       "      <td>29195691</td>\n",
       "      <td>1</td>\n",
       "    </tr>\n",
       "    <tr>\n",
       "      <th>2</th>\n",
       "      <td>3183664</td>\n",
       "      <td>88</td>\n",
       "      <td>2021/11/17</td>\n",
       "      <td>29190583</td>\n",
       "      <td>1</td>\n",
       "    </tr>\n",
       "    <tr>\n",
       "      <th>3</th>\n",
       "      <td>2102666</td>\n",
       "      <td>88</td>\n",
       "      <td>2021/11/17</td>\n",
       "      <td>29177512</td>\n",
       "      <td>1</td>\n",
       "    </tr>\n",
       "    <tr>\n",
       "      <th>4</th>\n",
       "      <td>3183664</td>\n",
       "      <td>88</td>\n",
       "      <td>2021/11/16</td>\n",
       "      <td>29187197</td>\n",
       "      <td>1</td>\n",
       "    </tr>\n",
       "  </tbody>\n",
       "</table>\n",
       "</div>"
      ],
      "text/plain": [
       "   user_id pattern_ids date_completed project_id  has_knit\n",
       "0  5153610          88     2021/11/19   29203938         1\n",
       "1  3183664          88     2021/11/18   29195691         1\n",
       "2  3183664          88     2021/11/17   29190583         1\n",
       "3  2102666          88     2021/11/17   29177512         1\n",
       "4  3183664          88     2021/11/16   29187197         1"
      ]
     },
     "execution_count": 244,
     "metadata": {},
     "output_type": "execute_result"
    }
   ],
   "source": [
    "# add 'has_knit' column is place of rating (using implicit rather than explicit rating)\n",
    "df['has_knit'] = 1\n",
    "print(df.shape)\n",
    "df.head()\n",
    "\n",
    "# rename uid and iid as per utility matrix"
   ]
  },
  {
   "cell_type": "code",
   "execution_count": 262,
   "id": "96ff935a-58c1-4617-85e9-91fcb01a6526",
   "metadata": {},
   "outputs": [
    {
     "data": {
      "text/plain": [
       "(3250978, 5)"
      ]
     },
     "execution_count": 262,
     "metadata": {},
     "output_type": "execute_result"
    }
   ],
   "source": [
    "# drop douplicate knits per pattern\n",
    "df = df.drop_duplicates(['user_id', 'pattern_ids'])\n",
    "df.shape"
   ]
  },
  {
   "cell_type": "code",
   "execution_count": 263,
   "id": "855ee7b6-ec46-48f7-a70b-c1faf66532c2",
   "metadata": {},
   "outputs": [
    {
     "data": {
      "text/html": [
       "<div>\n",
       "<style scoped>\n",
       "    .dataframe tbody tr th:only-of-type {\n",
       "        vertical-align: middle;\n",
       "    }\n",
       "\n",
       "    .dataframe tbody tr th {\n",
       "        vertical-align: top;\n",
       "    }\n",
       "\n",
       "    .dataframe thead th {\n",
       "        text-align: right;\n",
       "    }\n",
       "</style>\n",
       "<table border=\"1\" class=\"dataframe\">\n",
       "  <thead>\n",
       "    <tr style=\"text-align: right;\">\n",
       "      <th></th>\n",
       "      <th>user_id</th>\n",
       "      <th>pattern_ids</th>\n",
       "      <th>date_completed</th>\n",
       "      <th>project_id</th>\n",
       "      <th>has_knit</th>\n",
       "    </tr>\n",
       "  </thead>\n",
       "  <tbody>\n",
       "    <tr>\n",
       "      <th>61820</th>\n",
       "      <td>17244</td>\n",
       "      <td>302</td>\n",
       "      <td>298</td>\n",
       "      <td>302</td>\n",
       "      <td>302</td>\n",
       "    </tr>\n",
       "    <tr>\n",
       "      <th>273983</th>\n",
       "      <td>698879</td>\n",
       "      <td>261</td>\n",
       "      <td>254</td>\n",
       "      <td>261</td>\n",
       "      <td>261</td>\n",
       "    </tr>\n",
       "    <tr>\n",
       "      <th>253153</th>\n",
       "      <td>616629</td>\n",
       "      <td>260</td>\n",
       "      <td>258</td>\n",
       "      <td>260</td>\n",
       "      <td>260</td>\n",
       "    </tr>\n",
       "    <tr>\n",
       "      <th>296299</th>\n",
       "      <td>79380</td>\n",
       "      <td>256</td>\n",
       "      <td>105</td>\n",
       "      <td>256</td>\n",
       "      <td>256</td>\n",
       "    </tr>\n",
       "    <tr>\n",
       "      <th>111658</th>\n",
       "      <td>24654</td>\n",
       "      <td>239</td>\n",
       "      <td>229</td>\n",
       "      <td>239</td>\n",
       "      <td>239</td>\n",
       "    </tr>\n",
       "    <tr>\n",
       "      <th>...</th>\n",
       "      <td>...</td>\n",
       "      <td>...</td>\n",
       "      <td>...</td>\n",
       "      <td>...</td>\n",
       "      <td>...</td>\n",
       "    </tr>\n",
       "    <tr>\n",
       "      <th>254489</th>\n",
       "      <td>6218491</td>\n",
       "      <td>1</td>\n",
       "      <td>1</td>\n",
       "      <td>1</td>\n",
       "      <td>1</td>\n",
       "    </tr>\n",
       "    <tr>\n",
       "      <th>254488</th>\n",
       "      <td>6218465</td>\n",
       "      <td>1</td>\n",
       "      <td>1</td>\n",
       "      <td>1</td>\n",
       "      <td>1</td>\n",
       "    </tr>\n",
       "    <tr>\n",
       "      <th>160108</th>\n",
       "      <td>342361</td>\n",
       "      <td>1</td>\n",
       "      <td>0</td>\n",
       "      <td>1</td>\n",
       "      <td>1</td>\n",
       "    </tr>\n",
       "    <tr>\n",
       "      <th>85382</th>\n",
       "      <td>204944</td>\n",
       "      <td>1</td>\n",
       "      <td>1</td>\n",
       "      <td>1</td>\n",
       "      <td>1</td>\n",
       "    </tr>\n",
       "    <tr>\n",
       "      <th>338750</th>\n",
       "      <td>9999967</td>\n",
       "      <td>1</td>\n",
       "      <td>1</td>\n",
       "      <td>1</td>\n",
       "      <td>1</td>\n",
       "    </tr>\n",
       "  </tbody>\n",
       "</table>\n",
       "<p>338751 rows × 5 columns</p>\n",
       "</div>"
      ],
      "text/plain": [
       "        user_id  pattern_ids  date_completed  project_id  has_knit\n",
       "61820     17244          302             298         302       302\n",
       "273983   698879          261             254         261       261\n",
       "253153   616629          260             258         260       260\n",
       "296299    79380          256             105         256       256\n",
       "111658    24654          239             229         239       239\n",
       "...         ...          ...             ...         ...       ...\n",
       "254489  6218491            1               1           1         1\n",
       "254488  6218465            1               1           1         1\n",
       "160108   342361            1               0           1         1\n",
       "85382    204944            1               1           1         1\n",
       "338750  9999967            1               1           1         1\n",
       "\n",
       "[338751 rows x 5 columns]"
      ]
     },
     "execution_count": 263,
     "metadata": {},
     "output_type": "execute_result"
    }
   ],
   "source": [
    "# how many users, how many patterns?\n",
    "pattern_count_per_user = df.groupby(\"user_id\", as_index=False).count().sort_values('has_knit', ascending = False)\n",
    "pattern_count_per_user\n",
    "\n",
    "# uh oh - how many are 0?\n"
   ]
  },
  {
   "cell_type": "code",
   "execution_count": 246,
   "id": "a5961b1a-3d92-4174-9374-39f2538bd870",
   "metadata": {},
   "outputs": [
    {
     "data": {
      "text/html": [
       "<div>\n",
       "<style scoped>\n",
       "    .dataframe tbody tr th:only-of-type {\n",
       "        vertical-align: middle;\n",
       "    }\n",
       "\n",
       "    .dataframe tbody tr th {\n",
       "        vertical-align: top;\n",
       "    }\n",
       "\n",
       "    .dataframe thead th {\n",
       "        text-align: right;\n",
       "    }\n",
       "</style>\n",
       "<table border=\"1\" class=\"dataframe\">\n",
       "  <thead>\n",
       "    <tr style=\"text-align: right;\">\n",
       "      <th></th>\n",
       "      <th>pattern_ids</th>\n",
       "      <th>date_completed</th>\n",
       "      <th>project_id</th>\n",
       "      <th>has_knit</th>\n",
       "    </tr>\n",
       "  </thead>\n",
       "  <tbody>\n",
       "    <tr>\n",
       "      <th>count</th>\n",
       "      <td>345059.000000</td>\n",
       "      <td>345059.000000</td>\n",
       "      <td>345059.000000</td>\n",
       "      <td>345059.000000</td>\n",
       "    </tr>\n",
       "    <tr>\n",
       "      <th>mean</th>\n",
       "      <td>12.977520</td>\n",
       "      <td>10.615164</td>\n",
       "      <td>12.977520</td>\n",
       "      <td>12.977520</td>\n",
       "    </tr>\n",
       "    <tr>\n",
       "      <th>std</th>\n",
       "      <td>22.736905</td>\n",
       "      <td>21.070589</td>\n",
       "      <td>22.736905</td>\n",
       "      <td>22.736905</td>\n",
       "    </tr>\n",
       "    <tr>\n",
       "      <th>min</th>\n",
       "      <td>1.000000</td>\n",
       "      <td>0.000000</td>\n",
       "      <td>1.000000</td>\n",
       "      <td>1.000000</td>\n",
       "    </tr>\n",
       "    <tr>\n",
       "      <th>25%</th>\n",
       "      <td>2.000000</td>\n",
       "      <td>1.000000</td>\n",
       "      <td>2.000000</td>\n",
       "      <td>2.000000</td>\n",
       "    </tr>\n",
       "    <tr>\n",
       "      <th>50%</th>\n",
       "      <td>4.000000</td>\n",
       "      <td>3.000000</td>\n",
       "      <td>4.000000</td>\n",
       "      <td>4.000000</td>\n",
       "    </tr>\n",
       "    <tr>\n",
       "      <th>75%</th>\n",
       "      <td>14.000000</td>\n",
       "      <td>11.000000</td>\n",
       "      <td>14.000000</td>\n",
       "      <td>14.000000</td>\n",
       "    </tr>\n",
       "    <tr>\n",
       "      <th>max</th>\n",
       "      <td>720.000000</td>\n",
       "      <td>720.000000</td>\n",
       "      <td>720.000000</td>\n",
       "      <td>720.000000</td>\n",
       "    </tr>\n",
       "  </tbody>\n",
       "</table>\n",
       "</div>"
      ],
      "text/plain": [
       "         pattern_ids  date_completed     project_id       has_knit\n",
       "count  345059.000000   345059.000000  345059.000000  345059.000000\n",
       "mean       12.977520       10.615164      12.977520      12.977520\n",
       "std        22.736905       21.070589      22.736905      22.736905\n",
       "min         1.000000        0.000000       1.000000       1.000000\n",
       "25%         2.000000        1.000000       2.000000       2.000000\n",
       "50%         4.000000        3.000000       4.000000       4.000000\n",
       "75%        14.000000       11.000000      14.000000      14.000000\n",
       "max       720.000000      720.000000     720.000000     720.000000"
      ]
     },
     "execution_count": 246,
     "metadata": {},
     "output_type": "execute_result"
    }
   ],
   "source": [
    "pattern_count_per_user.describe()"
   ]
  },
  {
   "cell_type": "code",
   "execution_count": null,
   "id": "fc1f4c21-830f-4b68-befb-0f474dab968e",
   "metadata": {},
   "outputs": [],
   "source": [
    "# AND LOOK AT THIS  _ ALSO FROM WALKTHROUGH!\n",
    "# # from article - ensure statiscical significance, users less than 200 ratings and books less than 100 ratings excluede\n",
    "# counts1 = book_ratings['User-ID'].value_counts()\n",
    "# book_ratings = book_ratings[book_ratings['User-ID'].isin(counts1[counts1 >= 200].index)]\n",
    "# counts = book_ratings['Book-Rating'].value_counts()\n",
    "# book_ratings = book_ratings[book_ratings['Book-Rating'].isin(counts[counts >= 100].index)]"
   ]
  },
  {
   "cell_type": "code",
   "execution_count": null,
   "id": "5c09e6fb-9c38-4d7b-b289-9c1dd0d75e6f",
   "metadata": {},
   "outputs": [],
   "source": [
    "# # OR TRY THIS FROM MEMORY WALKTRHOUGH \n",
    "# import matplotlib.pyplot as plt\n",
    "# print(book_ratings.shape)\n",
    "# print(list(book_ratings.columns))\n",
    "# plt.rc(\"font\", size=15)\n",
    "# book_ratings['Book-Rating'].value_counts(sort=False).plot(kind='bar')\n",
    "# plt.title('Rating Distribution\\n')\n",
    "# plt.xlabel('Rating')\n",
    "# plt.ylabel('Count')\n",
    "# plt.savefig('system1.png', bbox_inches='tight')\n",
    "# plt.show()\n",
    "# print(books.shape)\n",
    "# print(list(books.columns))"
   ]
  },
  {
   "cell_type": "code",
   "execution_count": 247,
   "id": "c3ab4bf4-bc4f-4b15-a92d-37f188296bb0",
   "metadata": {},
   "outputs": [
    {
     "data": {
      "image/png": "[encoded data removed]",
      "text/plain": [
       "<Figure size 720x432 with 1 Axes>"
      ]
     },
     "metadata": {
      "needs_background": "light"
     },
     "output_type": "display_data"
    }
   ],
   "source": [
    "y = pattern_count_per_user['pattern_ids']\n",
    "fig, ax = plt.subplots(figsize = (10,6))\n",
    "\n",
    "# histogram\n",
    "ax.hist(y,bins=1000)\n",
    "plt.show()"
   ]
  },
  {
   "cell_type": "code",
   "execution_count": 266,
   "id": "15bd3d74-cf23-456d-87ed-17406b455c19",
   "metadata": {},
   "outputs": [
    {
     "data": {
      "text/plain": [
       "323603"
      ]
     },
     "execution_count": 266,
     "metadata": {},
     "output_type": "execute_result"
    }
   ],
   "source": [
    "pattern_count_per_user_gt_40 = pattern_count_per_user[pattern_count_per_user['pattern_ids'] >40]\n",
    "# pattern_count_per_user.shape\n",
    "indices_to_drop = pattern_count_per_user[pattern_count_per_user['pattern_ids'] <=40].index.to_list()\n",
    "len(indices_to_drop)"
   ]
  },
  {
   "cell_type": "code",
   "execution_count": 256,
   "id": "a720a9bd-c0f5-41e3-b791-a0e58e7c08e2",
   "metadata": {},
   "outputs": [
    {
     "data": {
      "image/png": "[encoded data removed]",
      "text/plain": [
       "<Figure size 720x432 with 1 Axes>"
      ]
     },
     "metadata": {
      "needs_background": "light"
     },
     "output_type": "display_data"
    }
   ],
   "source": [
    "y = pattern_count_per_user_gt_40['pattern_ids']\n",
    "fig, ax = plt.subplots(figsize = (10,6))\n",
    "\n",
    "# histogram\n",
    "ax.hist(y,bins=1000)\n",
    "plt.show()"
   ]
  },
  {
   "cell_type": "code",
   "execution_count": 257,
   "id": "6a3c4bac-cd73-4e1c-a1ca-1db5dfc1d104",
   "metadata": {},
   "outputs": [
    {
     "data": {
      "text/plain": [
       "(3250978, 5)"
      ]
     },
     "execution_count": 257,
     "metadata": {},
     "output_type": "execute_result"
    }
   ],
   "source": [
    "\n",
    "df = df[~df.index.isin(indices_to_drop)]\n",
    "# merge metadata\n",
    "df.shape"
   ]
  },
  {
   "cell_type": "code",
   "execution_count": 265,
   "id": "09cd6e25-631d-42a6-82ed-3fb83abc8ec6",
   "metadata": {},
   "outputs": [
    {
     "data": {
      "text/html": [
       "<div>\n",
       "<style scoped>\n",
       "    .dataframe tbody tr th:only-of-type {\n",
       "        vertical-align: middle;\n",
       "    }\n",
       "\n",
       "    .dataframe tbody tr th {\n",
       "        vertical-align: top;\n",
       "    }\n",
       "\n",
       "    .dataframe thead th {\n",
       "        text-align: right;\n",
       "    }\n",
       "</style>\n",
       "<table border=\"1\" class=\"dataframe\">\n",
       "  <thead>\n",
       "    <tr style=\"text-align: right;\">\n",
       "      <th></th>\n",
       "      <th>pattern_ids</th>\n",
       "      <th>date_completed</th>\n",
       "      <th>project_id</th>\n",
       "      <th>has_knit</th>\n",
       "    </tr>\n",
       "  </thead>\n",
       "  <tbody>\n",
       "    <tr>\n",
       "      <th>count</th>\n",
       "      <td>27661.000000</td>\n",
       "      <td>27661.000000</td>\n",
       "      <td>27661.000000</td>\n",
       "      <td>27661.000000</td>\n",
       "    </tr>\n",
       "    <tr>\n",
       "      <th>mean</th>\n",
       "      <td>73.736416</td>\n",
       "      <td>65.853368</td>\n",
       "      <td>73.736416</td>\n",
       "      <td>73.736416</td>\n",
       "    </tr>\n",
       "    <tr>\n",
       "      <th>std</th>\n",
       "      <td>39.116392</td>\n",
       "      <td>38.951095</td>\n",
       "      <td>39.116392</td>\n",
       "      <td>39.116392</td>\n",
       "    </tr>\n",
       "    <tr>\n",
       "      <th>min</th>\n",
       "      <td>41.000000</td>\n",
       "      <td>0.000000</td>\n",
       "      <td>41.000000</td>\n",
       "      <td>41.000000</td>\n",
       "    </tr>\n",
       "    <tr>\n",
       "      <th>25%</th>\n",
       "      <td>49.000000</td>\n",
       "      <td>43.000000</td>\n",
       "      <td>49.000000</td>\n",
       "      <td>49.000000</td>\n",
       "    </tr>\n",
       "    <tr>\n",
       "      <th>50%</th>\n",
       "      <td>61.000000</td>\n",
       "      <td>55.000000</td>\n",
       "      <td>61.000000</td>\n",
       "      <td>61.000000</td>\n",
       "    </tr>\n",
       "    <tr>\n",
       "      <th>75%</th>\n",
       "      <td>84.000000</td>\n",
       "      <td>77.000000</td>\n",
       "      <td>84.000000</td>\n",
       "      <td>84.000000</td>\n",
       "    </tr>\n",
       "    <tr>\n",
       "      <th>max</th>\n",
       "      <td>720.000000</td>\n",
       "      <td>720.000000</td>\n",
       "      <td>720.000000</td>\n",
       "      <td>720.000000</td>\n",
       "    </tr>\n",
       "  </tbody>\n",
       "</table>\n",
       "</div>"
      ],
      "text/plain": [
       "        pattern_ids  date_completed    project_id      has_knit\n",
       "count  27661.000000    27661.000000  27661.000000  27661.000000\n",
       "mean      73.736416       65.853368     73.736416     73.736416\n",
       "std       39.116392       38.951095     39.116392     39.116392\n",
       "min       41.000000        0.000000     41.000000     41.000000\n",
       "25%       49.000000       43.000000     49.000000     49.000000\n",
       "50%       61.000000       55.000000     61.000000     61.000000\n",
       "75%       84.000000       77.000000     84.000000     84.000000\n",
       "max      720.000000      720.000000    720.000000    720.000000"
      ]
     },
     "execution_count": 265,
     "metadata": {},
     "output_type": "execute_result"
    }
   ],
   "source": [
    "pattern_count_per_user_gt_40.describe()"
   ]
  },
  {
   "cell_type": "code",
   "execution_count": 258,
   "id": "ccceb989-5d78-4805-a57c-a973bb8aa40f",
   "metadata": {},
   "outputs": [
    {
     "data": {
      "text/plain": [
       "array(['88', '88', '88', ..., '449489', '449489', '449489'], dtype=object)"
      ]
     },
     "execution_count": 258,
     "metadata": {},
     "output_type": "execute_result"
    }
   ],
   "source": [
    "df.pattern_ids.values"
   ]
  },
  {
   "cell_type": "code",
   "execution_count": 260,
   "id": "5bf47625-6d76-4d01-b71f-14c59493943e",
   "metadata": {},
   "outputs": [
    {
     "name": "stdout",
     "output_type": "stream",
     "text": [
      "(2963, 24)\n"
     ]
    },
    {
     "data": {
      "text/html": [
       "<div>\n",
       "<style scoped>\n",
       "    .dataframe tbody tr th:only-of-type {\n",
       "        vertical-align: middle;\n",
       "    }\n",
       "\n",
       "    .dataframe tbody tr th {\n",
       "        vertical-align: top;\n",
       "    }\n",
       "\n",
       "    .dataframe thead th {\n",
       "        text-align: right;\n",
       "    }\n",
       "</style>\n",
       "<table border=\"1\" class=\"dataframe\">\n",
       "  <thead>\n",
       "    <tr style=\"text-align: right;\">\n",
       "      <th></th>\n",
       "      <th>pattern_id</th>\n",
       "      <th>name</th>\n",
       "      <th>name_permalink</th>\n",
       "      <th>favorites_count</th>\n",
       "      <th>projects_count</th>\n",
       "      <th>difficulty_average</th>\n",
       "      <th>difficulty_count</th>\n",
       "      <th>rating_average</th>\n",
       "      <th>queued_projects_count</th>\n",
       "      <th>rating_count</th>\n",
       "      <th>...</th>\n",
       "      <th>pattern_attributes</th>\n",
       "      <th>yardage_max</th>\n",
       "      <th>yardage</th>\n",
       "      <th>generally_available</th>\n",
       "      <th>gauge</th>\n",
       "      <th>gauge_divisor</th>\n",
       "      <th>free</th>\n",
       "      <th>downloadable</th>\n",
       "      <th>categories</th>\n",
       "      <th>yarn_weight_description</th>\n",
       "    </tr>\n",
       "  </thead>\n",
       "  <tbody>\n",
       "    <tr>\n",
       "      <th>0</th>\n",
       "      <td>88</td>\n",
       "      <td>Calorimetry</td>\n",
       "      <td>calorimetry</td>\n",
       "      <td>29838</td>\n",
       "      <td>19426</td>\n",
       "      <td>1.816424</td>\n",
       "      <td>7294.0</td>\n",
       "      <td>4.225295</td>\n",
       "      <td>7895</td>\n",
       "      <td>6618.0</td>\n",
       "      <td>...</td>\n",
       "      <td>['unisex', 'teen', 'adult', 'fitted', 'reversi...</td>\n",
       "      <td>NaN</td>\n",
       "      <td>93.0</td>\n",
       "      <td>2006/12/01 00:00:00 -0500</td>\n",
       "      <td>20.0</td>\n",
       "      <td>4.0</td>\n",
       "      <td>True</td>\n",
       "      <td>True</td>\n",
       "      <td>['headband', 'headwear', 'accessories']</td>\n",
       "      <td>Aran (8 wpi)</td>\n",
       "    </tr>\n",
       "    <tr>\n",
       "      <th>1</th>\n",
       "      <td>3156</td>\n",
       "      <td>Basic Ribbed Socks</td>\n",
       "      <td>basic-ribbed-socks</td>\n",
       "      <td>17795</td>\n",
       "      <td>10987</td>\n",
       "      <td>2.435581</td>\n",
       "      <td>2670.0</td>\n",
       "      <td>4.455242</td>\n",
       "      <td>3519</td>\n",
       "      <td>2480.0</td>\n",
       "      <td>...</td>\n",
       "      <td>['unisex', 'adult', 'top-cuff-down', 'heel-fla...</td>\n",
       "      <td>NaN</td>\n",
       "      <td>370.0</td>\n",
       "      <td>2006/04/01 00:00:00 -0500</td>\n",
       "      <td>32.0</td>\n",
       "      <td>4.0</td>\n",
       "      <td>True</td>\n",
       "      <td>True</td>\n",
       "      <td>['mid-calf', 'socks', 'feet-legs', 'accessories']</td>\n",
       "      <td>Fingering (14 wpi)</td>\n",
       "    </tr>\n",
       "    <tr>\n",
       "      <th>2</th>\n",
       "      <td>3636</td>\n",
       "      <td>#29 Classic Socks- baby, child &amp; adult socks</td>\n",
       "      <td>29-classic-socks--baby-child--adult-socks</td>\n",
       "      <td>3483</td>\n",
       "      <td>6019</td>\n",
       "      <td>2.851249</td>\n",
       "      <td>921.0</td>\n",
       "      <td>4.493304</td>\n",
       "      <td>463</td>\n",
       "      <td>896.0</td>\n",
       "      <td>...</td>\n",
       "      <td>['unisex', 'baby', 'toddler', 'child', 'teen',...</td>\n",
       "      <td>NaN</td>\n",
       "      <td>NaN</td>\n",
       "      <td>2007/05/18 07:01:30 -0400</td>\n",
       "      <td>NaN</td>\n",
       "      <td>1.0</td>\n",
       "      <td>False</td>\n",
       "      <td>True</td>\n",
       "      <td>['mid-calf', 'socks', 'feet-legs', 'accessories']</td>\n",
       "      <td>Sport (12 wpi)</td>\n",
       "    </tr>\n",
       "    <tr>\n",
       "      <th>3</th>\n",
       "      <td>27077</td>\n",
       "      <td>Jacques Cousteau Hat</td>\n",
       "      <td>jacques-cousteau-hat</td>\n",
       "      <td>22539</td>\n",
       "      <td>7325</td>\n",
       "      <td>1.865684</td>\n",
       "      <td>2442.0</td>\n",
       "      <td>4.267587</td>\n",
       "      <td>4534</td>\n",
       "      <td>2246.0</td>\n",
       "      <td>...</td>\n",
       "      <td>['male', 'ribbed', 'written-pattern', 'in-the-...</td>\n",
       "      <td>234.0</td>\n",
       "      <td>234.0</td>\n",
       "      <td>2006/03/01 00:00:00 -0500</td>\n",
       "      <td>22.0</td>\n",
       "      <td>4.0</td>\n",
       "      <td>True</td>\n",
       "      <td>True</td>\n",
       "      <td>['beanie-toque', 'hat', 'accessories']</td>\n",
       "      <td>DK (11 wpi)</td>\n",
       "    </tr>\n",
       "    <tr>\n",
       "      <th>4</th>\n",
       "      <td>29869</td>\n",
       "      <td>Sock Patterns for Regia 4ply</td>\n",
       "      <td>sock-patterns-for-regia-4ply</td>\n",
       "      <td>1190</td>\n",
       "      <td>2469</td>\n",
       "      <td>2.853333</td>\n",
       "      <td>300.0</td>\n",
       "      <td>4.223776</td>\n",
       "      <td>219</td>\n",
       "      <td>286.0</td>\n",
       "      <td>...</td>\n",
       "      <td>['unisex', 'adult', 'top-cuff-down', 'heel-fla...</td>\n",
       "      <td>NaN</td>\n",
       "      <td>460.0</td>\n",
       "      <td>2007/10/27 18:20:38 -0400</td>\n",
       "      <td>30.0</td>\n",
       "      <td>4.0</td>\n",
       "      <td>False</td>\n",
       "      <td>False</td>\n",
       "      <td>['mid-calf', 'socks', 'feet-legs', 'accessories']</td>\n",
       "      <td>Fingering (14 wpi)</td>\n",
       "    </tr>\n",
       "  </tbody>\n",
       "</table>\n",
       "<p>5 rows × 24 columns</p>\n",
       "</div>"
      ],
      "text/plain": [
       "   pattern_id                                          name  \\\n",
       "0          88                                   Calorimetry   \n",
       "1        3156                            Basic Ribbed Socks   \n",
       "2        3636  #29 Classic Socks- baby, child & adult socks   \n",
       "3       27077                          Jacques Cousteau Hat   \n",
       "4       29869                  Sock Patterns for Regia 4ply   \n",
       "\n",
       "                              name_permalink  favorites_count  projects_count  \\\n",
       "0                                calorimetry            29838           19426   \n",
       "1                         basic-ribbed-socks            17795           10987   \n",
       "2  29-classic-socks--baby-child--adult-socks             3483            6019   \n",
       "3                       jacques-cousteau-hat            22539            7325   \n",
       "4               sock-patterns-for-regia-4ply             1190            2469   \n",
       "\n",
       "   difficulty_average  difficulty_count  rating_average  \\\n",
       "0            1.816424            7294.0        4.225295   \n",
       "1            2.435581            2670.0        4.455242   \n",
       "2            2.851249             921.0        4.493304   \n",
       "3            1.865684            2442.0        4.267587   \n",
       "4            2.853333             300.0        4.223776   \n",
       "\n",
       "   queued_projects_count  rating_count  ...  \\\n",
       "0                   7895        6618.0  ...   \n",
       "1                   3519        2480.0  ...   \n",
       "2                    463         896.0  ...   \n",
       "3                   4534        2246.0  ...   \n",
       "4                    219         286.0  ...   \n",
       "\n",
       "                                  pattern_attributes yardage_max yardage  \\\n",
       "0  ['unisex', 'teen', 'adult', 'fitted', 'reversi...         NaN    93.0   \n",
       "1  ['unisex', 'adult', 'top-cuff-down', 'heel-fla...         NaN   370.0   \n",
       "2  ['unisex', 'baby', 'toddler', 'child', 'teen',...         NaN     NaN   \n",
       "3  ['male', 'ribbed', 'written-pattern', 'in-the-...       234.0   234.0   \n",
       "4  ['unisex', 'adult', 'top-cuff-down', 'heel-fla...         NaN   460.0   \n",
       "\n",
       "         generally_available gauge  gauge_divisor   free downloadable  \\\n",
       "0  2006/12/01 00:00:00 -0500  20.0            4.0   True         True   \n",
       "1  2006/04/01 00:00:00 -0500  32.0            4.0   True         True   \n",
       "2  2007/05/18 07:01:30 -0400   NaN            1.0  False         True   \n",
       "3  2006/03/01 00:00:00 -0500  22.0            4.0   True         True   \n",
       "4  2007/10/27 18:20:38 -0400  30.0            4.0  False        False   \n",
       "\n",
       "                                          categories  yarn_weight_description  \n",
       "0            ['headband', 'headwear', 'accessories']             Aran (8 wpi)  \n",
       "1  ['mid-calf', 'socks', 'feet-legs', 'accessories']       Fingering (14 wpi)  \n",
       "2  ['mid-calf', 'socks', 'feet-legs', 'accessories']           Sport (12 wpi)  \n",
       "3             ['beanie-toque', 'hat', 'accessories']              DK (11 wpi)  \n",
       "4  ['mid-calf', 'socks', 'feet-legs', 'accessories']       Fingering (14 wpi)  \n",
       "\n",
       "[5 rows x 24 columns]"
      ]
     },
     "execution_count": 260,
     "metadata": {},
     "output_type": "execute_result"
    }
   ],
   "source": [
    "# In order to pull out pattern details after we get similar patterns, need the metadata \n",
    "#(merge df with pattern_details)\n",
    "\n",
    "metadata = pattern_details[pattern_details['pattern_id'].isin(df.pattern_ids.values)]\n",
    "# REINDEX??\n",
    "print(metadata.shape)\n",
    "metadata.head()"
   ]
  },
  {
   "cell_type": "markdown",
   "id": "0575b576-7513-445f-9e6f-f78560a00d2a",
   "metadata": {},
   "source": [
    "#### Check Sparsity"
   ]
  },
  {
   "cell_type": "code",
   "execution_count": 314,
   "id": "2146c1b5-bf58-4c10-b2a4-f2504c461c23",
   "metadata": {},
   "outputs": [
    {
     "name": "stdout",
     "output_type": "stream",
     "text": [
      "Number of users: 338751\n",
      "Number of models: 2961\n",
      "Sparsity: 0.324%\n"
     ]
    }
   ],
   "source": [
    "n_users = df.user_id.unique().shape[0]\n",
    "n_items = df.pattern_ids.unique().shape[0]\n",
    "\n",
    "print('Number of users: {}'.format(n_users))\n",
    "print('Number of models: {}'.format(n_items))\n",
    "print('Sparsity: {:4.3f}%'.format(float(df.shape[0]) / float(n_users*n_items) * 100))\n",
    "\n",
    "# Woot - this is above the 0.1 percent threshold - performance generally degrades the more sparse the matrix is "
   ]
  },
  {
   "cell_type": "markdown",
   "id": "07fb45e1-4ace-4720-8874-ac5b83f4d73d",
   "metadata": {},
   "source": [
    "### Unique counts"
   ]
  },
  {
   "cell_type": "code",
   "execution_count": null,
   "id": "7caafed7-369f-4961-9d6e-09ea6cfa4df6",
   "metadata": {},
   "outputs": [],
   "source": [
    "# print('No. of Unique Users    :', reviews.userID.nunique())\n",
    "# print('No. of Unique Business :', reviews.businessID.nunique())\n",
    "# print('No. of Unique Ratings  :', reviews.rating.nunique())\n",
    "\n",
    "\n",
    "# look here for bar charts I should include here too\n",
    "# https://bmanohar16.github.io/blog/recsys-evaluation-in-surprise"
   ]
  },
  {
   "cell_type": "code",
   "execution_count": 315,
   "id": "213020f4-ae74-4ae0-8902-7de62752a7a4",
   "metadata": {},
   "outputs": [
    {
     "data": {
      "text/plain": [
       "(3250978, 5)"
      ]
     },
     "execution_count": 315,
     "metadata": {},
     "output_type": "execute_result"
    }
   ],
   "source": [
    "df.shape"
   ]
  },
  {
   "cell_type": "code",
   "execution_count": 68,
   "id": "08f4f5d7-71a6-41a1-88a7-ceb0e0b43c66",
   "metadata": {},
   "outputs": [
    {
     "data": {
      "text/plain": [
       "(290270, 1700)"
      ]
     },
     "execution_count": 68,
     "metadata": {},
     "output_type": "execute_result"
    }
   ],
   "source": [
    "# user_project_map = df.pivot_table(index='user_id', columns='pattern_ids', values='has_knit')\n",
    "# user_project_map.head()                    \n",
    "# user_project_map.shape\n",
    "# # user_project_map.head()"
   ]
  },
  {
   "cell_type": "code",
   "execution_count": 385,
   "id": "eaa75e7b-895f-4f7f-8593-01907dcdd739",
   "metadata": {},
   "outputs": [],
   "source": [
    "df.to_csv('data/less_sparse_users_patterns.csv', index=False)"
   ]
  },
  {
   "cell_type": "markdown",
   "id": "16896ee0-bffb-4735-b1dd-dede26672f32",
   "metadata": {},
   "source": [
    "### K-Nearest Neighbours\n",
    "\n",
    "#### TODO - try different metrics (Euclidean, cosine, pearson, jaccard)"
   ]
  },
  {
   "cell_type": "code",
   "execution_count": 326,
   "id": "bf02c719-438e-4ac5-b2a7-442a3446eb8f",
   "metadata": {},
   "outputs": [
    {
     "data": {
      "text/plain": [
       "(2961, 338751)"
      ]
     },
     "execution_count": 326,
     "metadata": {},
     "output_type": "execute_result"
    }
   ],
   "source": [
    "from scipy.sparse import csr_matrix\n",
    "user_knit = df\n",
    "user_knit = user_knit.drop_duplicates(['user_id', 'pattern_ids'])\n",
    "user_knit_pivot = user_knit.pivot(index='pattern_ids', columns='user_id', values='has_knit').fillna(0)\n",
    "user_knit_matrix = csr_matrix(user_knit_pivot.values)\n"
   ]
  },
  {
   "cell_type": "code",
   "execution_count": null,
   "id": "3a5d0855-01ff-4254-89cf-a7102b44ef7d",
   "metadata": {},
   "outputs": [],
   "source": []
  },
  {
   "cell_type": "code",
   "execution_count": 327,
   "id": "85efe04d-8282-4ba9-a20e-d4c16b28b2ef",
   "metadata": {},
   "outputs": [
    {
     "data": {
      "text/plain": [
       "((2961, 338751), (2961, 338751))"
      ]
     },
     "execution_count": 327,
     "metadata": {},
     "output_type": "execute_result"
    }
   ],
   "source": [
    "user_knit_pivot.shape, user_knit_matrix.shape"
   ]
  },
  {
   "cell_type": "code",
   "execution_count": 276,
   "id": "1746d588-eb62-4b81-b742-2a947aac354e",
   "metadata": {},
   "outputs": [
    {
     "data": {
      "text/plain": [
       "NearestNeighbors(algorithm='brute', metric='cosine')"
      ]
     },
     "execution_count": 276,
     "metadata": {},
     "output_type": "execute_result"
    }
   ],
   "source": [
    "# from sklearn.neighbors import NearestNeighbors\n",
    "# https://en.wikipedia.org/wiki/K-nearest_neighbors_algorithm (to see which algorithm to use)\n",
    "# # ‘ball_tree’ will use BallTree\n",
    "# ‘kd_tree’ will use KDTree\n",
    "# ‘brute’ will use a brute-force search.\n",
    "# ‘auto’ will attempt to decide the most appropriate algorithm based on the values passed to fit method.\n",
    "\n",
    "model_knn = NearestNeighbors(metric = 'cosine', algorithm = 'brute')  # default default=’minkowski’ (real value space) - try “jaccard” (boolean vector space)\n",
    "model_knn.fit(user_knit_matrix)"
   ]
  },
  {
   "cell_type": "code",
   "execution_count": 282,
   "id": "3bed19f8-7586-49e7-ae19-a5d2cf70768e",
   "metadata": {},
   "outputs": [
    {
     "name": "stdout",
     "output_type": "stream",
     "text": [
      "363\n"
     ]
    }
   ],
   "source": [
    "# give recommendation - need to reference this article!! \n",
    "query_index = np.random.choice(user_knit_pivot.shape[0])\n",
    "print(query_index)\n",
    "distances, indices = model_knn.kneighbors(user_knit_pivot.iloc[query_index,:].values.reshape(1, -1), n_neighbors = 10)"
   ]
  },
  {
   "cell_type": "code",
   "execution_count": 280,
   "id": "9279c864-2960-42c8-bd94-e49fff9e9853",
   "metadata": {},
   "outputs": [
    {
     "data": {
      "text/plain": [
       "'10'"
      ]
     },
     "execution_count": 280,
     "metadata": {},
     "output_type": "execute_result"
    }
   ],
   "source": [
    "# user_knit_pivot.index[0] - 0 is the indexlocation"
   ]
  },
  {
   "cell_type": "code",
   "execution_count": 278,
   "id": "f73721e5-315f-40c6-a985-a4ee31f727f4",
   "metadata": {},
   "outputs": [
    {
     "data": {
      "text/plain": [
       "'66726'"
      ]
     },
     "execution_count": 278,
     "metadata": {},
     "output_type": "execute_result"
    }
   ],
   "source": [
    "# user_knit_pivot.index[query_index] - this is the pattern id"
   ]
  },
  {
   "cell_type": "code",
   "execution_count": null,
   "id": "ebff2b78-5015-4688-93f1-a51fa9184307",
   "metadata": {},
   "outputs": [],
   "source": [
    "# TODO turn into one function! pattern id to name! \n",
    "\n",
    "def get_index_from_pattern_id(pattern_id):\n",
    "    return metadata[metadata.pattern_id == pattern_id].index[0]\n",
    "\n",
    "pattern_id = int(user_knit_pivot.index[query_index])\n",
    "pattern_index = get_index_from_pattern_id(pattern_id)\n",
    "\n",
    "def get_pattern_name_from_index(pattern_index):\n",
    "    return metadata[metadata.index == pattern_index][\"name_permalink\"].values[0]"
   ]
  },
  {
   "cell_type": "code",
   "execution_count": 311,
   "id": "8ba9f94d-6ed3-42d4-b6b1-b3fcbbc6805d",
   "metadata": {},
   "outputs": [
    {
     "name": "stdout",
     "output_type": "stream",
     "text": [
      "Recommendations for ballard-slouch-hat :\n",
      "\n",
      "1: 68244 spring-beret, with distance of 0.9509073427788148:\n",
      "2: 88047 meret-mystery-beret, with distance of 0.9560338047669551:\n",
      "3: 39289 slouched-tuva-hat, with distance of 0.9637694432884212:\n",
      "4: 169260 honey-cowl, with distance of 0.9643256479027382:\n",
      "5: 75857 turn-a-square, with distance of 0.964634800369007:\n",
      "6: 38821 felicity, with distance of 0.9655716179828302:\n",
      "7: 103556 ishbel, with distance of 0.9668805982387101:\n",
      "8: 97913 opus-spicatum, with distance of 0.967951950173751:\n",
      "9: 494 slouchy-copy-cat-hat, with distance of 0.9682919743685515:\n"
     ]
    }
   ],
   "source": [
    "# give recomendations for the pattern selected\n",
    "for i in range(0, len(distances.flatten())):\n",
    "    if i == 0:\n",
    "#         print('Recommendations for {0} :\\n'.format(user_knit_pivot.index[query_index]))\n",
    "        print('Recommendations for {0} :\\n'.format(get_pattern_name_from_index(get_index_from_pattern_id(int(user_knit_pivot.index[query_index])))))\n",
    "    else:\n",
    "        pattern_id = int(user_knit_pivot.index[indices.flatten()[i]])\n",
    "        pattern_metadata_index = get_index_from_pattern_id(pattern_id)\n",
    "        pattern_name = get_pattern_name_from_index(pattern_metadata_index)\n",
    " \n",
    "        print('{0}: {1} {2}, with distance of {3}:'\n",
    "                .format(i, pattern_id, pattern_name, distances.flatten()[i]))\n",
    "    "
   ]
  },
  {
   "cell_type": "code",
   "execution_count": 292,
   "id": "2e8b82f9-93cc-40b4-abdb-95f7257504e0",
   "metadata": {},
   "outputs": [],
   "source": []
  },
  {
   "cell_type": "code",
   "execution_count": 302,
   "id": "5edb88f9-8caf-4fad-a871-5779e46a5af6",
   "metadata": {},
   "outputs": [],
   "source": []
  },
  {
   "cell_type": "markdown",
   "id": "623dd77e-f1a7-43fc-b031-e51dc6767d88",
   "metadata": {},
   "source": [
    "### Matrix factorization "
   ]
  },
  {
   "cell_type": "markdown",
   "id": "a5aeef26-0fbf-495c-9d1a-b7fb8eb79b90",
   "metadata": {},
   "source": [
    "https://towardsdatascience.com/recommender-system-singular-value-decomposition-svd-truncated-svd-97096338f361\n",
    "In Conclusion:\n",
    "Singular value decomposition decomposes three matrices and the latent factors show the characteristics of the items. It reduces the dimension through latent factors’ extraction. By adding the regularization and bias term, it optimizes the model performance by minimizing the rmse error.\n",
    "Truncated SVD generates the matrices with the specified number of columns, whereas SVD outputs n columns of matrices. It decreases the number of output and better works on the sparse matrices for features output."
   ]
  },
  {
   "cell_type": "code",
   "execution_count": 191,
   "id": "ac9a742e-c020-43c5-8dc8-5e7c445d0fe7",
   "metadata": {},
   "outputs": [],
   "source": [
    "# https://towardsdatascience.com/how-did-we-build-book-recommender-systems-in-an-hour-part-2-k-nearest-neighbors-and-matrix-c04b3c2ef55c\n",
    "\n",
    "# ** will need to cross validate and include names! **\n",
    "# ** use other metrics than pearson - use cosine? **\n",
    "# import sklearn\n",
    "from sklearn.decomposition import TruncatedSVD\n",
    "# trucated reduces dimensionality to avoid running into erros"
   ]
  },
  {
   "cell_type": "code",
   "execution_count": 362,
   "id": "6e290a23-e8d3-4d3a-a44c-15115742ccf8",
   "metadata": {},
   "outputs": [
    {
     "name": "stdout",
     "output_type": "stream",
     "text": [
      "(2961, 338751)\n"
     ]
    },
    {
     "data": {
      "text/html": [
       "<div>\n",
       "<style scoped>\n",
       "    .dataframe tbody tr th:only-of-type {\n",
       "        vertical-align: middle;\n",
       "    }\n",
       "\n",
       "    .dataframe tbody tr th {\n",
       "        vertical-align: top;\n",
       "    }\n",
       "\n",
       "    .dataframe thead th {\n",
       "        text-align: right;\n",
       "    }\n",
       "</style>\n",
       "<table border=\"1\" class=\"dataframe\">\n",
       "  <thead>\n",
       "    <tr style=\"text-align: right;\">\n",
       "      <th>user_id</th>\n",
       "      <th>1</th>\n",
       "      <th>100</th>\n",
       "      <th>1000</th>\n",
       "      <th>10000027</th>\n",
       "      <th>1000008</th>\n",
       "      <th>1000012</th>\n",
       "      <th>1000016</th>\n",
       "      <th>100002</th>\n",
       "      <th>1000031</th>\n",
       "      <th>10000324</th>\n",
       "      <th>...</th>\n",
       "      <th>999942</th>\n",
       "      <th>9999542</th>\n",
       "      <th>999965</th>\n",
       "      <th>999976</th>\n",
       "      <th>999984</th>\n",
       "      <th>9999877</th>\n",
       "      <th>99999</th>\n",
       "      <th>999991</th>\n",
       "      <th>9999924</th>\n",
       "      <th>9999967</th>\n",
       "    </tr>\n",
       "    <tr>\n",
       "      <th>pattern_ids</th>\n",
       "      <th></th>\n",
       "      <th></th>\n",
       "      <th></th>\n",
       "      <th></th>\n",
       "      <th></th>\n",
       "      <th></th>\n",
       "      <th></th>\n",
       "      <th></th>\n",
       "      <th></th>\n",
       "      <th></th>\n",
       "      <th></th>\n",
       "      <th></th>\n",
       "      <th></th>\n",
       "      <th></th>\n",
       "      <th></th>\n",
       "      <th></th>\n",
       "      <th></th>\n",
       "      <th></th>\n",
       "      <th></th>\n",
       "      <th></th>\n",
       "      <th></th>\n",
       "    </tr>\n",
       "  </thead>\n",
       "  <tbody>\n",
       "    <tr>\n",
       "      <th>10</th>\n",
       "      <td>1.0</td>\n",
       "      <td>0.0</td>\n",
       "      <td>0.0</td>\n",
       "      <td>0.0</td>\n",
       "      <td>0.0</td>\n",
       "      <td>0.0</td>\n",
       "      <td>0.0</td>\n",
       "      <td>0.0</td>\n",
       "      <td>0.0</td>\n",
       "      <td>0.0</td>\n",
       "      <td>...</td>\n",
       "      <td>0.0</td>\n",
       "      <td>0.0</td>\n",
       "      <td>0.0</td>\n",
       "      <td>0.0</td>\n",
       "      <td>0.0</td>\n",
       "      <td>0.0</td>\n",
       "      <td>0.0</td>\n",
       "      <td>0.0</td>\n",
       "      <td>0.0</td>\n",
       "      <td>0.0</td>\n",
       "    </tr>\n",
       "    <tr>\n",
       "      <th>100065</th>\n",
       "      <td>0.0</td>\n",
       "      <td>0.0</td>\n",
       "      <td>0.0</td>\n",
       "      <td>0.0</td>\n",
       "      <td>0.0</td>\n",
       "      <td>0.0</td>\n",
       "      <td>0.0</td>\n",
       "      <td>0.0</td>\n",
       "      <td>0.0</td>\n",
       "      <td>0.0</td>\n",
       "      <td>...</td>\n",
       "      <td>0.0</td>\n",
       "      <td>0.0</td>\n",
       "      <td>0.0</td>\n",
       "      <td>0.0</td>\n",
       "      <td>0.0</td>\n",
       "      <td>0.0</td>\n",
       "      <td>0.0</td>\n",
       "      <td>0.0</td>\n",
       "      <td>0.0</td>\n",
       "      <td>0.0</td>\n",
       "    </tr>\n",
       "    <tr>\n",
       "      <th>1002996</th>\n",
       "      <td>0.0</td>\n",
       "      <td>0.0</td>\n",
       "      <td>0.0</td>\n",
       "      <td>0.0</td>\n",
       "      <td>0.0</td>\n",
       "      <td>0.0</td>\n",
       "      <td>0.0</td>\n",
       "      <td>0.0</td>\n",
       "      <td>0.0</td>\n",
       "      <td>0.0</td>\n",
       "      <td>...</td>\n",
       "      <td>0.0</td>\n",
       "      <td>0.0</td>\n",
       "      <td>0.0</td>\n",
       "      <td>0.0</td>\n",
       "      <td>0.0</td>\n",
       "      <td>0.0</td>\n",
       "      <td>0.0</td>\n",
       "      <td>0.0</td>\n",
       "      <td>0.0</td>\n",
       "      <td>0.0</td>\n",
       "    </tr>\n",
       "    <tr>\n",
       "      <th>100315</th>\n",
       "      <td>0.0</td>\n",
       "      <td>0.0</td>\n",
       "      <td>0.0</td>\n",
       "      <td>0.0</td>\n",
       "      <td>0.0</td>\n",
       "      <td>0.0</td>\n",
       "      <td>0.0</td>\n",
       "      <td>0.0</td>\n",
       "      <td>0.0</td>\n",
       "      <td>0.0</td>\n",
       "      <td>...</td>\n",
       "      <td>0.0</td>\n",
       "      <td>0.0</td>\n",
       "      <td>0.0</td>\n",
       "      <td>0.0</td>\n",
       "      <td>0.0</td>\n",
       "      <td>0.0</td>\n",
       "      <td>0.0</td>\n",
       "      <td>0.0</td>\n",
       "      <td>0.0</td>\n",
       "      <td>0.0</td>\n",
       "    </tr>\n",
       "    <tr>\n",
       "      <th>1004424</th>\n",
       "      <td>0.0</td>\n",
       "      <td>0.0</td>\n",
       "      <td>0.0</td>\n",
       "      <td>0.0</td>\n",
       "      <td>0.0</td>\n",
       "      <td>0.0</td>\n",
       "      <td>0.0</td>\n",
       "      <td>0.0</td>\n",
       "      <td>0.0</td>\n",
       "      <td>0.0</td>\n",
       "      <td>...</td>\n",
       "      <td>0.0</td>\n",
       "      <td>0.0</td>\n",
       "      <td>0.0</td>\n",
       "      <td>0.0</td>\n",
       "      <td>0.0</td>\n",
       "      <td>0.0</td>\n",
       "      <td>0.0</td>\n",
       "      <td>0.0</td>\n",
       "      <td>0.0</td>\n",
       "      <td>0.0</td>\n",
       "    </tr>\n",
       "  </tbody>\n",
       "</table>\n",
       "<p>5 rows × 338751 columns</p>\n",
       "</div>"
      ],
      "text/plain": [
       "user_id        1  100  1000  10000027  1000008  1000012  1000016  100002  \\\n",
       "pattern_ids                                                                \n",
       "10           1.0  0.0   0.0       0.0      0.0      0.0      0.0     0.0   \n",
       "100065       0.0  0.0   0.0       0.0      0.0      0.0      0.0     0.0   \n",
       "1002996      0.0  0.0   0.0       0.0      0.0      0.0      0.0     0.0   \n",
       "100315       0.0  0.0   0.0       0.0      0.0      0.0      0.0     0.0   \n",
       "1004424      0.0  0.0   0.0       0.0      0.0      0.0      0.0     0.0   \n",
       "\n",
       "user_id      1000031  10000324  ...  999942  9999542  999965  999976  999984  \\\n",
       "pattern_ids                     ...                                            \n",
       "10               0.0       0.0  ...     0.0      0.0     0.0     0.0     0.0   \n",
       "100065           0.0       0.0  ...     0.0      0.0     0.0     0.0     0.0   \n",
       "1002996          0.0       0.0  ...     0.0      0.0     0.0     0.0     0.0   \n",
       "100315           0.0       0.0  ...     0.0      0.0     0.0     0.0     0.0   \n",
       "1004424          0.0       0.0  ...     0.0      0.0     0.0     0.0     0.0   \n",
       "\n",
       "user_id      9999877  99999  999991  9999924  9999967  \n",
       "pattern_ids                                            \n",
       "10               0.0    0.0     0.0      0.0      0.0  \n",
       "100065           0.0    0.0     0.0      0.0      0.0  \n",
       "1002996          0.0    0.0     0.0      0.0      0.0  \n",
       "100315           0.0    0.0     0.0      0.0      0.0  \n",
       "1004424          0.0    0.0     0.0      0.0      0.0  \n",
       "\n",
       "[5 rows x 338751 columns]"
      ]
     },
     "execution_count": 362,
     "metadata": {},
     "output_type": "execute_result"
    }
   ],
   "source": [
    "print(user_knit_pivot.shape)\n",
    "# user_knit_pivot_2 = user_knit_pivot.T\n",
    "user_knit_pivot.head()"
   ]
  },
  {
   "cell_type": "code",
   "execution_count": 370,
   "id": "2a4263e1-e668-4798-92f1-01b90fc4b9f0",
   "metadata": {},
   "outputs": [
    {
     "data": {
      "text/plain": [
       "(2961, 1000)"
      ]
     },
     "execution_count": 370,
     "metadata": {},
     "output_type": "execute_result"
    }
   ],
   "source": [
    "X = user_knit_pivot.values\n",
    "svd = TruncatedSVD(n_components=1000, random_state =88)\n",
    "matrix = svd.fit_transform(X)\n",
    "matrix.shape"
   ]
  },
  {
   "cell_type": "code",
   "execution_count": 372,
   "id": "986957e5-a6a3-4d02-80a9-a85aaf6233ed",
   "metadata": {},
   "outputs": [
    {
     "name": "stdout",
     "output_type": "stream",
     "text": [
      "0.6715038510348262\n"
     ]
    }
   ],
   "source": [
    "explained_variance_ratios = svd.explained_variance_ratio_\n",
    "explained_variance_ratios_sum = svd.explained_variance_ratio_.sum()\n",
    "singular_values = svd.singular_values_\n",
    "print(explained_variance_ratios_sum )"
   ]
  },
  {
   "cell_type": "code",
   "execution_count": 318,
   "id": "e0a040a4-8c62-434f-a547-186d204b7b39",
   "metadata": {},
   "outputs": [
    {
     "data": {
      "text/plain": [
       "(2961, 2961)"
      ]
     },
     "execution_count": 318,
     "metadata": {},
     "output_type": "execute_result"
    }
   ],
   "source": [
    "# calculate pearson R correlation \n",
    "\n",
    "import warnings\n",
    "warnings.filterwarnings(\"ignore\", category=RuntimeWarning)\n",
    "corr = np.corrcoef(matrix)\n",
    "corr.shape"
   ]
  },
  {
   "cell_type": "code",
   "execution_count": 319,
   "id": "a7852fbc-3e3c-48db-b97f-fb0b4d41705c",
   "metadata": {},
   "outputs": [],
   "source": [
    "pattern_ids = user_knit_pivot.index\n",
    "pattern_ids_list = list(pattern_ids)\n",
    "# pattern_ids_list"
   ]
  },
  {
   "cell_type": "code",
   "execution_count": 320,
   "id": "a0757bb6-954f-4144-89cc-5311459a26f5",
   "metadata": {},
   "outputs": [],
   "source": [
    "pattern_100315 = pattern_ids_list.index('100315')"
   ]
  },
  {
   "cell_type": "code",
   "execution_count": 321,
   "id": "52783d9e-9546-4ba0-8460-31d922d08354",
   "metadata": {},
   "outputs": [],
   "source": [
    "corr_100315 = corr[pattern_100315]"
   ]
  },
  {
   "cell_type": "code",
   "execution_count": 322,
   "id": "a164a496-f97c-4d66-b4a6-b0ab48ae23cc",
   "metadata": {},
   "outputs": [
    {
     "data": {
      "text/plain": [
       "['135838',\n",
       " '142636',\n",
       " '146639',\n",
       " '146682',\n",
       " '149026',\n",
       " '157344',\n",
       " '169841',\n",
       " '172812',\n",
       " '175172',\n",
       " '196381',\n",
       " '200709',\n",
       " '203002',\n",
       " '203128',\n",
       " '206221',\n",
       " '213483',\n",
       " '256724',\n",
       " '268530',\n",
       " '268546',\n",
       " '290445',\n",
       " '368955',\n",
       " '58778',\n",
       " '64404']"
      ]
     },
     "execution_count": 322,
     "metadata": {},
     "output_type": "execute_result"
    }
   ],
   "source": [
    "list(pattern_ids[(corr_100315<1.0)&(corr_100315>0.95)])"
   ]
  },
  {
   "cell_type": "code",
   "execution_count": null,
   "id": "e764b1da-d79c-4f78-aa41-97c18e1e5853",
   "metadata": {},
   "outputs": [],
   "source": [
    "USE TRUNCATED SVD AND cross validation!! "
   ]
  },
  {
   "cell_type": "markdown",
   "id": "54033caa-a861-428f-82fc-f3b5ea69bc6e",
   "metadata": {},
   "source": [
    "## Matrix Factorization using implicit library\n",
    "https://www.ethanrosenthal.com/2016/10/19/implicit-mf-part-1/\n",
    "https://towardsdatascience.com/alternating-least-square-for-implicit-dataset-with-code-8e7999277f4b"
   ]
  },
  {
   "cell_type": "code",
   "execution_count": 233,
   "id": "d217117e-8679-4d87-ba83-272bcb978a19",
   "metadata": {},
   "outputs": [],
   "source": [
    "import pandas as pd\n",
    "import numpy as np\n",
    "import scipy.sparse as sparse\n",
    "import random\n",
    "# import implicit "
   ]
  },
  {
   "cell_type": "code",
   "execution_count": 219,
   "id": "6d3cc1e8-4a0e-4035-9717-f0cd1b836994",
   "metadata": {},
   "outputs": [
    {
     "data": {
      "text/html": [
       "<div>\n",
       "<style scoped>\n",
       "    .dataframe tbody tr th:only-of-type {\n",
       "        vertical-align: middle;\n",
       "    }\n",
       "\n",
       "    .dataframe tbody tr th {\n",
       "        vertical-align: top;\n",
       "    }\n",
       "\n",
       "    .dataframe thead th {\n",
       "        text-align: right;\n",
       "    }\n",
       "</style>\n",
       "<table border=\"1\" class=\"dataframe\">\n",
       "  <thead>\n",
       "    <tr style=\"text-align: right;\">\n",
       "      <th></th>\n",
       "      <th>uid</th>\n",
       "      <th>iid</th>\n",
       "    </tr>\n",
       "  </thead>\n",
       "  <tbody>\n",
       "    <tr>\n",
       "      <th>0</th>\n",
       "      <td>5153610</td>\n",
       "      <td>88</td>\n",
       "    </tr>\n",
       "    <tr>\n",
       "      <th>12</th>\n",
       "      <td>2187244</td>\n",
       "      <td>88</td>\n",
       "    </tr>\n",
       "    <tr>\n",
       "      <th>55</th>\n",
       "      <td>221081</td>\n",
       "      <td>88</td>\n",
       "    </tr>\n",
       "    <tr>\n",
       "      <th>92</th>\n",
       "      <td>193651</td>\n",
       "      <td>88</td>\n",
       "    </tr>\n",
       "    <tr>\n",
       "      <th>98</th>\n",
       "      <td>131434</td>\n",
       "      <td>88</td>\n",
       "    </tr>\n",
       "  </tbody>\n",
       "</table>\n",
       "</div>"
      ],
      "text/plain": [
       "        uid iid\n",
       "0   5153610  88\n",
       "12  2187244  88\n",
       "55   221081  88\n",
       "92   193651  88\n",
       "98   131434  88"
      ]
     },
     "execution_count": 219,
     "metadata": {},
     "output_type": "execute_result"
    }
   ],
   "source": [
    "df_implicit = df[['user_id','pattern_ids']]\n",
    "df_implicit.columns = ['uid', 'iid']\n",
    "df_implicit.head()\n"
   ]
  },
  {
   "cell_type": "code",
   "execution_count": 217,
   "id": "5fdfbd4a-dd10-454b-998e-f50405bc6449",
   "metadata": {},
   "outputs": [
    {
     "name": "stdout",
     "output_type": "stream",
     "text": [
      "Duplicated rows: 507372\n",
      "That's weird - let's just drop them\n"
     ]
    }
   ],
   "source": [
    "print('Duplicated rows: ' + str(df_implicit.duplicated().sum()))\n",
    "print('That\\'s weird - let\\'s just drop them')\n",
    "df.drop_duplicates(inplace=True)"
   ]
  },
  {
   "cell_type": "code",
   "execution_count": 222,
   "id": "f78677b0-06fd-4134-86bb-30d68a82593c",
   "metadata": {},
   "outputs": [
    {
     "name": "stdout",
     "output_type": "stream",
     "text": [
      "Number of users: 290270\n",
      "Number of models: 1700\n",
      "Sparsity: 0.486%\n"
     ]
    }
   ],
   "source": []
  },
  {
   "cell_type": "code",
   "execution_count": null,
   "id": "e86f03b8-5d21-4cb4-a0e6-2a59df31342f",
   "metadata": {},
   "outputs": [],
   "source": [
    "# From reference above\n",
    "# def threshold_likes(df, uid_min, mid_min):\n",
    "#     n_users = df.uid.unique().shape[0]\n",
    "#     n_items = df.mid.unique().shape[0]\n",
    "#     sparsity = float(df.shape[0]) / float(n_users*n_items) * 100\n",
    "#     print('Starting likes info')\n",
    "#     print('Number of users: {}'.format(n_users))\n",
    "#     print('Number of models: {}'.format(n_items))\n",
    "#     print('Sparsity: {:4.3f}%'.format(sparsity))\n",
    "    \n",
    "#     done = False\n",
    "#     while not done:\n",
    "#         starting_shape = df.shape[0]\n",
    "#         mid_counts = df.groupby('uid').mid.count()\n",
    "#         df = df[~df.uid.isin(mid_counts[mid_counts < mid_min].index.tolist())]\n",
    "#         uid_counts = df.groupby('mid').uid.count()\n",
    "#         df = df[~df.mid.isin(uid_counts[uid_counts < uid_min].index.tolist())]\n",
    "#         ending_shape = df.shape[0]\n",
    "#         if starting_shape == ending_shape:\n",
    "#             done = True\n",
    "    \n",
    "#     assert(df.groupby('uid').mid.count().min() >= mid_min)\n",
    "#     assert(df.groupby('mid').uid.count().min() >= uid_min)\n",
    "    \n",
    "#     n_users = df.uid.unique().shape[0]\n",
    "#     n_items = df.mid.unique().shape[0]\n",
    "#     sparsity = float(df.shape[0]) / float(n_users*n_items) * 100\n",
    "#     print('Ending likes info')\n",
    "#     print('Number of users: {}'.format(n_users))\n",
    "#     print('Number of models: {}'.format(n_items))\n",
    "#     print('Sparsity: {:4.3f}%'.format(sparsity))\n",
    "#     return df"
   ]
  },
  {
   "cell_type": "code",
   "execution_count": 225,
   "id": "6b3441f0-9374-4cd0-998d-85be468dd59a",
   "metadata": {},
   "outputs": [],
   "source": [
    "# Create mappings - huh can't we do this with pivot?\n",
    "iid_to_idx = {}\n",
    "idx_to_iid = {}\n",
    "for (idx, iid) in enumerate(df_implicit.iid.unique().tolist()):\n",
    "    iid_to_idx[iid] = idx\n",
    "    idx_to_iid[idx] = iid\n",
    "    \n",
    "uid_to_idx = {}\n",
    "idx_to_uid = {}\n",
    "for (idx, uid) in enumerate(df_implicit.uid.unique().tolist()):\n",
    "    uid_to_idx[uid] = idx\n",
    "    idx_to_uid[idx] = uid"
   ]
  },
  {
   "cell_type": "code",
   "execution_count": 226,
   "id": "96771d91-2607-47a5-ad2c-e40bbb5682b7",
   "metadata": {},
   "outputs": [],
   "source": [
    "def map_ids(row, mapper):\n",
    "    return mapper[row]"
   ]
  },
  {
   "cell_type": "code",
   "execution_count": 234,
   "id": "ae2f9142-f71d-43d8-9f11-bb264992ed6d",
   "metadata": {},
   "outputs": [
    {
     "name": "stdout",
     "output_type": "stream",
     "text": [
      "2.7 s ± 58.1 ms per loop (mean ± std. dev. of 7 runs, 1 loop each)\n"
     ]
    }
   ],
   "source": [
    "%%timeit\n",
    "I = df_implicit.uid.apply(map_ids, args=[uid_to_idx]).to_numpy()\n",
    "J = df_implicit.iid.apply(map_ids, args=[iid_to_idx]).to_numpy()\n",
    "V = np.ones(I.shape[0])\n",
    "likes = sparse.coo_matrix((V, (I, J)), dtype=np.float64)\n",
    "likes = likes.tocsr()"
   ]
  },
  {
   "cell_type": "code",
   "execution_count": 235,
   "id": "ff9f6a69-3a48-4052-8e51-602bdb72f550",
   "metadata": {},
   "outputs": [],
   "source": [
    "def train_test_split(ratings, split_count, fraction=None):\n",
    "    \"\"\"\n",
    "    Split recommendation data into train and test sets\n",
    "    \n",
    "    Params\n",
    "    ------\n",
    "    ratings : scipy.sparse matrix\n",
    "        Interactions between users and items.\n",
    "    split_count : int\n",
    "        Number of user-item-interactions per user to move\n",
    "        from training to test set.\n",
    "    fractions : float\n",
    "        Fraction of users to split off some of their\n",
    "        interactions into test set. If None, then all \n",
    "        users are considered.\n",
    "    \"\"\"\n",
    "    # Note: likely not the fastest way to do things below.\n",
    "    train = ratings.copy().tocoo()\n",
    "    test = sparse.lil_matrix(train.shape)\n",
    "    \n",
    "    if fraction:\n",
    "        try:\n",
    "            user_index = np.random.choice(\n",
    "                np.where(np.bincount(train.row) >= split_count * 2)[0], \n",
    "                replace=False,\n",
    "                size=np.int32(np.floor(fraction * train.shape[0]))\n",
    "            ).tolist()\n",
    "        except:\n",
    "            print(('Not enough users with > {} '\n",
    "                  'interactions for fraction of {}')\\\n",
    "                  .format(2*k, fraction))\n",
    "            raise\n",
    "    else:\n",
    "        user_index = range(train.shape[0])\n",
    "        \n",
    "    train = train.tolil()\n",
    "\n",
    "    for user in user_index:\n",
    "        test_ratings = np.random.choice(ratings.getrow(user).indices, \n",
    "                                        size=split_count, \n",
    "                                        replace=False)\n",
    "        train[user, test_ratings] = 0.\n",
    "        # These are just 1.0 right now\n",
    "        test[user, test_ratings] = ratings[user, test_ratings]\n",
    "   \n",
    "    \n",
    "    # Test and training are truly disjoint\n",
    "    assert(train.multiply(test).nnz == 0)\n",
    "    return train.tocsr(), test.tocsr(), user_index\n"
   ]
  },
  {
   "cell_type": "code",
   "execution_count": 351,
   "id": "7480493d-7918-42d1-9759-255eb775785f",
   "metadata": {},
   "outputs": [],
   "source": [
    "# train, test, user_index = train_test_split(likes, 5, fraction=0.2)\n"
   ]
  },
  {
   "cell_type": "code",
   "execution_count": 350,
   "id": "0d54b906-f31f-4477-9f71-81fcc7e7b701",
   "metadata": {},
   "outputs": [],
   "source": [
    "# import implicit\n",
    "# import scipy.sparse as sparse\n",
    "\n",
    "# # initialize a model\n",
    "# model = implicit.als.AlternatingLeastSquares(factors=50)\n",
    "\n",
    "# # train the model on a sparse matrix of item/user/confidence weights\n",
    "# model.fit(item_user_data)\n",
    "\n",
    "# # recommend items for a user\n",
    "# user_items = item_user_data.T.tocsr()\n",
    "# recommendations = model.recommend(userid, user_items)\n",
    "\n",
    "# # find related items\n",
    "# related = model.similar_items(itemid)"
   ]
  },
  {
   "cell_type": "code",
   "execution_count": null,
   "id": "706bc245-c4b4-4971-b6d3-106ca1b94906",
   "metadata": {},
   "outputs": [],
   "source": []
  },
  {
   "cell_type": "code",
   "execution_count": null,
   "id": "e648a245-3a45-4fe8-b4ad-1c581770266a",
   "metadata": {},
   "outputs": [],
   "source": []
  },
  {
   "cell_type": "code",
   "execution_count": null,
   "id": "95b766ba-59d3-49b3-b6bd-b09a49957215",
   "metadata": {},
   "outputs": [],
   "source": []
  },
  {
   "cell_type": "code",
   "execution_count": null,
   "id": "d6f0aa4e-6791-458e-b1cb-2ccb2b5596cc",
   "metadata": {},
   "outputs": [],
   "source": [
    "#suprise library \n",
    "can use knn compare cosine ve pearson_baseling\n",
    "user_based = Fale"
   ]
  },
  {
   "cell_type": "code",
   "execution_count": null,
   "id": "3162bc18-fdd9-48dc-a4f1-ad71c539cdcf",
   "metadata": {},
   "outputs": [],
   "source": []
  },
  {
   "cell_type": "markdown",
   "id": "463d229b-1033-47b3-aebc-fdd2e3723c60",
   "metadata": {},
   "source": [
    "### Model Based (Matrix Factorization)\n",
    "\n",
    "look at this one:\n",
    "https://towardsdatascience.com/recommender-system-singular-value-decomposition-svd-truncated-svd-97096338f361\n",
    "\n",
    "*** include TSNE FROM this one and split\n",
    "\n",
    "\n",
    "uh oh - looks like surpise doesn't support implict rating??\n",
    "https://surprise.readthedocs.io/en/stable/matrix_factorization.html#surprise.prediction_algorithms.matrix_factorization.SVDpp this works though\n",
    "\n",
    "#### lets try this one out \n",
    "https://analyticsindiamag.com/singular-value-decomposition-svd-application-recommender-system/"
   ]
  },
  {
   "cell_type": "code",
   "execution_count": 345,
   "id": "cab4e49b-0de3-46c6-b8b3-8f102b71302b",
   "metadata": {},
   "outputs": [],
   "source": [
    "import pandas as pd\n",
    "\n",
    "from surprise import SVD\n",
    "from surprise import SVDpp\n",
    "\n",
    "# # import dataset from surprise\n",
    "from surprise import Dataset\n",
    "from surprise import Reader\n",
    "\n",
    "import surprise\n",
    "# import random\n",
    "\n",
    "# import accuracy from surprise\n",
    "from surprise import accuracy\n",
    "\n",
    "# import train_test_split from surprise.model_selection\n",
    "from surprise.model_selection import train_test_split\n",
    "# import GridSearchCV from surprise.model_selection\n",
    "from surprise.model_selection import GridSearchCV\n",
    "# import cross_validate from surprise.model_selection\n",
    "from surprise.model_selection import cross_validate\n",
    "from surprise.model_selection.split import PredefinedKFold#kFold "
   ]
  },
  {
   "cell_type": "code",
   "execution_count": 337,
   "id": "97f476ba-f303-47cf-acef-f2cabd201acb",
   "metadata": {},
   "outputs": [],
   "source": [
    "df.head()\n",
    "dataset = df[['user_id', 'pattern_ids', 'has_knit']]"
   ]
  },
  {
   "cell_type": "code",
   "execution_count": 338,
   "id": "c1836e72-093a-4462-87d5-96468e2f1cd4",
   "metadata": {},
   "outputs": [],
   "source": [
    "reader = surprise.Reader(rating_scale = (0,1))\n",
    "data = surprise.Dataset.load_from_df(dataset, reader)"
   ]
  },
  {
   "cell_type": "code",
   "execution_count": 339,
   "id": "a849b6d9-4e5c-4568-91fa-5bae769d1320",
   "metadata": {},
   "outputs": [],
   "source": [
    "trainset, testset = train_test_split(data, test_size=.2)"
   ]
  },
  {
   "cell_type": "code",
   "execution_count": 340,
   "id": "cf450e2a-aea2-43d5-ae62-826cf736ed9e",
   "metadata": {},
   "outputs": [
    {
     "name": "stdout",
     "output_type": "stream",
     "text": [
      "Processing epoch 0\n",
      "Processing epoch 1\n",
      "Processing epoch 2\n",
      "Processing epoch 3\n",
      "Processing epoch 4\n",
      "Processing epoch 5\n",
      "Processing epoch 6\n",
      "Processing epoch 7\n",
      "Processing epoch 8\n",
      "Processing epoch 9\n",
      "Processing epoch 10\n",
      "Processing epoch 11\n",
      "Processing epoch 12\n",
      "Processing epoch 13\n",
      "Processing epoch 14\n",
      "Processing epoch 15\n",
      "Processing epoch 16\n",
      "Processing epoch 17\n",
      "Processing epoch 18\n",
      "Processing epoch 19\n"
     ]
    },
    {
     "data": {
      "text/plain": [
       "<surprise.prediction_algorithms.matrix_factorization.SVD at 0x7fb88ca5c4e0>"
      ]
     },
     "execution_count": 340,
     "metadata": {},
     "output_type": "execute_result"
    }
   ],
   "source": [
    "alg = SVD(verbose=True)\n",
    "alg.fit(trainset)"
   ]
  },
  {
   "cell_type": "code",
   "execution_count": 341,
   "id": "bcad0e07-2a18-42e4-af4e-3463e2fba4f2",
   "metadata": {},
   "outputs": [
    {
     "name": "stdout",
     "output_type": "stream",
     "text": [
      "RMSE: 0.0116\n"
     ]
    },
    {
     "data": {
      "text/plain": [
       "0.01156520893410513"
      ]
     },
     "execution_count": 341,
     "metadata": {},
     "output_type": "execute_result"
    }
   ],
   "source": [
    "predictions = alg.test(testset)\n",
    "accuracy.rmse(predictions)"
   ]
  },
  {
   "cell_type": "code",
   "execution_count": 342,
   "id": "7a5c3e27-1d86-44eb-a704-598e2081cc58",
   "metadata": {},
   "outputs": [],
   "source": [
    "param_grid = {'n_factors': [10, 50, 80], 'reg_all': [0.08, 0.1, 0.15]}"
   ]
  },
  {
   "cell_type": "code",
   "execution_count": 348,
   "id": "2190a516-dcc3-459a-915d-84bf495620f3",
   "metadata": {},
   "outputs": [
    {
     "ename": "AttributeError",
     "evalue": "'Trainset' object has no attribute 'folds_files'",
     "output_type": "error",
     "traceback": [
      "\u001b[0;31m---------------------------------------------------------------------------\u001b[0m",
      "\u001b[0;31mAttributeError\u001b[0m                            Traceback (most recent call last)",
      "\u001b[0;32m<ipython-input-348-732a34f89c4b>\u001b[0m in \u001b[0;36m<module>\u001b[0;34m\u001b[0m\n\u001b[1;32m      1\u001b[0m \u001b[0mcv\u001b[0m\u001b[0;34m=\u001b[0m\u001b[0mPredefinedKFold\u001b[0m\u001b[0;34m(\u001b[0m\u001b[0;34m)\u001b[0m\u001b[0;34m\u001b[0m\u001b[0;34m\u001b[0m\u001b[0m\n\u001b[1;32m      2\u001b[0m \u001b[0mgs\u001b[0m \u001b[0;34m=\u001b[0m \u001b[0mGridSearchCV\u001b[0m\u001b[0;34m(\u001b[0m\u001b[0mSVD\u001b[0m\u001b[0;34m,\u001b[0m \u001b[0mparam_grid\u001b[0m\u001b[0;34m,\u001b[0m \u001b[0mmeasures\u001b[0m\u001b[0;34m=\u001b[0m\u001b[0;34m[\u001b[0m\u001b[0;34m'rmse'\u001b[0m\u001b[0;34m,\u001b[0m \u001b[0;34m'mae'\u001b[0m\u001b[0;34m]\u001b[0m\u001b[0;34m,\u001b[0m \u001b[0mcv\u001b[0m\u001b[0;34m=\u001b[0m\u001b[0mcv\u001b[0m\u001b[0;34m)\u001b[0m\u001b[0;34m\u001b[0m\u001b[0;34m\u001b[0m\u001b[0m\n\u001b[0;32m----> 3\u001b[0;31m \u001b[0mgs\u001b[0m\u001b[0;34m.\u001b[0m\u001b[0mfit\u001b[0m\u001b[0;34m(\u001b[0m\u001b[0mtrainset\u001b[0m\u001b[0;34m)\u001b[0m  \u001b[0;31m# this needs to be just trainset!\u001b[0m\u001b[0;34m\u001b[0m\u001b[0;34m\u001b[0m\u001b[0m\n\u001b[0m\u001b[1;32m      4\u001b[0m \u001b[0mprint\u001b[0m\u001b[0;34m(\u001b[0m\u001b[0mgs\u001b[0m\u001b[0;34m.\u001b[0m\u001b[0mbest_params\u001b[0m\u001b[0;34m[\u001b[0m\u001b[0;34m'rmse'\u001b[0m\u001b[0;34m]\u001b[0m\u001b[0;34m)\u001b[0m\u001b[0;34m\u001b[0m\u001b[0;34m\u001b[0m\u001b[0m\n\u001b[1;32m      5\u001b[0m \u001b[0mprint\u001b[0m\u001b[0;34m(\u001b[0m\u001b[0mgs\u001b[0m\u001b[0;34m.\u001b[0m\u001b[0mbest_score\u001b[0m\u001b[0;34m[\u001b[0m\u001b[0;34m'rmse'\u001b[0m\u001b[0;34m]\u001b[0m\u001b[0;34m)\u001b[0m\u001b[0;34m\u001b[0m\u001b[0;34m\u001b[0m\u001b[0m\n",
      "\u001b[0;32m~/opt/anaconda3/envs/test_env/lib/python3.6/site-packages/surprise/model_selection/search.py\u001b[0m in \u001b[0;36mfit\u001b[0;34m(self, data)\u001b[0m\n\u001b[1;32m     84\u001b[0m                                    self.return_train_measures)\n\u001b[1;32m     85\u001b[0m             for params, (trainset, testset) in product(self.param_combinations,\n\u001b[0;32m---> 86\u001b[0;31m                                                        cv.split(data))\n\u001b[0m\u001b[1;32m     87\u001b[0m         )\n\u001b[1;32m     88\u001b[0m         out = Parallel(n_jobs=self.n_jobs,\n",
      "\u001b[0;32m~/opt/anaconda3/envs/test_env/lib/python3.6/site-packages/surprise/model_selection/split.py\u001b[0m in \u001b[0;36msplit\u001b[0;34m(self, data)\u001b[0m\n\u001b[1;32m    429\u001b[0m         \"\"\"\n\u001b[1;32m    430\u001b[0m \u001b[0;34m\u001b[0m\u001b[0m\n\u001b[0;32m--> 431\u001b[0;31m         \u001b[0mself\u001b[0m\u001b[0;34m.\u001b[0m\u001b[0mn_splits\u001b[0m \u001b[0;34m=\u001b[0m \u001b[0mlen\u001b[0m\u001b[0;34m(\u001b[0m\u001b[0mdata\u001b[0m\u001b[0;34m.\u001b[0m\u001b[0mfolds_files\u001b[0m\u001b[0;34m)\u001b[0m\u001b[0;34m\u001b[0m\u001b[0;34m\u001b[0m\u001b[0m\n\u001b[0m\u001b[1;32m    432\u001b[0m         \u001b[0;32mfor\u001b[0m \u001b[0mtrain_file\u001b[0m\u001b[0;34m,\u001b[0m \u001b[0mtest_file\u001b[0m \u001b[0;32min\u001b[0m \u001b[0mdata\u001b[0m\u001b[0;34m.\u001b[0m\u001b[0mfolds_files\u001b[0m\u001b[0;34m:\u001b[0m\u001b[0;34m\u001b[0m\u001b[0;34m\u001b[0m\u001b[0m\n\u001b[1;32m    433\u001b[0m \u001b[0;34m\u001b[0m\u001b[0m\n",
      "\u001b[0;31mAttributeError\u001b[0m: 'Trainset' object has no attribute 'folds_files'"
     ]
    }
   ],
   "source": [
    "cv=PredefinedKFold()\n",
    "gs = GridSearchCV(SVD, param_grid, measures=['rmse', 'mae'], cv=cv)\n",
    "gs.fit(trainset)  # this needs to be just trainset!\n",
    "print(gs.best_params['rmse'])\n",
    "print(gs.best_score['rmse'])\n"
   ]
  },
  {
   "cell_type": "code",
   "execution_count": 93,
   "id": "4cff5be6-79a6-4524-befe-0857b4d26c10",
   "metadata": {},
   "outputs": [],
   "source": [
    "# # Actually want truncated... better for memory \n",
    "# alg = surprise.SVDpp()\n",
    "# output = alg.fit(data.build_full_trainset())"
   ]
  },
  {
   "cell_type": "code",
   "execution_count": 95,
   "id": "96f9e9d7-0d5f-45ab-8843-91767cc3a925",
   "metadata": {},
   "outputs": [
    {
     "name": "stdout",
     "output_type": "stream",
     "text": [
      "0.9999667910111882\n"
     ]
    }
   ],
   "source": [
    "# # The uid and iid should be set as strings (uid - user_id, iid - item-id)\n",
    "# pred = alg.predict(uid='11826', iid='374')\n",
    "# score = pred.est\n",
    "# print(score)"
   ]
  },
  {
   "cell_type": "code",
   "execution_count": null,
   "id": "5503b11f-5bab-4186-8be7-043fd81f4d6b",
   "metadata": {},
   "outputs": [],
   "source": [
    "# # recommendations\n",
    "# import difflib\n",
    "# import random\n",
    "\n",
    "# def get_book_id(book_title, metadata):\n",
    "    \n",
    "#     \"\"\"\n",
    "#     Gets the book ID for a book title based on the closest match in the metadata dataframe.\n",
    "#     \"\"\"\n",
    "    \n",
    "#     existing_titles = list(metadata['title'].values)\n",
    "#     closest_titles = difflib.get_close_matches(book_title, existing_titles)\n",
    "#     book_id = metadata[metadata['title'] == closest_titles[0]]['id'].values[0]\n",
    "#     return book_id\n",
    "\n",
    "# def get_book_info(book_id, metadata):\n",
    "    \n",
    "#     \"\"\"\n",
    "#     Returns some basic information about a book given the book id and the metadata dataframe.\n",
    "#     \"\"\"\n",
    "    \n",
    "#     book_info = metadata[metadata['id'] == book_id][['id', 'isbn', \n",
    "#                                                     'authors', 'title', 'original_title']]\n",
    "#     return book_info.to_dict(orient='records')\n",
    "\n",
    "# def predict_review(user_id, book_title, model, metadata):\n",
    "    \n",
    "#     \"\"\"\n",
    "#     Predicts the review (on a scale of 1-5) that a user would assign to a specific book. \n",
    "#     \"\"\"\n",
    "    \n",
    "#     book_id = get_book_id(book_title, metadata)\n",
    "#     review_prediction = model.predict(uid=user_id, iid=book_id)\n",
    "#     return review_prediction.est\n",
    "\n",
    "# def generate_recommendation(user_id, model, metadata, thresh=4):\n",
    "    \n",
    "#     \"\"\"\n",
    "#     Generates a book recommendation for a user based on a rating threshold. Only\n",
    "#     books with a predicted rating at or above the threshold will be recommended\n",
    "#     \"\"\"\n",
    "    \n",
    "#     book_titles = list(metadata['title'].values)\n",
    "#     random.shuffle(book_titles)\n",
    "    \n",
    "#     for book_title in book_titles:\n",
    "#         rating = predict_review(user_id, book_title, model, metadata)\n",
    "#         if rating >= thresh:\n",
    "#             book_id = get_book_id(book_title, metadata)\n",
    "#             return get_book_info(book_id, metadata)"
   ]
  },
  {
   "cell_type": "markdown",
   "id": "c7d0e9ee-849e-45d9-b8ae-60476efa8a76",
   "metadata": {},
   "source": [
    "## Using surprise\n",
    "from https://towardsdatascience.com/building-and-testing-recommender-systems-with-surprise-step-by-step-d4ba702ef80b"
   ]
  },
  {
   "cell_type": "code",
   "execution_count": 335,
   "id": "3af0b104-882d-4dfd-a42f-3fa9036e31ce",
   "metadata": {},
   "outputs": [
    {
     "ename": "KeyboardInterrupt",
     "evalue": "",
     "output_type": "error",
     "traceback": [
      "\u001b[0;31m---------------------------------------------------------------------------\u001b[0m",
      "\u001b[0;31mKeyboardInterrupt\u001b[0m                         Traceback (most recent call last)",
      "\u001b[0;32m<ipython-input-335-ed35f0f3234a>\u001b[0m in \u001b[0;36m<module>\u001b[0;34m\u001b[0m\n\u001b[1;32m      3\u001b[0m \u001b[0;32mfor\u001b[0m \u001b[0malgorithm\u001b[0m \u001b[0;32min\u001b[0m \u001b[0;34m[\u001b[0m\u001b[0mSVDpp\u001b[0m\u001b[0;34m(\u001b[0m\u001b[0;34m)\u001b[0m\u001b[0;34m]\u001b[0m\u001b[0;34m:\u001b[0m\u001b[0;34m\u001b[0m\u001b[0;34m\u001b[0m\u001b[0m\n\u001b[1;32m      4\u001b[0m     \u001b[0;31m# Perform cross validation\u001b[0m\u001b[0;34m\u001b[0m\u001b[0;34m\u001b[0m\u001b[0;34m\u001b[0m\u001b[0m\n\u001b[0;32m----> 5\u001b[0;31m     \u001b[0mresults\u001b[0m \u001b[0;34m=\u001b[0m \u001b[0mcross_validate\u001b[0m\u001b[0;34m(\u001b[0m\u001b[0malgorithm\u001b[0m\u001b[0;34m,\u001b[0m \u001b[0mdata\u001b[0m\u001b[0;34m,\u001b[0m \u001b[0mmeasures\u001b[0m\u001b[0;34m=\u001b[0m\u001b[0;34m[\u001b[0m\u001b[0;34m'RMSE'\u001b[0m\u001b[0;34m]\u001b[0m\u001b[0;34m,\u001b[0m \u001b[0mcv\u001b[0m\u001b[0;34m=\u001b[0m\u001b[0;36m3\u001b[0m\u001b[0;34m,\u001b[0m \u001b[0mverbose\u001b[0m\u001b[0;34m=\u001b[0m\u001b[0;32mFalse\u001b[0m\u001b[0;34m)\u001b[0m\u001b[0;34m\u001b[0m\u001b[0;34m\u001b[0m\u001b[0m\n\u001b[0m\u001b[1;32m      6\u001b[0m \u001b[0;34m\u001b[0m\u001b[0m\n\u001b[1;32m      7\u001b[0m     \u001b[0;31m# Get results & append algorithm name\u001b[0m\u001b[0;34m\u001b[0m\u001b[0;34m\u001b[0m\u001b[0;34m\u001b[0m\u001b[0m\n",
      "\u001b[0;32m~/opt/anaconda3/envs/test_env/lib/python3.6/site-packages/surprise/model_selection/validation.py\u001b[0m in \u001b[0;36mcross_validate\u001b[0;34m(algo, data, measures, cv, return_train_measures, n_jobs, pre_dispatch, verbose)\u001b[0m\n\u001b[1;32m    101\u001b[0m                                            return_train_measures)\n\u001b[1;32m    102\u001b[0m                     for (trainset, testset) in cv.split(data))\n\u001b[0;32m--> 103\u001b[0;31m     \u001b[0mout\u001b[0m \u001b[0;34m=\u001b[0m \u001b[0mParallel\u001b[0m\u001b[0;34m(\u001b[0m\u001b[0mn_jobs\u001b[0m\u001b[0;34m=\u001b[0m\u001b[0mn_jobs\u001b[0m\u001b[0;34m,\u001b[0m \u001b[0mpre_dispatch\u001b[0m\u001b[0;34m=\u001b[0m\u001b[0mpre_dispatch\u001b[0m\u001b[0;34m)\u001b[0m\u001b[0;34m(\u001b[0m\u001b[0mdelayed_list\u001b[0m\u001b[0;34m)\u001b[0m\u001b[0;34m\u001b[0m\u001b[0;34m\u001b[0m\u001b[0m\n\u001b[0m\u001b[1;32m    104\u001b[0m \u001b[0;34m\u001b[0m\u001b[0m\n\u001b[1;32m    105\u001b[0m     (test_measures_dicts,\n",
      "\u001b[0;32m~/opt/anaconda3/envs/test_env/lib/python3.6/site-packages/joblib/parallel.py\u001b[0m in \u001b[0;36m__call__\u001b[0;34m(self, iterable)\u001b[0m\n\u001b[1;32m   1044\u001b[0m                 \u001b[0mself\u001b[0m\u001b[0;34m.\u001b[0m\u001b[0m_iterating\u001b[0m \u001b[0;34m=\u001b[0m \u001b[0mself\u001b[0m\u001b[0;34m.\u001b[0m\u001b[0m_original_iterator\u001b[0m \u001b[0;32mis\u001b[0m \u001b[0;32mnot\u001b[0m \u001b[0;32mNone\u001b[0m\u001b[0;34m\u001b[0m\u001b[0;34m\u001b[0m\u001b[0m\n\u001b[1;32m   1045\u001b[0m \u001b[0;34m\u001b[0m\u001b[0m\n\u001b[0;32m-> 1046\u001b[0;31m             \u001b[0;32mwhile\u001b[0m \u001b[0mself\u001b[0m\u001b[0;34m.\u001b[0m\u001b[0mdispatch_one_batch\u001b[0m\u001b[0;34m(\u001b[0m\u001b[0miterator\u001b[0m\u001b[0;34m)\u001b[0m\u001b[0;34m:\u001b[0m\u001b[0;34m\u001b[0m\u001b[0;34m\u001b[0m\u001b[0m\n\u001b[0m\u001b[1;32m   1047\u001b[0m                 \u001b[0;32mpass\u001b[0m\u001b[0;34m\u001b[0m\u001b[0;34m\u001b[0m\u001b[0m\n\u001b[1;32m   1048\u001b[0m \u001b[0;34m\u001b[0m\u001b[0m\n",
      "\u001b[0;32m~/opt/anaconda3/envs/test_env/lib/python3.6/site-packages/joblib/parallel.py\u001b[0m in \u001b[0;36mdispatch_one_batch\u001b[0;34m(self, iterator)\u001b[0m\n\u001b[1;32m    859\u001b[0m                 \u001b[0;32mreturn\u001b[0m \u001b[0;32mFalse\u001b[0m\u001b[0;34m\u001b[0m\u001b[0;34m\u001b[0m\u001b[0m\n\u001b[1;32m    860\u001b[0m             \u001b[0;32melse\u001b[0m\u001b[0;34m:\u001b[0m\u001b[0;34m\u001b[0m\u001b[0;34m\u001b[0m\u001b[0m\n\u001b[0;32m--> 861\u001b[0;31m                 \u001b[0mself\u001b[0m\u001b[0;34m.\u001b[0m\u001b[0m_dispatch\u001b[0m\u001b[0;34m(\u001b[0m\u001b[0mtasks\u001b[0m\u001b[0;34m)\u001b[0m\u001b[0;34m\u001b[0m\u001b[0;34m\u001b[0m\u001b[0m\n\u001b[0m\u001b[1;32m    862\u001b[0m                 \u001b[0;32mreturn\u001b[0m \u001b[0;32mTrue\u001b[0m\u001b[0;34m\u001b[0m\u001b[0;34m\u001b[0m\u001b[0m\n\u001b[1;32m    863\u001b[0m \u001b[0;34m\u001b[0m\u001b[0m\n",
      "\u001b[0;32m~/opt/anaconda3/envs/test_env/lib/python3.6/site-packages/joblib/parallel.py\u001b[0m in \u001b[0;36m_dispatch\u001b[0;34m(self, batch)\u001b[0m\n\u001b[1;32m    777\u001b[0m         \u001b[0;32mwith\u001b[0m \u001b[0mself\u001b[0m\u001b[0;34m.\u001b[0m\u001b[0m_lock\u001b[0m\u001b[0;34m:\u001b[0m\u001b[0;34m\u001b[0m\u001b[0;34m\u001b[0m\u001b[0m\n\u001b[1;32m    778\u001b[0m             \u001b[0mjob_idx\u001b[0m \u001b[0;34m=\u001b[0m \u001b[0mlen\u001b[0m\u001b[0;34m(\u001b[0m\u001b[0mself\u001b[0m\u001b[0;34m.\u001b[0m\u001b[0m_jobs\u001b[0m\u001b[0;34m)\u001b[0m\u001b[0;34m\u001b[0m\u001b[0;34m\u001b[0m\u001b[0m\n\u001b[0;32m--> 779\u001b[0;31m             \u001b[0mjob\u001b[0m \u001b[0;34m=\u001b[0m \u001b[0mself\u001b[0m\u001b[0;34m.\u001b[0m\u001b[0m_backend\u001b[0m\u001b[0;34m.\u001b[0m\u001b[0mapply_async\u001b[0m\u001b[0;34m(\u001b[0m\u001b[0mbatch\u001b[0m\u001b[0;34m,\u001b[0m \u001b[0mcallback\u001b[0m\u001b[0;34m=\u001b[0m\u001b[0mcb\u001b[0m\u001b[0;34m)\u001b[0m\u001b[0;34m\u001b[0m\u001b[0;34m\u001b[0m\u001b[0m\n\u001b[0m\u001b[1;32m    780\u001b[0m             \u001b[0;31m# A job can complete so quickly than its callback is\u001b[0m\u001b[0;34m\u001b[0m\u001b[0;34m\u001b[0m\u001b[0;34m\u001b[0m\u001b[0m\n\u001b[1;32m    781\u001b[0m             \u001b[0;31m# called before we get here, causing self._jobs to\u001b[0m\u001b[0;34m\u001b[0m\u001b[0;34m\u001b[0m\u001b[0;34m\u001b[0m\u001b[0m\n",
      "\u001b[0;32m~/opt/anaconda3/envs/test_env/lib/python3.6/site-packages/joblib/_parallel_backends.py\u001b[0m in \u001b[0;36mapply_async\u001b[0;34m(self, func, callback)\u001b[0m\n\u001b[1;32m    206\u001b[0m     \u001b[0;32mdef\u001b[0m \u001b[0mapply_async\u001b[0m\u001b[0;34m(\u001b[0m\u001b[0mself\u001b[0m\u001b[0;34m,\u001b[0m \u001b[0mfunc\u001b[0m\u001b[0;34m,\u001b[0m \u001b[0mcallback\u001b[0m\u001b[0;34m=\u001b[0m\u001b[0;32mNone\u001b[0m\u001b[0;34m)\u001b[0m\u001b[0;34m:\u001b[0m\u001b[0;34m\u001b[0m\u001b[0;34m\u001b[0m\u001b[0m\n\u001b[1;32m    207\u001b[0m         \u001b[0;34m\"\"\"Schedule a func to be run\"\"\"\u001b[0m\u001b[0;34m\u001b[0m\u001b[0;34m\u001b[0m\u001b[0m\n\u001b[0;32m--> 208\u001b[0;31m         \u001b[0mresult\u001b[0m \u001b[0;34m=\u001b[0m \u001b[0mImmediateResult\u001b[0m\u001b[0;34m(\u001b[0m\u001b[0mfunc\u001b[0m\u001b[0;34m)\u001b[0m\u001b[0;34m\u001b[0m\u001b[0;34m\u001b[0m\u001b[0m\n\u001b[0m\u001b[1;32m    209\u001b[0m         \u001b[0;32mif\u001b[0m \u001b[0mcallback\u001b[0m\u001b[0;34m:\u001b[0m\u001b[0;34m\u001b[0m\u001b[0;34m\u001b[0m\u001b[0m\n\u001b[1;32m    210\u001b[0m             \u001b[0mcallback\u001b[0m\u001b[0;34m(\u001b[0m\u001b[0mresult\u001b[0m\u001b[0;34m)\u001b[0m\u001b[0;34m\u001b[0m\u001b[0;34m\u001b[0m\u001b[0m\n",
      "\u001b[0;32m~/opt/anaconda3/envs/test_env/lib/python3.6/site-packages/joblib/_parallel_backends.py\u001b[0m in \u001b[0;36m__init__\u001b[0;34m(self, batch)\u001b[0m\n\u001b[1;32m    570\u001b[0m         \u001b[0;31m# Don't delay the application, to avoid keeping the input\u001b[0m\u001b[0;34m\u001b[0m\u001b[0;34m\u001b[0m\u001b[0;34m\u001b[0m\u001b[0m\n\u001b[1;32m    571\u001b[0m         \u001b[0;31m# arguments in memory\u001b[0m\u001b[0;34m\u001b[0m\u001b[0;34m\u001b[0m\u001b[0;34m\u001b[0m\u001b[0m\n\u001b[0;32m--> 572\u001b[0;31m         \u001b[0mself\u001b[0m\u001b[0;34m.\u001b[0m\u001b[0mresults\u001b[0m \u001b[0;34m=\u001b[0m \u001b[0mbatch\u001b[0m\u001b[0;34m(\u001b[0m\u001b[0;34m)\u001b[0m\u001b[0;34m\u001b[0m\u001b[0;34m\u001b[0m\u001b[0m\n\u001b[0m\u001b[1;32m    573\u001b[0m \u001b[0;34m\u001b[0m\u001b[0m\n\u001b[1;32m    574\u001b[0m     \u001b[0;32mdef\u001b[0m \u001b[0mget\u001b[0m\u001b[0;34m(\u001b[0m\u001b[0mself\u001b[0m\u001b[0;34m)\u001b[0m\u001b[0;34m:\u001b[0m\u001b[0;34m\u001b[0m\u001b[0;34m\u001b[0m\u001b[0m\n",
      "\u001b[0;32m~/opt/anaconda3/envs/test_env/lib/python3.6/site-packages/joblib/parallel.py\u001b[0m in \u001b[0;36m__call__\u001b[0;34m(self)\u001b[0m\n\u001b[1;32m    261\u001b[0m         \u001b[0;32mwith\u001b[0m \u001b[0mparallel_backend\u001b[0m\u001b[0;34m(\u001b[0m\u001b[0mself\u001b[0m\u001b[0;34m.\u001b[0m\u001b[0m_backend\u001b[0m\u001b[0;34m,\u001b[0m \u001b[0mn_jobs\u001b[0m\u001b[0;34m=\u001b[0m\u001b[0mself\u001b[0m\u001b[0;34m.\u001b[0m\u001b[0m_n_jobs\u001b[0m\u001b[0;34m)\u001b[0m\u001b[0;34m:\u001b[0m\u001b[0;34m\u001b[0m\u001b[0;34m\u001b[0m\u001b[0m\n\u001b[1;32m    262\u001b[0m             return [func(*args, **kwargs)\n\u001b[0;32m--> 263\u001b[0;31m                     for func, args, kwargs in self.items]\n\u001b[0m\u001b[1;32m    264\u001b[0m \u001b[0;34m\u001b[0m\u001b[0m\n\u001b[1;32m    265\u001b[0m     \u001b[0;32mdef\u001b[0m \u001b[0m__reduce__\u001b[0m\u001b[0;34m(\u001b[0m\u001b[0mself\u001b[0m\u001b[0;34m)\u001b[0m\u001b[0;34m:\u001b[0m\u001b[0;34m\u001b[0m\u001b[0;34m\u001b[0m\u001b[0m\n",
      "\u001b[0;32m~/opt/anaconda3/envs/test_env/lib/python3.6/site-packages/joblib/parallel.py\u001b[0m in \u001b[0;36m<listcomp>\u001b[0;34m(.0)\u001b[0m\n\u001b[1;32m    261\u001b[0m         \u001b[0;32mwith\u001b[0m \u001b[0mparallel_backend\u001b[0m\u001b[0;34m(\u001b[0m\u001b[0mself\u001b[0m\u001b[0;34m.\u001b[0m\u001b[0m_backend\u001b[0m\u001b[0;34m,\u001b[0m \u001b[0mn_jobs\u001b[0m\u001b[0;34m=\u001b[0m\u001b[0mself\u001b[0m\u001b[0;34m.\u001b[0m\u001b[0m_n_jobs\u001b[0m\u001b[0;34m)\u001b[0m\u001b[0;34m:\u001b[0m\u001b[0;34m\u001b[0m\u001b[0;34m\u001b[0m\u001b[0m\n\u001b[1;32m    262\u001b[0m             return [func(*args, **kwargs)\n\u001b[0;32m--> 263\u001b[0;31m                     for func, args, kwargs in self.items]\n\u001b[0m\u001b[1;32m    264\u001b[0m \u001b[0;34m\u001b[0m\u001b[0m\n\u001b[1;32m    265\u001b[0m     \u001b[0;32mdef\u001b[0m \u001b[0m__reduce__\u001b[0m\u001b[0;34m(\u001b[0m\u001b[0mself\u001b[0m\u001b[0;34m)\u001b[0m\u001b[0;34m:\u001b[0m\u001b[0;34m\u001b[0m\u001b[0;34m\u001b[0m\u001b[0m\n",
      "\u001b[0;32m~/opt/anaconda3/envs/test_env/lib/python3.6/site-packages/surprise/model_selection/validation.py\u001b[0m in \u001b[0;36mfit_and_score\u001b[0;34m(algo, trainset, testset, measures, return_train_measures)\u001b[0m\n\u001b[1;32m    164\u001b[0m \u001b[0;34m\u001b[0m\u001b[0m\n\u001b[1;32m    165\u001b[0m     \u001b[0mstart_fit\u001b[0m \u001b[0;34m=\u001b[0m \u001b[0mtime\u001b[0m\u001b[0;34m.\u001b[0m\u001b[0mtime\u001b[0m\u001b[0;34m(\u001b[0m\u001b[0;34m)\u001b[0m\u001b[0;34m\u001b[0m\u001b[0;34m\u001b[0m\u001b[0m\n\u001b[0;32m--> 166\u001b[0;31m     \u001b[0malgo\u001b[0m\u001b[0;34m.\u001b[0m\u001b[0mfit\u001b[0m\u001b[0;34m(\u001b[0m\u001b[0mtrainset\u001b[0m\u001b[0;34m)\u001b[0m\u001b[0;34m\u001b[0m\u001b[0;34m\u001b[0m\u001b[0m\n\u001b[0m\u001b[1;32m    167\u001b[0m     \u001b[0mfit_time\u001b[0m \u001b[0;34m=\u001b[0m \u001b[0mtime\u001b[0m\u001b[0;34m.\u001b[0m\u001b[0mtime\u001b[0m\u001b[0;34m(\u001b[0m\u001b[0;34m)\u001b[0m \u001b[0;34m-\u001b[0m \u001b[0mstart_fit\u001b[0m\u001b[0;34m\u001b[0m\u001b[0;34m\u001b[0m\u001b[0m\n\u001b[1;32m    168\u001b[0m     \u001b[0mstart_test\u001b[0m \u001b[0;34m=\u001b[0m \u001b[0mtime\u001b[0m\u001b[0;34m.\u001b[0m\u001b[0mtime\u001b[0m\u001b[0;34m(\u001b[0m\u001b[0;34m)\u001b[0m\u001b[0;34m\u001b[0m\u001b[0;34m\u001b[0m\u001b[0m\n",
      "\u001b[0;32m~/opt/anaconda3/envs/test_env/lib/python3.6/site-packages/surprise/prediction_algorithms/matrix_factorization.pyx\u001b[0m in \u001b[0;36msurprise.prediction_algorithms.matrix_factorization.SVDpp.fit\u001b[0;34m()\u001b[0m\n",
      "\u001b[0;32m~/opt/anaconda3/envs/test_env/lib/python3.6/site-packages/surprise/prediction_algorithms/matrix_factorization.pyx\u001b[0m in \u001b[0;36msurprise.prediction_algorithms.matrix_factorization.SVDpp.sgd\u001b[0;34m()\u001b[0m\n",
      "\u001b[0;32m~/opt/anaconda3/envs/test_env/lib/python3.6/site-packages/surprise/trainset.py\u001b[0m in \u001b[0;36mall_ratings\u001b[0;34m(self)\u001b[0m\n\u001b[1;32m    187\u001b[0m         \u001b[0;32mfor\u001b[0m \u001b[0mu\u001b[0m\u001b[0;34m,\u001b[0m \u001b[0mu_ratings\u001b[0m \u001b[0;32min\u001b[0m \u001b[0miteritems\u001b[0m\u001b[0;34m(\u001b[0m\u001b[0mself\u001b[0m\u001b[0;34m.\u001b[0m\u001b[0mur\u001b[0m\u001b[0;34m)\u001b[0m\u001b[0;34m:\u001b[0m\u001b[0;34m\u001b[0m\u001b[0;34m\u001b[0m\u001b[0m\n\u001b[1;32m    188\u001b[0m             \u001b[0;32mfor\u001b[0m \u001b[0mi\u001b[0m\u001b[0;34m,\u001b[0m \u001b[0mr\u001b[0m \u001b[0;32min\u001b[0m \u001b[0mu_ratings\u001b[0m\u001b[0;34m:\u001b[0m\u001b[0;34m\u001b[0m\u001b[0;34m\u001b[0m\u001b[0m\n\u001b[0;32m--> 189\u001b[0;31m                 \u001b[0;32myield\u001b[0m \u001b[0mu\u001b[0m\u001b[0;34m,\u001b[0m \u001b[0mi\u001b[0m\u001b[0;34m,\u001b[0m \u001b[0mr\u001b[0m\u001b[0;34m\u001b[0m\u001b[0;34m\u001b[0m\u001b[0m\n\u001b[0m\u001b[1;32m    190\u001b[0m \u001b[0;34m\u001b[0m\u001b[0m\n\u001b[1;32m    191\u001b[0m     \u001b[0;32mdef\u001b[0m \u001b[0mbuild_testset\u001b[0m\u001b[0;34m(\u001b[0m\u001b[0mself\u001b[0m\u001b[0;34m)\u001b[0m\u001b[0;34m:\u001b[0m\u001b[0;34m\u001b[0m\u001b[0;34m\u001b[0m\u001b[0m\n",
      "\u001b[0;31mKeyboardInterrupt\u001b[0m: "
     ]
    }
   ],
   "source": [
    "benchmark = []\n",
    "# Iterate over all algorithms\n",
    "for algorithm in [SVDpp()]:\n",
    "    # Perform cross validation\n",
    "    cv = PredefinedKFold\n",
    "    results = cross_validate(algorithm, data, measures=['RMSE'], cv=3, verbose=1)\n",
    "    \n",
    "    # Get results & append algorithm name\n",
    "    tmp = pd.DataFrame.from_dict(results).mean(axis=0)\n",
    "    tmp = tmp.append(pd.Series([str(algorithm).split(' ')[0].split('.')[-1]], index=['Algorithm']))\n",
    "    benchmark.append(tmp)\n",
    "    \n",
    "pd.DataFrame(benchmark).set_index('Algorithm').sort_values('test_rmse')    "
   ]
  },
  {
   "cell_type": "code",
   "execution_count": 349,
   "id": "11a1c538-a17f-4ca0-9ce3-6dd8f501e09d",
   "metadata": {},
   "outputs": [
    {
     "name": "stdout",
     "output_type": "stream",
     "text": [
      "Using ALS\n"
     ]
    },
    {
     "ename": "NameError",
     "evalue": "name 'BaselineOnly' is not defined",
     "output_type": "error",
     "traceback": [
      "\u001b[0;31m---------------------------------------------------------------------------\u001b[0m",
      "\u001b[0;31mNameError\u001b[0m                                 Traceback (most recent call last)",
      "\u001b[0;32m<ipython-input-349-273d3b85376c>\u001b[0m in \u001b[0;36m<module>\u001b[0;34m\u001b[0m\n\u001b[1;32m      5\u001b[0m                \u001b[0;34m'reg_i'\u001b[0m\u001b[0;34m:\u001b[0m \u001b[0;36m5\u001b[0m\u001b[0;34m\u001b[0m\u001b[0;34m\u001b[0m\u001b[0m\n\u001b[1;32m      6\u001b[0m                }\n\u001b[0;32m----> 7\u001b[0;31m \u001b[0malgo\u001b[0m \u001b[0;34m=\u001b[0m \u001b[0mBaselineOnly\u001b[0m\u001b[0;34m(\u001b[0m\u001b[0mbsl_options\u001b[0m\u001b[0;34m=\u001b[0m\u001b[0mbsl_options\u001b[0m\u001b[0;34m)\u001b[0m\u001b[0;34m\u001b[0m\u001b[0;34m\u001b[0m\u001b[0m\n\u001b[0m\u001b[1;32m      8\u001b[0m \u001b[0mcross_validate\u001b[0m\u001b[0;34m(\u001b[0m\u001b[0malgo\u001b[0m\u001b[0;34m,\u001b[0m \u001b[0mdata\u001b[0m\u001b[0;34m,\u001b[0m \u001b[0mmeasures\u001b[0m\u001b[0;34m=\u001b[0m\u001b[0;34m[\u001b[0m\u001b[0;34m'RMSE'\u001b[0m\u001b[0;34m]\u001b[0m\u001b[0;34m,\u001b[0m \u001b[0mcv\u001b[0m\u001b[0;34m=\u001b[0m\u001b[0;36m3\u001b[0m\u001b[0;34m,\u001b[0m \u001b[0mverbose\u001b[0m\u001b[0;34m=\u001b[0m\u001b[0;32mFalse\u001b[0m\u001b[0;34m)\u001b[0m\u001b[0;34m\u001b[0m\u001b[0;34m\u001b[0m\u001b[0m\n",
      "\u001b[0;31mNameError\u001b[0m: name 'BaselineOnly' is not defined"
     ]
    }
   ],
   "source": [
    "print('Using ALS')\n",
    "bsl_options = {'method': 'als',\n",
    "               'n_epochs': 5,\n",
    "               'reg_u': 12,\n",
    "               'reg_i': 5\n",
    "               }\n",
    "algo = BaselineOnly(bsl_options=bsl_options)\n",
    "cross_validate(algo, data, measures=['RMSE'], cv=3, verbose=False)"
   ]
  },
  {
   "cell_type": "code",
   "execution_count": null,
   "id": "80979697-06bd-41a0-8ee5-4c3c562d3147",
   "metadata": {},
   "outputs": [],
   "source": [
    "trainset, testset = train_test_split(data, test_size=0.25)\n",
    "algo = BaselineOnly(bsl_options=bsl_options)\n",
    "predictions = algo.fit(trainset).test(testset)\n",
    "accuracy.rmse(predictions)"
   ]
  },
  {
   "cell_type": "code",
   "execution_count": null,
   "id": "6bfdd604-8f47-4a1a-bb1f-cfad82e0d923",
   "metadata": {},
   "outputs": [],
   "source": []
  },
  {
   "cell_type": "markdown",
   "id": "2175b5bc-2f89-4b85-9dd4-3c726fdad16c",
   "metadata": {},
   "source": [
    "### Try again this time with\n",
    "https://towardsdatascience.com/svd-where-model-tuning-goes-wrong-61c269402919"
   ]
  },
  {
   "cell_type": "code",
   "execution_count": 356,
   "id": "05a9e2e4-71ff-4bb5-8ac3-60496911f9b3",
   "metadata": {},
   "outputs": [
    {
     "ename": "TypeError",
     "evalue": "__init__() got an unexpected keyword argument 'verbose'",
     "output_type": "error",
     "traceback": [
      "\u001b[0;31m---------------------------------------------------------------------------\u001b[0m",
      "\u001b[0;31mTypeError\u001b[0m                                 Traceback (most recent call last)",
      "\u001b[0;32m<ipython-input-356-cbae23fc4843>\u001b[0m in \u001b[0;36m<module>\u001b[0;34m\u001b[0m\n\u001b[1;32m      3\u001b[0m \u001b[0mparam_grid\u001b[0m \u001b[0;34m=\u001b[0m \u001b[0;34m{\u001b[0m\u001b[0;34m'n_factors'\u001b[0m\u001b[0;34m:\u001b[0m\u001b[0;34m[\u001b[0m\u001b[0;36m50\u001b[0m\u001b[0;34m,\u001b[0m\u001b[0;36m100\u001b[0m\u001b[0;34m,\u001b[0m\u001b[0;36m150\u001b[0m\u001b[0;34m]\u001b[0m\u001b[0;34m,\u001b[0m\u001b[0;34m'n_epochs'\u001b[0m\u001b[0;34m:\u001b[0m\u001b[0;34m[\u001b[0m\u001b[0;36m20\u001b[0m\u001b[0;34m,\u001b[0m\u001b[0;36m30\u001b[0m\u001b[0;34m]\u001b[0m\u001b[0;34m,\u001b[0m  \u001b[0;34m'lr_all'\u001b[0m\u001b[0;34m:\u001b[0m\u001b[0;34m[\u001b[0m\u001b[0;36m0.005\u001b[0m\u001b[0;34m,\u001b[0m\u001b[0;36m0.01\u001b[0m\u001b[0;34m]\u001b[0m\u001b[0;34m,\u001b[0m\u001b[0;34m'reg_all'\u001b[0m\u001b[0;34m:\u001b[0m\u001b[0;34m[\u001b[0m\u001b[0;36m0.02\u001b[0m\u001b[0;34m,\u001b[0m\u001b[0;36m0.1\u001b[0m\u001b[0;34m]\u001b[0m\u001b[0;34m}\u001b[0m\u001b[0;34m\u001b[0m\u001b[0;34m\u001b[0m\u001b[0m\n\u001b[1;32m      4\u001b[0m \u001b[0;34m\u001b[0m\u001b[0m\n\u001b[0;32m----> 5\u001b[0;31m \u001b[0mgs\u001b[0m \u001b[0;34m=\u001b[0m \u001b[0mGridSearchCV\u001b[0m\u001b[0;34m(\u001b[0m\u001b[0mSVD\u001b[0m\u001b[0;34m,\u001b[0m \u001b[0mparam_grid\u001b[0m\u001b[0;34m,\u001b[0m \u001b[0mmeasures\u001b[0m\u001b[0;34m=\u001b[0m\u001b[0;34m[\u001b[0m\u001b[0;34m'rmse'\u001b[0m\u001b[0;34m]\u001b[0m\u001b[0;34m,\u001b[0m \u001b[0mcv\u001b[0m\u001b[0;34m=\u001b[0m\u001b[0;36m3\u001b[0m\u001b[0;34m,\u001b[0m \u001b[0mverbose\u001b[0m \u001b[0;34m=\u001b[0m \u001b[0;32mTrue\u001b[0m\u001b[0;34m)\u001b[0m\u001b[0;34m\u001b[0m\u001b[0;34m\u001b[0m\u001b[0m\n\u001b[0m\u001b[1;32m      6\u001b[0m \u001b[0mgs\u001b[0m\u001b[0;34m.\u001b[0m\u001b[0mfit\u001b[0m\u001b[0;34m(\u001b[0m\u001b[0mdata\u001b[0m\u001b[0;34m)\u001b[0m\u001b[0;34m\u001b[0m\u001b[0;34m\u001b[0m\u001b[0m\n\u001b[1;32m      7\u001b[0m \u001b[0;34m\u001b[0m\u001b[0m\n",
      "\u001b[0;31mTypeError\u001b[0m: __init__() got an unexpected keyword argument 'verbose'"
     ]
    }
   ],
   "source": [
    "from surprise import SVD,NormalPredictor\n",
    "from surprise.model_selection import GridSearchCV\n",
    "param_grid = {'n_factors':[50,100,150],'n_epochs':[20,30],  'lr_all':[0.005,0.01],'reg_all':[0.02,0.1]}\n",
    "\n",
    "gs = GridSearchCV(SVD, param_grid, measures=['rmse'], cv=3, n_jobs =-1)\n",
    "gs.fit(data)\n",
    "\n",
    "params = gs.best_params['rmse']\n",
    "svdtuned = SVD(n_factors=params['n_factors'], n_epochs=params['n_epochs'], lr_all=params['lr_all'], reg_all=params['reg_all'])"
   ]
  },
  {
   "cell_type": "code",
   "execution_count": null,
   "id": "2770c4c3-1ac8-4340-8b7c-45b56dd33d87",
   "metadata": {},
   "outputs": [],
   "source": [
    "steps = [('svd', TruncatedSVD(n_components=10)), ('m', LogisticRegression())]\n",
    "model = Pipeline(steps=steps)\n",
    "# evaluate model\n",
    "cv = RepeatedStratifiedKFold(n_splits=10, n_repeats=3, random_state=1)\n",
    "n_scores = cross_val_score(model, X, y, scoring='accuracy', cv=cv, n_jobs=-1, error_score='raise')\n",
    "# report performance\n",
    "print('Accuracy: %.3f (%.3f)' % (mean(n_scores), std(n_scores)))"
   ]
  },
  {
   "cell_type": "code",
   "execution_count": null,
   "id": "1341ae68-1089-4dd2-9242-a17a1fbef270",
   "metadata": {},
   "outputs": [],
   "source": []
  },
  {
   "cell_type": "markdown",
   "id": "8854b685-6bb7-4046-928a-21deb44ae67c",
   "metadata": {},
   "source": [
    "## Okay one more go with surprise\n",
    "https://bmanohar16.github.io/blog/recsys-evaluation-in-surprise"
   ]
  },
  {
   "cell_type": "code",
   "execution_count": 374,
   "id": "df141e90-4b21-451d-bda3-87d330bc9054",
   "metadata": {},
   "outputs": [],
   "source": [
    "# Imports\n",
    "import pandas as pd\n",
    "\n",
    "import matplotlib.pyplot as plt\n",
    "%matplotlib inline\n",
    "\n",
    "from surprise import Dataset\n",
    "from surprise import Reader\n",
    "from surprise.model_selection import cross_validate\n",
    "from surprise.model_selection import GridSearchCV\n",
    "from surprise import KNNBasic, KNNWithMeans, KNNWithZScore\n",
    "from surprise import SVD, SVDpp, NMF\n",
    "from surprise import SlopeOne, CoClustering"
   ]
  },
  {
   "cell_type": "code",
   "execution_count": 373,
   "id": "324aba6f-2ab2-4992-b236-c1e0d7c90134",
   "metadata": {},
   "outputs": [],
   "source": [
    "user_knit\n",
    "user_pattern_utility = user_knit[['user_id', 'pattern_ids','has_knit']]"
   ]
  },
  {
   "cell_type": "code",
   "execution_count": 375,
   "id": "d151a4fd-d938-462f-b52a-c852ce5090a6",
   "metadata": {},
   "outputs": [],
   "source": [
    "svd_cv = cross_validate(SVD(), data, cv=3, n_jobs=5, verbose=False)\n",
    "# svdpp_cv = cross_validate(SVDpp(), data, cv=3, n_jobs=5, verbose=False)\n",
    "# nmf_cv = cross_validate(NMF(), data, cv=3, n_jobs=5, verbose=False)"
   ]
  },
  {
   "cell_type": "code",
   "execution_count": 376,
   "id": "5b6dc39b-e3a1-4842-99b6-26817b07548f",
   "metadata": {},
   "outputs": [
    {
     "name": "stdout",
     "output_type": "stream",
     "text": [
      "Algorithm\t RMSE\t\t MAE\n",
      "SVD \t\t 0.0142 \t 0.006\n"
     ]
    }
   ],
   "source": [
    "print('Algorithm\\t RMSE\\t\\t MAE')\n",
    "print('SVD', '\\t\\t', round(svd_cv['test_rmse'].mean(), 4), '\\t', round(svd_cv['test_mae'].mean(), 4))\n",
    "# print('SVDpp', '\\t\\t', round(svdpp_cv['test_rmse'].mean(), 4), '\\t', round(svdpp_cv['test_mae'].mean(), 4))\n",
    "# print('NMF', '\\t\\t', round(nmf_cv['test_rmse'].mean(), 4), '\\t', round(nmf_cv['test_mae'].mean(), 4))\n"
   ]
  },
  {
   "cell_type": "code",
   "execution_count": 378,
   "id": "811ea122-082f-44b2-ba68-3d4e0d7e34c2",
   "metadata": {},
   "outputs": [],
   "source": [
    "# Parameter space\n",
    "svd_param_grid = {'n_epochs': [20, 25], \n",
    "                  'lr_all': [0.007, 0.009, 0.01],\n",
    "                  'reg_all': [0.4, 0.6]}\n",
    "\n",
    "# svdpp_gs = GridSearchCV(SVDpp, svd_param_grid, measures=['rmse', 'mae'], cv=5, n_jobs=5)\n",
    "# svdpp_gs.fit(data)\n",
    "\n",
    "svd_gs = GridSearchCV(SVD, svd_param_grid, measures=['rmse', 'mae'], cv=5)\n",
    "svd_gs.fit(data)"
   ]
  },
  {
   "cell_type": "code",
   "execution_count": 380,
   "id": "7234074b-a7d7-4344-aef0-02430cd1fb3a",
   "metadata": {},
   "outputs": [
    {
     "name": "stdout",
     "output_type": "stream",
     "text": [
      "SVD   - RMSE: 0.0 ; MAE: 0.0\n"
     ]
    }
   ],
   "source": [
    "# print('SVDpp - RMSE:', round(svdpp_gs.best_score['rmse'], 4), '; MAE:', round(svdpp_gs.best_score['mae'], 4))\n",
    "print('SVD   - RMSE:', round(svd_gs.best_score['rmse'], 4), '; MAE:', round(svd_gs.best_score['mae'], 4))"
   ]
  },
  {
   "cell_type": "code",
   "execution_count": null,
   "id": "aad8f09e-420f-4b5f-875e-6b95a9b13386",
   "metadata": {},
   "outputs": [],
   "source": [
    "# print('RMSE =', svdpp_gs.best_params['rmse'])\n",
    "# print('MAE =', svdpp_gs.best_params['mae'])"
   ]
  },
  {
   "cell_type": "code",
   "execution_count": 381,
   "id": "c60c61c2-37f8-42d8-84b5-4aee21bb5f10",
   "metadata": {},
   "outputs": [],
   "source": [
    "# RMSE = {'n_epochs': 25, 'lr_all': 0.007, 'reg_all': 0.4}\n",
    "# MAE = {'n_epochs': 25, 'lr_all': 0.01, 'reg_all': 0.4}"
   ]
  },
  {
   "cell_type": "code",
   "execution_count": 382,
   "id": "47d5e552-5023-4444-97ab-81e9ba8e1766",
   "metadata": {},
   "outputs": [
    {
     "name": "stdout",
     "output_type": "stream",
     "text": [
      "RMSE = {'n_epochs': 25, 'lr_all': 0.01, 'reg_all': 0.6}\n",
      "MAE = {'n_epochs': 25, 'lr_all': 0.01, 'reg_all': 0.6}\n"
     ]
    }
   ],
   "source": [
    "print('RMSE =', svd_gs.best_params['rmse'])\n",
    "print('MAE =', svd_gs.best_params['mae'])"
   ]
  },
  {
   "cell_type": "code",
   "execution_count": null,
   "id": "92bf0b32-837f-4bd5-95f2-bcd3a0e991bc",
   "metadata": {},
   "outputs": [],
   "source": [
    "RMSE = {'n_epochs': 25, 'lr_all': 0.01, 'reg_all': 0.6}\n",
    "MAE = {'n_epochs': 25, 'lr_all': 0.01, 'reg_all': 0.6}"
   ]
  },
  {
   "cell_type": "code",
   "execution_count": null,
   "id": "0b6f17e1-daa9-44cf-8e8c-3c7b7d4bdc0a",
   "metadata": {},
   "outputs": [],
   "source": []
  },
  {
   "cell_type": "code",
   "execution_count": null,
   "id": "2e58815d-43c3-41da-bd8b-efefa5e00896",
   "metadata": {},
   "outputs": [],
   "source": []
  },
  {
   "cell_type": "code",
   "execution_count": null,
   "id": "8516fad1-fdb3-48bf-9a0e-34297e869e05",
   "metadata": {},
   "outputs": [],
   "source": [
    "https://blog.cambridgespark.com/tutorial-practical-introduction-to-recommender-systems-dbe22848392b\n",
    "\n",
    "** use this one !! in the end test train?"
   ]
  }
 ],
 "metadata": {
  "kernelspec": {
   "display_name": "test_env",
   "language": "python",
   "name": "test_env"
  },
  "language_info": {
   "codemirror_mode": {
    "name": "ipython",
    "version": 3
   },
   "file_extension": ".py",
   "mimetype": "text/x-python",
   "name": "python",
   "nbconvert_exporter": "python",
   "pygments_lexer": "ipython3",
   "version": "3.6.13"
  }
 },
 "nbformat": 4,
 "nbformat_minor": 5
}
