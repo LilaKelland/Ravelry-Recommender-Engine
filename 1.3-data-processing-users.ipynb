{
 "cells": [
  {
   "cell_type": "markdown",
   "id": "4a6ab610-d302-4ab0-ba0a-6bc3ca3c5e4c",
   "metadata": {},
   "source": [
    "## Collaborative Recommender \n",
    "based on user behaviour \n",
    "\n",
    "**** https://www.kaggle.com/zolboo/recommender-systems-knn-svd-nn-keras/notebook\n",
    "\n",
    "Use implicit package for python\n",
    "https://implicit.readthedocs.io/en/latest/models.html"
   ]
  },
  {
   "cell_type": "code",
   "execution_count": 74,
   "id": "2b6bb936-3405-46b7-9795-694d6c6945b7",
   "metadata": {},
   "outputs": [],
   "source": [
    "import pandas as pd\n",
    "import numpy as np\n",
    "import matplotlib.pyplot as plt\n",
    "from sklearn.neighbors import NearestNeighbors"
   ]
  },
  {
   "cell_type": "code",
   "execution_count": 239,
   "id": "189df4e5-60de-4b8f-9a9a-247d680a5640",
   "metadata": {},
   "outputs": [],
   "source": [
    "df1 = pd.read_csv('data/users_projects_0-100.csv')\n",
    "df2 = pd.read_csv('data/users_projects_100-300.csv')\n",
    "df3 = pd.read_csv('data/users_projects_300-500.csv')\n",
    "df4 = pd.read_csv('data/users_projects_500-700.csv')\n",
    "df5 = pd.read_csv('data/users_projects_700-900.csv')\n",
    "df6 = pd.read_csv('data/users_projects_900-1100.csv')\n",
    "df7 = pd.read_csv('data/users_projects_1100-1300.csv')\n",
    "df8 = pd.read_csv('data/users_projects_1300-1500.csv')\n",
    "df9 = pd.read_csv('data/users_projects_1500-1700.csv')# this one will need to be redone\n",
    "df10 = pd.read_csv('data/users_projects_1700-1900.csv')\n",
    "df11 = pd.read_csv('data/users_projects_1887-1900.csv')\n",
    "df12 = pd.read_csv('data/users_projects_1900-2100.csv')\n",
    "df13 = pd.read_csv('data/users_projects_2100-2300.csv')\n",
    "df14 = pd.read_csv('data/users_projects_2300-2500.csv')\n",
    "df15 = pd.read_csv('data/users_projects_2500-2700.csv')\n",
    "df16 = pd.read_csv('data/users_projects_2700-2900.csv')\n",
    "df17 = pd.read_csv('data/users_projects_2900-2962.csv')\n",
    "\n",
    "pattern_details = pd.read_csv('data/consolidated_patterns.csv', low_memory=False)\n",
    "# this needs to be repaced with cleaned data?"
   ]
  },
  {
   "cell_type": "code",
   "execution_count": 240,
   "id": "ef984fed-39af-4572-a5db-65c335cef2e0",
   "metadata": {},
   "outputs": [
    {
     "data": {
      "text/plain": [
       "((343032, 4),\n",
       " (386356, 4),\n",
       " (248913, 4),\n",
       " (210382, 4),\n",
       " (171374, 4),\n",
       " (161808, 4),\n",
       " (281092, 4),\n",
       " (279575, 4),\n",
       " (596740, 4),\n",
       " (813227, 4),\n",
       " (35527, 4),\n",
       " (366425, 4),\n",
       " (298682, 4),\n",
       " (252212, 4),\n",
       " (220635, 4),\n",
       " (185410, 4),\n",
       " (44375, 4))"
      ]
     },
     "execution_count": 240,
     "metadata": {},
     "output_type": "execute_result"
    }
   ],
   "source": [
    "(df1.shape, df2.shape, df3.shape, df4.shape, \n",
    " df5.shape, df6.shape, df7.shape, df8.shape,\n",
    " df9.shape, df10.shape, df11.shape,df12.shape,\n",
    " df13.shape, df14.shape, df15.shape,df16.shape, df17.shape\n",
    ")"
   ]
  },
  {
   "cell_type": "code",
   "execution_count": 241,
   "id": "74e78ae9-6f99-4422-be71-5cac8e0192a5",
   "metadata": {},
   "outputs": [
    {
     "data": {
      "text/plain": [
       "(4895765, 4)"
      ]
     },
     "execution_count": 241,
     "metadata": {},
     "output_type": "execute_result"
    }
   ],
   "source": [
    "# For full set\n",
    "df = df1.append(df2, ignore_index=True)\n",
    "df = df.append(df3, ignore_index=True)\n",
    "df = df.append(df4, ignore_index=True)\n",
    "df = df.append(df5, ignore_index=True)\n",
    "df = df.append(df6, ignore_index=True)\n",
    "df = df.append(df7, ignore_index=True)\n",
    "df = df.append(df8, ignore_index=True)\n",
    "df = df.append(df9, ignore_index=True)\n",
    "df = df.append(df10, ignore_index=True)\n",
    "df = df.append(df11, ignore_index=True)\n",
    "df = df.append(df12, ignore_index=True)\n",
    "df = df.append(df13, ignore_index=True)\n",
    "df = df.append(df14, ignore_index=True)\n",
    "df = df.append(df15, ignore_index=True)\n",
    "df = df.append(df16, ignore_index=True)\n",
    "df = df.append(df17, ignore_index=True)\n",
    "df.shape"
   ]
  },
  {
   "cell_type": "code",
   "execution_count": null,
   "id": "564411ef-0f16-48cf-9f7b-cf26213150bb",
   "metadata": {},
   "outputs": [],
   "source": [
    "# # use these plots from https://towardsdatascience.com/building-and-testing-recommender-systems-with-surprise-step-by-step-d4ba702ef80b\n",
    "# # Number of ratings per user\n",
    "# data = df.groupby('userID')['bookRating'].count().clip(upper=50)\n",
    "\n",
    "# # Create trace\n",
    "# trace = go.Histogram(x = data.values,\n",
    "#                      name = 'Ratings',\n",
    "#                      xbins = dict(start = 0,\n",
    "#                                   end = 50,\n",
    "#                                   size = 2))\n",
    "# # Create layout\n",
    "# layout = go.Layout(title = 'Distribution Of Number of Ratings Per User (Clipped at 50)',\n",
    "#                    xaxis = dict(title = 'Ratings Per User'),\n",
    "#                    yaxis = dict(title = 'Count'),\n",
    "#                    bargap = 0.2)\n",
    "\n",
    "# # Create plot\n",
    "# fig = go.Figure(data=[trace], layout=layout)\n",
    "# iplot(fig)"
   ]
  },
  {
   "cell_type": "code",
   "execution_count": 242,
   "id": "9375a132-159d-4120-b729-d3bc74c07910",
   "metadata": {},
   "outputs": [],
   "source": [
    "# Clean data and save\n",
    "\n",
    "# remove accidental headers\n",
    "df = df.drop(df[df['user_id']=='user_id'].index)\n",
    "\n",
    "# remove douplicates\n",
    "df = df.drop_duplicates()\n",
    "\n",
    "# reset index\n",
    "df.reset_index(inplace=True, drop=True)\n",
    "\n",
    "# df.to_csv('data/user_projects_cleaned.csv', index=False)"
   ]
  },
  {
   "cell_type": "code",
   "execution_count": 243,
   "id": "560fa045-acb6-4fd5-a41a-7814cd6c58d5",
   "metadata": {},
   "outputs": [
    {
     "data": {
      "text/plain": [
       "(4478010, 4)"
      ]
     },
     "execution_count": 243,
     "metadata": {},
     "output_type": "execute_result"
    }
   ],
   "source": [
    "df.shape"
   ]
  },
  {
   "cell_type": "code",
   "execution_count": 244,
   "id": "960d2a86-4f86-468c-8d53-35d3479506ac",
   "metadata": {},
   "outputs": [
    {
     "name": "stdout",
     "output_type": "stream",
     "text": [
      "(4478010, 5)\n"
     ]
    },
    {
     "data": {
      "text/html": [
       "<div>\n",
       "<style scoped>\n",
       "    .dataframe tbody tr th:only-of-type {\n",
       "        vertical-align: middle;\n",
       "    }\n",
       "\n",
       "    .dataframe tbody tr th {\n",
       "        vertical-align: top;\n",
       "    }\n",
       "\n",
       "    .dataframe thead th {\n",
       "        text-align: right;\n",
       "    }\n",
       "</style>\n",
       "<table border=\"1\" class=\"dataframe\">\n",
       "  <thead>\n",
       "    <tr style=\"text-align: right;\">\n",
       "      <th></th>\n",
       "      <th>user_id</th>\n",
       "      <th>pattern_ids</th>\n",
       "      <th>date_completed</th>\n",
       "      <th>project_id</th>\n",
       "      <th>has_knit</th>\n",
       "    </tr>\n",
       "  </thead>\n",
       "  <tbody>\n",
       "    <tr>\n",
       "      <th>0</th>\n",
       "      <td>5153610</td>\n",
       "      <td>88</td>\n",
       "      <td>2021/11/19</td>\n",
       "      <td>29203938</td>\n",
       "      <td>1</td>\n",
       "    </tr>\n",
       "    <tr>\n",
       "      <th>1</th>\n",
       "      <td>3183664</td>\n",
       "      <td>88</td>\n",
       "      <td>2021/11/18</td>\n",
       "      <td>29195691</td>\n",
       "      <td>1</td>\n",
       "    </tr>\n",
       "    <tr>\n",
       "      <th>2</th>\n",
       "      <td>3183664</td>\n",
       "      <td>88</td>\n",
       "      <td>2021/11/17</td>\n",
       "      <td>29190583</td>\n",
       "      <td>1</td>\n",
       "    </tr>\n",
       "    <tr>\n",
       "      <th>3</th>\n",
       "      <td>2102666</td>\n",
       "      <td>88</td>\n",
       "      <td>2021/11/17</td>\n",
       "      <td>29177512</td>\n",
       "      <td>1</td>\n",
       "    </tr>\n",
       "    <tr>\n",
       "      <th>4</th>\n",
       "      <td>3183664</td>\n",
       "      <td>88</td>\n",
       "      <td>2021/11/16</td>\n",
       "      <td>29187197</td>\n",
       "      <td>1</td>\n",
       "    </tr>\n",
       "  </tbody>\n",
       "</table>\n",
       "</div>"
      ],
      "text/plain": [
       "   user_id pattern_ids date_completed project_id  has_knit\n",
       "0  5153610          88     2021/11/19   29203938         1\n",
       "1  3183664          88     2021/11/18   29195691         1\n",
       "2  3183664          88     2021/11/17   29190583         1\n",
       "3  2102666          88     2021/11/17   29177512         1\n",
       "4  3183664          88     2021/11/16   29187197         1"
      ]
     },
     "execution_count": 244,
     "metadata": {},
     "output_type": "execute_result"
    }
   ],
   "source": [
    "# add 'has_knit' column is place of rating (using implicit rather than explicit rating)\n",
    "df['has_knit'] = 1\n",
    "print(df.shape)\n",
    "df.head()\n",
    "\n",
    "# rename uid and iid as per utility matrix"
   ]
  },
  {
   "cell_type": "code",
   "execution_count": null,
   "id": "96ff935a-58c1-4617-85e9-91fcb01a6526",
   "metadata": {},
   "outputs": [
    {
     "data": {
      "text/plain": [
       "(3250978, 5)"
      ]
     },
     "execution_count": 262,
     "metadata": {},
     "output_type": "execute_result"
    }
   ],
   "source": [
    "# drop douplicate knits per pattern\n",
    "df = df.drop_duplicates(['user_id', 'pattern_ids'])\n",
    "df.shape"
   ]
  },
  {
   "cell_type": "code",
   "execution_count": null,
   "id": "855ee7b6-ec46-48f7-a70b-c1faf66532c2",
   "metadata": {},
   "outputs": [
    {
     "data": {
      "text/html": [
       "<div>\n",
       "<style scoped>\n",
       "    .dataframe tbody tr th:only-of-type {\n",
       "        vertical-align: middle;\n",
       "    }\n",
       "\n",
       "    .dataframe tbody tr th {\n",
       "        vertical-align: top;\n",
       "    }\n",
       "\n",
       "    .dataframe thead th {\n",
       "        text-align: right;\n",
       "    }\n",
       "</style>\n",
       "<table border=\"1\" class=\"dataframe\">\n",
       "  <thead>\n",
       "    <tr style=\"text-align: right;\">\n",
       "      <th></th>\n",
       "      <th>user_id</th>\n",
       "      <th>pattern_ids</th>\n",
       "      <th>date_completed</th>\n",
       "      <th>project_id</th>\n",
       "      <th>has_knit</th>\n",
       "    </tr>\n",
       "  </thead>\n",
       "  <tbody>\n",
       "    <tr>\n",
       "      <th>61820</th>\n",
       "      <td>17244</td>\n",
       "      <td>302</td>\n",
       "      <td>298</td>\n",
       "      <td>302</td>\n",
       "      <td>302</td>\n",
       "    </tr>\n",
       "    <tr>\n",
       "      <th>273983</th>\n",
       "      <td>698879</td>\n",
       "      <td>261</td>\n",
       "      <td>254</td>\n",
       "      <td>261</td>\n",
       "      <td>261</td>\n",
       "    </tr>\n",
       "    <tr>\n",
       "      <th>253153</th>\n",
       "      <td>616629</td>\n",
       "      <td>260</td>\n",
       "      <td>258</td>\n",
       "      <td>260</td>\n",
       "      <td>260</td>\n",
       "    </tr>\n",
       "    <tr>\n",
       "      <th>296299</th>\n",
       "      <td>79380</td>\n",
       "      <td>256</td>\n",
       "      <td>105</td>\n",
       "      <td>256</td>\n",
       "      <td>256</td>\n",
       "    </tr>\n",
       "    <tr>\n",
       "      <th>111658</th>\n",
       "      <td>24654</td>\n",
       "      <td>239</td>\n",
       "      <td>229</td>\n",
       "      <td>239</td>\n",
       "      <td>239</td>\n",
       "    </tr>\n",
       "    <tr>\n",
       "      <th>...</th>\n",
       "      <td>...</td>\n",
       "      <td>...</td>\n",
       "      <td>...</td>\n",
       "      <td>...</td>\n",
       "      <td>...</td>\n",
       "    </tr>\n",
       "    <tr>\n",
       "      <th>254489</th>\n",
       "      <td>6218491</td>\n",
       "      <td>1</td>\n",
       "      <td>1</td>\n",
       "      <td>1</td>\n",
       "      <td>1</td>\n",
       "    </tr>\n",
       "    <tr>\n",
       "      <th>254488</th>\n",
       "      <td>6218465</td>\n",
       "      <td>1</td>\n",
       "      <td>1</td>\n",
       "      <td>1</td>\n",
       "      <td>1</td>\n",
       "    </tr>\n",
       "    <tr>\n",
       "      <th>160108</th>\n",
       "      <td>342361</td>\n",
       "      <td>1</td>\n",
       "      <td>0</td>\n",
       "      <td>1</td>\n",
       "      <td>1</td>\n",
       "    </tr>\n",
       "    <tr>\n",
       "      <th>85382</th>\n",
       "      <td>204944</td>\n",
       "      <td>1</td>\n",
       "      <td>1</td>\n",
       "      <td>1</td>\n",
       "      <td>1</td>\n",
       "    </tr>\n",
       "    <tr>\n",
       "      <th>338750</th>\n",
       "      <td>9999967</td>\n",
       "      <td>1</td>\n",
       "      <td>1</td>\n",
       "      <td>1</td>\n",
       "      <td>1</td>\n",
       "    </tr>\n",
       "  </tbody>\n",
       "</table>\n",
       "<p>338751 rows × 5 columns</p>\n",
       "</div>"
      ],
      "text/plain": [
       "        user_id  pattern_ids  date_completed  project_id  has_knit\n",
       "61820     17244          302             298         302       302\n",
       "273983   698879          261             254         261       261\n",
       "253153   616629          260             258         260       260\n",
       "296299    79380          256             105         256       256\n",
       "111658    24654          239             229         239       239\n",
       "...         ...          ...             ...         ...       ...\n",
       "254489  6218491            1               1           1         1\n",
       "254488  6218465            1               1           1         1\n",
       "160108   342361            1               0           1         1\n",
       "85382    204944            1               1           1         1\n",
       "338750  9999967            1               1           1         1\n",
       "\n",
       "[338751 rows x 5 columns]"
      ]
     },
     "execution_count": 263,
     "metadata": {},
     "output_type": "execute_result"
    }
   ],
   "source": [
    "# how many users, how many patterns?\n",
    "pattern_count_per_user = df.groupby(\"user_id\", as_index=False).count().sort_values('has_knit', ascending = False)\n",
    "pattern_count_per_user\n",
    "\n",
    "# uh oh - how many are 0?\n"
   ]
  },
  {
   "cell_type": "code",
   "execution_count": null,
   "id": "a5961b1a-3d92-4174-9374-39f2538bd870",
   "metadata": {},
   "outputs": [
    {
     "data": {
      "text/html": [
       "<div>\n",
       "<style scoped>\n",
       "    .dataframe tbody tr th:only-of-type {\n",
       "        vertical-align: middle;\n",
       "    }\n",
       "\n",
       "    .dataframe tbody tr th {\n",
       "        vertical-align: top;\n",
       "    }\n",
       "\n",
       "    .dataframe thead th {\n",
       "        text-align: right;\n",
       "    }\n",
       "</style>\n",
       "<table border=\"1\" class=\"dataframe\">\n",
       "  <thead>\n",
       "    <tr style=\"text-align: right;\">\n",
       "      <th></th>\n",
       "      <th>pattern_ids</th>\n",
       "      <th>date_completed</th>\n",
       "      <th>project_id</th>\n",
       "      <th>has_knit</th>\n",
       "    </tr>\n",
       "  </thead>\n",
       "  <tbody>\n",
       "    <tr>\n",
       "      <th>count</th>\n",
       "      <td>345059.000000</td>\n",
       "      <td>345059.000000</td>\n",
       "      <td>345059.000000</td>\n",
       "      <td>345059.000000</td>\n",
       "    </tr>\n",
       "    <tr>\n",
       "      <th>mean</th>\n",
       "      <td>12.977520</td>\n",
       "      <td>10.615164</td>\n",
       "      <td>12.977520</td>\n",
       "      <td>12.977520</td>\n",
       "    </tr>\n",
       "    <tr>\n",
       "      <th>std</th>\n",
       "      <td>22.736905</td>\n",
       "      <td>21.070589</td>\n",
       "      <td>22.736905</td>\n",
       "      <td>22.736905</td>\n",
       "    </tr>\n",
       "    <tr>\n",
       "      <th>min</th>\n",
       "      <td>1.000000</td>\n",
       "      <td>0.000000</td>\n",
       "      <td>1.000000</td>\n",
       "      <td>1.000000</td>\n",
       "    </tr>\n",
       "    <tr>\n",
       "      <th>25%</th>\n",
       "      <td>2.000000</td>\n",
       "      <td>1.000000</td>\n",
       "      <td>2.000000</td>\n",
       "      <td>2.000000</td>\n",
       "    </tr>\n",
       "    <tr>\n",
       "      <th>50%</th>\n",
       "      <td>4.000000</td>\n",
       "      <td>3.000000</td>\n",
       "      <td>4.000000</td>\n",
       "      <td>4.000000</td>\n",
       "    </tr>\n",
       "    <tr>\n",
       "      <th>75%</th>\n",
       "      <td>14.000000</td>\n",
       "      <td>11.000000</td>\n",
       "      <td>14.000000</td>\n",
       "      <td>14.000000</td>\n",
       "    </tr>\n",
       "    <tr>\n",
       "      <th>max</th>\n",
       "      <td>720.000000</td>\n",
       "      <td>720.000000</td>\n",
       "      <td>720.000000</td>\n",
       "      <td>720.000000</td>\n",
       "    </tr>\n",
       "  </tbody>\n",
       "</table>\n",
       "</div>"
      ],
      "text/plain": [
       "         pattern_ids  date_completed     project_id       has_knit\n",
       "count  345059.000000   345059.000000  345059.000000  345059.000000\n",
       "mean       12.977520       10.615164      12.977520      12.977520\n",
       "std        22.736905       21.070589      22.736905      22.736905\n",
       "min         1.000000        0.000000       1.000000       1.000000\n",
       "25%         2.000000        1.000000       2.000000       2.000000\n",
       "50%         4.000000        3.000000       4.000000       4.000000\n",
       "75%        14.000000       11.000000      14.000000      14.000000\n",
       "max       720.000000      720.000000     720.000000     720.000000"
      ]
     },
     "execution_count": 246,
     "metadata": {},
     "output_type": "execute_result"
    }
   ],
   "source": [
    "pattern_count_per_user.describe()"
   ]
  },
  {
   "cell_type": "code",
   "execution_count": null,
   "id": "fc1f4c21-830f-4b68-befb-0f474dab968e",
   "metadata": {},
   "outputs": [],
   "source": [
    "# AND LOOK AT THIS  _ ALSO FROM WALKTHROUGH!\n",
    "# # from article - ensure statiscical significance, users less than 200 ratings and books less than 100 ratings excluede\n",
    "# counts1 = book_ratings['User-ID'].value_counts()\n",
    "# book_ratings = book_ratings[book_ratings['User-ID'].isin(counts1[counts1 >= 200].index)]\n",
    "# counts = book_ratings['Book-Rating'].value_counts()\n",
    "# book_ratings = book_ratings[book_ratings['Book-Rating'].isin(counts[counts >= 100].index)]"
   ]
  },
  {
   "cell_type": "code",
   "execution_count": null,
   "id": "5c09e6fb-9c38-4d7b-b289-9c1dd0d75e6f",
   "metadata": {},
   "outputs": [],
   "source": [
    "# # OR TRY THIS FROM MEMORY WALKTRHOUGH \n",
    "# import matplotlib.pyplot as plt\n",
    "# print(book_ratings.shape)\n",
    "# print(list(book_ratings.columns))\n",
    "# plt.rc(\"font\", size=15)\n",
    "# book_ratings['Book-Rating'].value_counts(sort=False).plot(kind='bar')\n",
    "# plt.title('Rating Distribution\\n')\n",
    "# plt.xlabel('Rating')\n",
    "# plt.ylabel('Count')\n",
    "# plt.savefig('system1.png', bbox_inches='tight')\n",
    "# plt.show()\n",
    "# print(books.shape)\n",
    "# print(list(books.columns))"
   ]
  },
  {
   "cell_type": "code",
   "execution_count": 247,
   "id": "c3ab4bf4-bc4f-4b15-a92d-37f188296bb0",
   "metadata": {},
   "outputs": [
    {
     "data": {
      "image/png": "[encoded data removed]",
      "text/plain": [
       "<Figure size 720x432 with 1 Axes>"
      ]
     },
     "metadata": {
      "needs_background": "light"
     },
     "output_type": "display_data"
    }
   ],
   "source": [
    "y = pattern_count_per_user['pattern_ids']\n",
    "fig, ax = plt.subplots(figsize = (10,6))\n",
    "\n",
    "# histogram\n",
    "ax.hist(y,bins=1000)\n",
    "plt.show()"
   ]
  },
  {
   "cell_type": "code",
   "execution_count": 266,
   "id": "15bd3d74-cf23-456d-87ed-17406b455c19",
   "metadata": {},
   "outputs": [
    {
     "data": {
      "text/plain": [
       "323603"
      ]
     },
     "execution_count": 266,
     "metadata": {},
     "output_type": "execute_result"
    }
   ],
   "source": [
    "pattern_count_per_user_gt_40 = pattern_count_per_user[pattern_count_per_user['pattern_ids'] >40]\n",
    "# pattern_count_per_user.shape\n",
    "indices_to_drop = pattern_count_per_user[pattern_count_per_user['pattern_ids'] <=40].index.to_list()\n",
    "len(indices_to_drop)"
   ]
  },
  {
   "cell_type": "code",
   "execution_count": 256,
   "id": "a720a9bd-c0f5-41e3-b791-a0e58e7c08e2",
   "metadata": {},
   "outputs": [
    {
     "data": {
      "image/png": "[encoded data removed]",
      "text/plain": [
       "<Figure size 720x432 with 1 Axes>"
      ]
     },
     "metadata": {
      "needs_background": "light"
     },
     "output_type": "display_data"
    }
   ],
   "source": [
    "y = pattern_count_per_user_gt_40['pattern_ids']\n",
    "fig, ax = plt.subplots(figsize = (10,6))\n",
    "\n",
    "# histogram\n",
    "ax.hist(y,bins=1000)\n",
    "plt.show()"
   ]
  },
  {
   "cell_type": "code",
   "execution_count": 257,
   "id": "6a3c4bac-cd73-4e1c-a1ca-1db5dfc1d104",
   "metadata": {},
   "outputs": [
    {
     "data": {
      "text/plain": [
       "(3250978, 5)"
      ]
     },
     "execution_count": 257,
     "metadata": {},
     "output_type": "execute_result"
    }
   ],
   "source": [
    "\n",
    "df = df[~df.index.isin(indices_to_drop)]\n",
    "# merge metadata\n",
    "df.shape"
   ]
  },
  {
   "cell_type": "code",
   "execution_count": 265,
   "id": "09cd6e25-631d-42a6-82ed-3fb83abc8ec6",
   "metadata": {},
   "outputs": [
    {
     "data": {
      "text/html": [
       "<div>\n",
       "<style scoped>\n",
       "    .dataframe tbody tr th:only-of-type {\n",
       "        vertical-align: middle;\n",
       "    }\n",
       "\n",
       "    .dataframe tbody tr th {\n",
       "        vertical-align: top;\n",
       "    }\n",
       "\n",
       "    .dataframe thead th {\n",
       "        text-align: right;\n",
       "    }\n",
       "</style>\n",
       "<table border=\"1\" class=\"dataframe\">\n",
       "  <thead>\n",
       "    <tr style=\"text-align: right;\">\n",
       "      <th></th>\n",
       "      <th>pattern_ids</th>\n",
       "      <th>date_completed</th>\n",
       "      <th>project_id</th>\n",
       "      <th>has_knit</th>\n",
       "    </tr>\n",
       "  </thead>\n",
       "  <tbody>\n",
       "    <tr>\n",
       "      <th>count</th>\n",
       "      <td>27661.000000</td>\n",
       "      <td>27661.000000</td>\n",
       "      <td>27661.000000</td>\n",
       "      <td>27661.000000</td>\n",
       "    </tr>\n",
       "    <tr>\n",
       "      <th>mean</th>\n",
       "      <td>73.736416</td>\n",
       "      <td>65.853368</td>\n",
       "      <td>73.736416</td>\n",
       "      <td>73.736416</td>\n",
       "    </tr>\n",
       "    <tr>\n",
       "      <th>std</th>\n",
       "      <td>39.116392</td>\n",
       "      <td>38.951095</td>\n",
       "      <td>39.116392</td>\n",
       "      <td>39.116392</td>\n",
       "    </tr>\n",
       "    <tr>\n",
       "      <th>min</th>\n",
       "      <td>41.000000</td>\n",
       "      <td>0.000000</td>\n",
       "      <td>41.000000</td>\n",
       "      <td>41.000000</td>\n",
       "    </tr>\n",
       "    <tr>\n",
       "      <th>25%</th>\n",
       "      <td>49.000000</td>\n",
       "      <td>43.000000</td>\n",
       "      <td>49.000000</td>\n",
       "      <td>49.000000</td>\n",
       "    </tr>\n",
       "    <tr>\n",
       "      <th>50%</th>\n",
       "      <td>61.000000</td>\n",
       "      <td>55.000000</td>\n",
       "      <td>61.000000</td>\n",
       "      <td>61.000000</td>\n",
       "    </tr>\n",
       "    <tr>\n",
       "      <th>75%</th>\n",
       "      <td>84.000000</td>\n",
       "      <td>77.000000</td>\n",
       "      <td>84.000000</td>\n",
       "      <td>84.000000</td>\n",
       "    </tr>\n",
       "    <tr>\n",
       "      <th>max</th>\n",
       "      <td>720.000000</td>\n",
       "      <td>720.000000</td>\n",
       "      <td>720.000000</td>\n",
       "      <td>720.000000</td>\n",
       "    </tr>\n",
       "  </tbody>\n",
       "</table>\n",
       "</div>"
      ],
      "text/plain": [
       "        pattern_ids  date_completed    project_id      has_knit\n",
       "count  27661.000000    27661.000000  27661.000000  27661.000000\n",
       "mean      73.736416       65.853368     73.736416     73.736416\n",
       "std       39.116392       38.951095     39.116392     39.116392\n",
       "min       41.000000        0.000000     41.000000     41.000000\n",
       "25%       49.000000       43.000000     49.000000     49.000000\n",
       "50%       61.000000       55.000000     61.000000     61.000000\n",
       "75%       84.000000       77.000000     84.000000     84.000000\n",
       "max      720.000000      720.000000    720.000000    720.000000"
      ]
     },
     "execution_count": 265,
     "metadata": {},
     "output_type": "execute_result"
    }
   ],
   "source": [
    "pattern_count_per_user_gt_40.describe()"
   ]
  },
  {
   "cell_type": "code",
   "execution_count": 258,
   "id": "ccceb989-5d78-4805-a57c-a973bb8aa40f",
   "metadata": {},
   "outputs": [
    {
     "data": {
      "text/plain": [
       "array(['88', '88', '88', ..., '449489', '449489', '449489'], dtype=object)"
      ]
     },
     "execution_count": 258,
     "metadata": {},
     "output_type": "execute_result"
    }
   ],
   "source": [
    "df.pattern_ids.values"
   ]
  },
  {
   "cell_type": "code",
   "execution_count": 260,
   "id": "5bf47625-6d76-4d01-b71f-14c59493943e",
   "metadata": {},
   "outputs": [
    {
     "name": "stdout",
     "output_type": "stream",
     "text": [
      "(2963, 24)\n"
     ]
    },
    {
     "data": {
      "text/html": [
       "<div>\n",
       "<style scoped>\n",
       "    .dataframe tbody tr th:only-of-type {\n",
       "        vertical-align: middle;\n",
       "    }\n",
       "\n",
       "    .dataframe tbody tr th {\n",
       "        vertical-align: top;\n",
       "    }\n",
       "\n",
       "    .dataframe thead th {\n",
       "        text-align: right;\n",
       "    }\n",
       "</style>\n",
       "<table border=\"1\" class=\"dataframe\">\n",
       "  <thead>\n",
       "    <tr style=\"text-align: right;\">\n",
       "      <th></th>\n",
       "      <th>pattern_id</th>\n",
       "      <th>name</th>\n",
       "      <th>name_permalink</th>\n",
       "      <th>favorites_count</th>\n",
       "      <th>projects_count</th>\n",
       "      <th>difficulty_average</th>\n",
       "      <th>difficulty_count</th>\n",
       "      <th>rating_average</th>\n",
       "      <th>queued_projects_count</th>\n",
       "      <th>rating_count</th>\n",
       "      <th>...</th>\n",
       "      <th>pattern_attributes</th>\n",
       "      <th>yardage_max</th>\n",
       "      <th>yardage</th>\n",
       "      <th>generally_available</th>\n",
       "      <th>gauge</th>\n",
       "      <th>gauge_divisor</th>\n",
       "      <th>free</th>\n",
       "      <th>downloadable</th>\n",
       "      <th>categories</th>\n",
       "      <th>yarn_weight_description</th>\n",
       "    </tr>\n",
       "  </thead>\n",
       "  <tbody>\n",
       "    <tr>\n",
       "      <th>0</th>\n",
       "      <td>88</td>\n",
       "      <td>Calorimetry</td>\n",
       "      <td>calorimetry</td>\n",
       "      <td>29838</td>\n",
       "      <td>19426</td>\n",
       "      <td>1.816424</td>\n",
       "      <td>7294.0</td>\n",
       "      <td>4.225295</td>\n",
       "      <td>7895</td>\n",
       "      <td>6618.0</td>\n",
       "      <td>...</td>\n",
       "      <td>['unisex', 'teen', 'adult', 'fitted', 'reversi...</td>\n",
       "      <td>NaN</td>\n",
       "      <td>93.0</td>\n",
       "      <td>2006/12/01 00:00:00 -0500</td>\n",
       "      <td>20.0</td>\n",
       "      <td>4.0</td>\n",
       "      <td>True</td>\n",
       "      <td>True</td>\n",
       "      <td>['headband', 'headwear', 'accessories']</td>\n",
       "      <td>Aran (8 wpi)</td>\n",
       "    </tr>\n",
       "    <tr>\n",
       "      <th>1</th>\n",
       "      <td>3156</td>\n",
       "      <td>Basic Ribbed Socks</td>\n",
       "      <td>basic-ribbed-socks</td>\n",
       "      <td>17795</td>\n",
       "      <td>10987</td>\n",
       "      <td>2.435581</td>\n",
       "      <td>2670.0</td>\n",
       "      <td>4.455242</td>\n",
       "      <td>3519</td>\n",
       "      <td>2480.0</td>\n",
       "      <td>...</td>\n",
       "      <td>['unisex', 'adult', 'top-cuff-down', 'heel-fla...</td>\n",
       "      <td>NaN</td>\n",
       "      <td>370.0</td>\n",
       "      <td>2006/04/01 00:00:00 -0500</td>\n",
       "      <td>32.0</td>\n",
       "      <td>4.0</td>\n",
       "      <td>True</td>\n",
       "      <td>True</td>\n",
       "      <td>['mid-calf', 'socks', 'feet-legs', 'accessories']</td>\n",
       "      <td>Fingering (14 wpi)</td>\n",
       "    </tr>\n",
       "    <tr>\n",
       "      <th>2</th>\n",
       "      <td>3636</td>\n",
       "      <td>#29 Classic Socks- baby, child &amp; adult socks</td>\n",
       "      <td>29-classic-socks--baby-child--adult-socks</td>\n",
       "      <td>3483</td>\n",
       "      <td>6019</td>\n",
       "      <td>2.851249</td>\n",
       "      <td>921.0</td>\n",
       "      <td>4.493304</td>\n",
       "      <td>463</td>\n",
       "      <td>896.0</td>\n",
       "      <td>...</td>\n",
       "      <td>['unisex', 'baby', 'toddler', 'child', 'teen',...</td>\n",
       "      <td>NaN</td>\n",
       "      <td>NaN</td>\n",
       "      <td>2007/05/18 07:01:30 -0400</td>\n",
       "      <td>NaN</td>\n",
       "      <td>1.0</td>\n",
       "      <td>False</td>\n",
       "      <td>True</td>\n",
       "      <td>['mid-calf', 'socks', 'feet-legs', 'accessories']</td>\n",
       "      <td>Sport (12 wpi)</td>\n",
       "    </tr>\n",
       "    <tr>\n",
       "      <th>3</th>\n",
       "      <td>27077</td>\n",
       "      <td>Jacques Cousteau Hat</td>\n",
       "      <td>jacques-cousteau-hat</td>\n",
       "      <td>22539</td>\n",
       "      <td>7325</td>\n",
       "      <td>1.865684</td>\n",
       "      <td>2442.0</td>\n",
       "      <td>4.267587</td>\n",
       "      <td>4534</td>\n",
       "      <td>2246.0</td>\n",
       "      <td>...</td>\n",
       "      <td>['male', 'ribbed', 'written-pattern', 'in-the-...</td>\n",
       "      <td>234.0</td>\n",
       "      <td>234.0</td>\n",
       "      <td>2006/03/01 00:00:00 -0500</td>\n",
       "      <td>22.0</td>\n",
       "      <td>4.0</td>\n",
       "      <td>True</td>\n",
       "      <td>True</td>\n",
       "      <td>['beanie-toque', 'hat', 'accessories']</td>\n",
       "      <td>DK (11 wpi)</td>\n",
       "    </tr>\n",
       "    <tr>\n",
       "      <th>4</th>\n",
       "      <td>29869</td>\n",
       "      <td>Sock Patterns for Regia 4ply</td>\n",
       "      <td>sock-patterns-for-regia-4ply</td>\n",
       "      <td>1190</td>\n",
       "      <td>2469</td>\n",
       "      <td>2.853333</td>\n",
       "      <td>300.0</td>\n",
       "      <td>4.223776</td>\n",
       "      <td>219</td>\n",
       "      <td>286.0</td>\n",
       "      <td>...</td>\n",
       "      <td>['unisex', 'adult', 'top-cuff-down', 'heel-fla...</td>\n",
       "      <td>NaN</td>\n",
       "      <td>460.0</td>\n",
       "      <td>2007/10/27 18:20:38 -0400</td>\n",
       "      <td>30.0</td>\n",
       "      <td>4.0</td>\n",
       "      <td>False</td>\n",
       "      <td>False</td>\n",
       "      <td>['mid-calf', 'socks', 'feet-legs', 'accessories']</td>\n",
       "      <td>Fingering (14 wpi)</td>\n",
       "    </tr>\n",
       "  </tbody>\n",
       "</table>\n",
       "<p>5 rows × 24 columns</p>\n",
       "</div>"
      ],
      "text/plain": [
       "   pattern_id                                          name  \\\n",
       "0          88                                   Calorimetry   \n",
       "1        3156                            Basic Ribbed Socks   \n",
       "2        3636  #29 Classic Socks- baby, child & adult socks   \n",
       "3       27077                          Jacques Cousteau Hat   \n",
       "4       29869                  Sock Patterns for Regia 4ply   \n",
       "\n",
       "                              name_permalink  favorites_count  projects_count  \\\n",
       "0                                calorimetry            29838           19426   \n",
       "1                         basic-ribbed-socks            17795           10987   \n",
       "2  29-classic-socks--baby-child--adult-socks             3483            6019   \n",
       "3                       jacques-cousteau-hat            22539            7325   \n",
       "4               sock-patterns-for-regia-4ply             1190            2469   \n",
       "\n",
       "   difficulty_average  difficulty_count  rating_average  \\\n",
       "0            1.816424            7294.0        4.225295   \n",
       "1            2.435581            2670.0        4.455242   \n",
       "2            2.851249             921.0        4.493304   \n",
       "3            1.865684            2442.0        4.267587   \n",
       "4            2.853333             300.0        4.223776   \n",
       "\n",
       "   queued_projects_count  rating_count  ...  \\\n",
       "0                   7895        6618.0  ...   \n",
       "1                   3519        2480.0  ...   \n",
       "2                    463         896.0  ...   \n",
       "3                   4534        2246.0  ...   \n",
       "4                    219         286.0  ...   \n",
       "\n",
       "                                  pattern_attributes yardage_max yardage  \\\n",
       "0  ['unisex', 'teen', 'adult', 'fitted', 'reversi...         NaN    93.0   \n",
       "1  ['unisex', 'adult', 'top-cuff-down', 'heel-fla...         NaN   370.0   \n",
       "2  ['unisex', 'baby', 'toddler', 'child', 'teen',...         NaN     NaN   \n",
       "3  ['male', 'ribbed', 'written-pattern', 'in-the-...       234.0   234.0   \n",
       "4  ['unisex', 'adult', 'top-cuff-down', 'heel-fla...         NaN   460.0   \n",
       "\n",
       "         generally_available gauge  gauge_divisor   free downloadable  \\\n",
       "0  2006/12/01 00:00:00 -0500  20.0            4.0   True         True   \n",
       "1  2006/04/01 00:00:00 -0500  32.0            4.0   True         True   \n",
       "2  2007/05/18 07:01:30 -0400   NaN            1.0  False         True   \n",
       "3  2006/03/01 00:00:00 -0500  22.0            4.0   True         True   \n",
       "4  2007/10/27 18:20:38 -0400  30.0            4.0  False        False   \n",
       "\n",
       "                                          categories  yarn_weight_description  \n",
       "0            ['headband', 'headwear', 'accessories']             Aran (8 wpi)  \n",
       "1  ['mid-calf', 'socks', 'feet-legs', 'accessories']       Fingering (14 wpi)  \n",
       "2  ['mid-calf', 'socks', 'feet-legs', 'accessories']           Sport (12 wpi)  \n",
       "3             ['beanie-toque', 'hat', 'accessories']              DK (11 wpi)  \n",
       "4  ['mid-calf', 'socks', 'feet-legs', 'accessories']       Fingering (14 wpi)  \n",
       "\n",
       "[5 rows x 24 columns]"
      ]
     },
     "execution_count": 260,
     "metadata": {},
     "output_type": "execute_result"
    }
   ],
   "source": [
    "# In order to pull out pattern details after we get similar patterns, need the metadata \n",
    "#(merge df with pattern_details)\n",
    "\n",
    "metadata = pattern_details[pattern_details['pattern_id'].isin(df.pattern_ids.values)]\n",
    "# REINDEX??\n",
    "print(metadata.shape)\n",
    "metadata.head()"
   ]
  },
  {
   "cell_type": "markdown",
   "id": "0575b576-7513-445f-9e6f-f78560a00d2a",
   "metadata": {},
   "source": [
    "#### Check Sparsity"
   ]
  },
  {
   "cell_type": "code",
   "execution_count": 314,
   "id": "2146c1b5-bf58-4c10-b2a4-f2504c461c23",
   "metadata": {},
   "outputs": [
    {
     "name": "stdout",
     "output_type": "stream",
     "text": [
      "Number of users: 338751\n",
      "Number of models: 2961\n",
      "Sparsity: 0.324%\n"
     ]
    }
   ],
   "source": [
    "n_users = df.user_id.unique().shape[0]\n",
    "n_items = df.pattern_ids.unique().shape[0]\n",
    "\n",
    "print('Number of users: {}'.format(n_users))\n",
    "print('Number of models: {}'.format(n_items))\n",
    "print('Sparsity: {:4.3f}%'.format(float(df.shape[0]) / float(n_users*n_items) * 100))\n",
    "\n",
    "# Woot - this is above the 0.1 percent threshold - performance generally degrades the more sparse the matrix is "
   ]
  },
  {
   "cell_type": "markdown",
   "id": "07fb45e1-4ace-4720-8874-ac5b83f4d73d",
   "metadata": {},
   "source": [
    "### Unique counts"
   ]
  },
  {
   "cell_type": "code",
   "execution_count": null,
   "id": "7caafed7-369f-4961-9d6e-09ea6cfa4df6",
   "metadata": {},
   "outputs": [],
   "source": [
    "# print('No. of Unique Users    :', reviews.userID.nunique())\n",
    "# print('No. of Unique Business :', reviews.businessID.nunique())\n",
    "# print('No. of Unique Ratings  :', reviews.rating.nunique())\n",
    "\n",
    "\n",
    "# look here for bar charts I should include here too\n",
    "# https://bmanohar16.github.io/blog/recsys-evaluation-in-surprise"
   ]
  },
  {
   "cell_type": "code",
   "execution_count": 315,
   "id": "213020f4-ae74-4ae0-8902-7de62752a7a4",
   "metadata": {},
   "outputs": [
    {
     "data": {
      "text/plain": [
       "(3250978, 5)"
      ]
     },
     "execution_count": 315,
     "metadata": {},
     "output_type": "execute_result"
    }
   ],
   "source": [
    "df.shape"
   ]
  },
  {
   "cell_type": "code",
   "execution_count": 68,
   "id": "08f4f5d7-71a6-41a1-88a7-ceb0e0b43c66",
   "metadata": {},
   "outputs": [
    {
     "data": {
      "text/plain": [
       "(290270, 1700)"
      ]
     },
     "execution_count": 68,
     "metadata": {},
     "output_type": "execute_result"
    }
   ],
   "source": [
    "# user_project_map = df.pivot_table(index='user_id', columns='pattern_ids', values='has_knit')\n",
    "# user_project_map.head()                    \n",
    "# user_project_map.shape\n",
    "# # user_project_map.head()"
   ]
  },
  {
   "cell_type": "code",
   "execution_count": 385,
   "id": "eaa75e7b-895f-4f7f-8593-01907dcdd739",
   "metadata": {},
   "outputs": [],
   "source": [
    "df.to_csv('data/less_sparse_users_patterns.csv', index=False)"
   ]
  }
 ],
 "metadata": {
  "kernelspec": {
   "display_name": "test_env",
   "language": "python",
   "name": "test_env"
  },
  "language_info": {
   "codemirror_mode": {
    "name": "ipython",
    "version": 3
   },
   "file_extension": ".py",
   "mimetype": "text/x-python",
   "name": "python",
   "nbconvert_exporter": "python",
   "pygments_lexer": "ipython3",
   "version": "3.6.13"
  }
 },
 "nbformat": 4,
 "nbformat_minor": 5
}
