{
 "cells": [
  {
   "cell_type": "markdown",
   "id": "2fcda67d-0022-4473-8602-1c7ab6d6edcf",
   "metadata": {},
   "source": [
    "## Data Exploration"
   ]
  },
  {
   "cell_type": "code",
   "execution_count": 2,
   "id": "9960d521-ead7-4fe0-98df-24e194cb5952",
   "metadata": {},
   "outputs": [],
   "source": [
    "import pandas as pd\n",
    "import numpy as np"
   ]
  },
  {
   "cell_type": "code",
   "execution_count": 3,
   "id": "9f7e6ae5-f0d6-4f6e-84b2-d9d487d618ab",
   "metadata": {},
   "outputs": [],
   "source": [
    "# import data (with photo)\n",
    "four_star = pd.read_csv('data/patterns_4star.csv')\n",
    "five_star_clothing = pd.read_csv('data/patterns_5star_is_clothing.csv')\n",
    "five_star_not_clothing = pd.read_csv('data/patterns_5star_not_clothing.csv')"
   ]
  },
  {
   "cell_type": "code",
   "execution_count": 5,
   "id": "516f1479-05cd-4c51-87f6-409b4cca4d40",
   "metadata": {},
   "outputs": [
    {
     "data": {
      "text/plain": [
       "((79030, 24), (24583, 24), (85911, 24))"
      ]
     },
     "execution_count": 5,
     "metadata": {},
     "output_type": "execute_result"
    }
   ],
   "source": [
    "four_star.shape, five_star_clothing.shape, five_star_not_clothing.shape"
   ]
  },
  {
   "cell_type": "code",
   "execution_count": 9,
   "id": "d5270605-8c3d-4313-a627-12e928f1cd64",
   "metadata": {},
   "outputs": [
    {
     "data": {
      "text/plain": [
       "(189524, 24)"
      ]
     },
     "execution_count": 9,
     "metadata": {},
     "output_type": "execute_result"
    }
   ],
   "source": [
    "# colsolidate into one dataframe\n",
    "df = four_star.append(five_star_clothing, ignore_index=True)\n",
    "df = df.append(five_star_not_clothing, ignore_index=True)\n",
    "df.shape"
   ]
  },
  {
   "cell_type": "code",
   "execution_count": 10,
   "id": "11b312f4-b824-4335-9c64-e950d79cfe2b",
   "metadata": {},
   "outputs": [
    {
     "name": "stdout",
     "output_type": "stream",
     "text": [
      "<class 'pandas.core.frame.DataFrame'>\n",
      "RangeIndex: 189524 entries, 0 to 189523\n",
      "Data columns (total 24 columns):\n",
      " #   Column                   Non-Null Count   Dtype \n",
      "---  ------                   --------------   ----- \n",
      " 0   pattern_id               189524 non-null  object\n",
      " 1   name                     189524 non-null  object\n",
      " 2   name_permalink           189524 non-null  object\n",
      " 3   favorites_count          189524 non-null  object\n",
      " 4   projects_count           189524 non-null  object\n",
      " 5   difficulty_average       189524 non-null  object\n",
      " 6   difficulty_count         183797 non-null  object\n",
      " 7   rating_average           189524 non-null  object\n",
      " 8   queued_projects_count    189524 non-null  object\n",
      " 9   rating_count             189522 non-null  object\n",
      " 10  pattern_type_names       189520 non-null  object\n",
      " 11  pattern_type_clothing    189520 non-null  object\n",
      " 12  photos_url               189524 non-null  object\n",
      " 13  pattern_needle_sizes     189524 non-null  object\n",
      " 14  pattern_attributes       189524 non-null  object\n",
      " 15  yardage_max              118894 non-null  object\n",
      " 16  yardage                  149047 non-null  object\n",
      " 17  generally_available      189524 non-null  object\n",
      " 18  gauge                    156469 non-null  object\n",
      " 19  gauge_divisor            166037 non-null  object\n",
      " 20  free                     189517 non-null  object\n",
      " 21  downloadable             189520 non-null  object\n",
      " 22  categories               189518 non-null  object\n",
      " 23  yarn_weight_description  182189 non-null  object\n",
      "dtypes: object(24)\n",
      "memory usage: 34.7+ MB\n"
     ]
    }
   ],
   "source": [
    "df.info()"
   ]
  },
  {
   "cell_type": "markdown",
   "id": "ba1e4272-7835-47c8-8670-e3f00b901102",
   "metadata": {},
   "source": [
    "### From Ravelry Search page:"
   ]
  },
  {
   "cell_type": "code",
   "execution_count": 5,
   "id": "e06a7dca-ba73-4955-8e95-3e55179b4e00",
   "metadata": {},
   "outputs": [],
   "source": [
    "knitting_patterns = 665638\n",
    "crochet = 435382\n",
    "machine_knitting = 4008\n",
    "loom_knitting = 4141\n",
    "all_patterns = 1099169 # this includes crochet, machine and loom knitting as well \n",
    "\n",
    "knitting_rated_unrated = 469537\n",
    "\n",
    "# Choose only knittng and rated and with photo for project page\n",
    "# plot rated patterns"
   ]
  },
  {
   "cell_type": "code",
   "execution_count": null,
   "id": "b11a9ffc-4f80-43e5-ba8c-a9d851c80001",
   "metadata": {},
   "outputs": [],
   "source": [
    "# PLOT A PIE CHART"
   ]
  },
  {
   "cell_type": "code",
   "execution_count": 6,
   "id": "f790c702-2be0-4009-92bf-53279a31c6f6",
   "metadata": {},
   "outputs": [],
   "source": [
    "# Users\n",
    "users = 10247493\n",
    "users_within_5_miles_of_me = 2972\n",
    "users_with_avatar = 712601\n",
    "\n",
    "# filter has avatar (more active)"
   ]
  },
  {
   "cell_type": "markdown",
   "id": "e672d2ab-cc29-44c3-b4e5-1be7282e7d15",
   "metadata": {},
   "source": [
    "#### For knitting "
   ]
  },
  {
   "cell_type": "code",
   "execution_count": null,
   "id": "012a26a3-3feb-40ac-a2a8-9c008add53a1",
   "metadata": {},
   "outputs": [],
   "source": [
    "projects = 18113264\n"
   ]
  },
  {
   "cell_type": "code",
   "execution_count": 11,
   "id": "8786f822-391f-4533-b2fa-018995cf7d8f",
   "metadata": {},
   "outputs": [
    {
     "data": {
      "text/html": [
       "<div>\n",
       "<style scoped>\n",
       "    .dataframe tbody tr th:only-of-type {\n",
       "        vertical-align: middle;\n",
       "    }\n",
       "\n",
       "    .dataframe tbody tr th {\n",
       "        vertical-align: top;\n",
       "    }\n",
       "\n",
       "    .dataframe thead th {\n",
       "        text-align: right;\n",
       "    }\n",
       "</style>\n",
       "<table border=\"1\" class=\"dataframe\">\n",
       "  <thead>\n",
       "    <tr style=\"text-align: right;\">\n",
       "      <th></th>\n",
       "      <th>yarn_weight_description</th>\n",
       "      <th>yarn_weight_id</th>\n",
       "      <th>yarn_weight_name</th>\n",
       "      <th>yarn_weight_ply</th>\n",
       "      <th>yarn_weight_wpi</th>\n",
       "      <th>yarn_weight_knit_gauge</th>\n",
       "    </tr>\n",
       "  </thead>\n",
       "  <tbody>\n",
       "    <tr>\n",
       "      <th>0</th>\n",
       "      <td>Aran (8 wpi)</td>\n",
       "      <td>1.0</td>\n",
       "      <td>21</td>\n",
       "      <td>21</td>\n",
       "      <td>21</td>\n",
       "      <td>21</td>\n",
       "    </tr>\n",
       "    <tr>\n",
       "      <th>1</th>\n",
       "      <td>Aran / Worsted</td>\n",
       "      <td>2.0</td>\n",
       "      <td>5</td>\n",
       "      <td>0</td>\n",
       "      <td>0</td>\n",
       "      <td>0</td>\n",
       "    </tr>\n",
       "    <tr>\n",
       "      <th>2</th>\n",
       "      <td>Bulky (7 wpi)</td>\n",
       "      <td>4.0</td>\n",
       "      <td>8</td>\n",
       "      <td>8</td>\n",
       "      <td>8</td>\n",
       "      <td>8</td>\n",
       "    </tr>\n",
       "    <tr>\n",
       "      <th>3</th>\n",
       "      <td>DK (11 wpi)</td>\n",
       "      <td>11.0</td>\n",
       "      <td>9</td>\n",
       "      <td>9</td>\n",
       "      <td>9</td>\n",
       "      <td>9</td>\n",
       "    </tr>\n",
       "    <tr>\n",
       "      <th>4</th>\n",
       "      <td>DK / Sport</td>\n",
       "      <td>3.0</td>\n",
       "      <td>3</td>\n",
       "      <td>0</td>\n",
       "      <td>0</td>\n",
       "      <td>0</td>\n",
       "    </tr>\n",
       "    <tr>\n",
       "      <th>5</th>\n",
       "      <td>Fingering (14 wpi)</td>\n",
       "      <td>5.0</td>\n",
       "      <td>14</td>\n",
       "      <td>14</td>\n",
       "      <td>14</td>\n",
       "      <td>14</td>\n",
       "    </tr>\n",
       "    <tr>\n",
       "      <th>6</th>\n",
       "      <td>Lace</td>\n",
       "      <td>7.0</td>\n",
       "      <td>9</td>\n",
       "      <td>9</td>\n",
       "      <td>0</td>\n",
       "      <td>9</td>\n",
       "    </tr>\n",
       "    <tr>\n",
       "      <th>7</th>\n",
       "      <td>Sport (12 wpi)</td>\n",
       "      <td>10.0</td>\n",
       "      <td>6</td>\n",
       "      <td>6</td>\n",
       "      <td>6</td>\n",
       "      <td>6</td>\n",
       "    </tr>\n",
       "    <tr>\n",
       "      <th>8</th>\n",
       "      <td>Super Bulky (5-6 wpi)</td>\n",
       "      <td>6.0</td>\n",
       "      <td>7</td>\n",
       "      <td>0</td>\n",
       "      <td>7</td>\n",
       "      <td>7</td>\n",
       "    </tr>\n",
       "    <tr>\n",
       "      <th>9</th>\n",
       "      <td>Worsted (9 wpi)</td>\n",
       "      <td>12.0</td>\n",
       "      <td>10</td>\n",
       "      <td>10</td>\n",
       "      <td>10</td>\n",
       "      <td>10</td>\n",
       "    </tr>\n",
       "  </tbody>\n",
       "</table>\n",
       "</div>"
      ],
      "text/plain": [
       "  yarn_weight_description  yarn_weight_id  yarn_weight_name  yarn_weight_ply  \\\n",
       "0            Aran (8 wpi)             1.0                21               21   \n",
       "1          Aran / Worsted             2.0                 5                0   \n",
       "2           Bulky (7 wpi)             4.0                 8                8   \n",
       "3             DK (11 wpi)            11.0                 9                9   \n",
       "4              DK / Sport             3.0                 3                0   \n",
       "5      Fingering (14 wpi)             5.0                14               14   \n",
       "6                    Lace             7.0                 9                9   \n",
       "7          Sport (12 wpi)            10.0                 6                6   \n",
       "8   Super Bulky (5-6 wpi)             6.0                 7                0   \n",
       "9         Worsted (9 wpi)            12.0                10               10   \n",
       "\n",
       "   yarn_weight_wpi  yarn_weight_knit_gauge  \n",
       "0               21                      21  \n",
       "1                0                       0  \n",
       "2                8                       8  \n",
       "3                9                       9  \n",
       "4                0                       0  \n",
       "5               14                      14  \n",
       "6                0                       9  \n",
       "7                6                       6  \n",
       "8                7                       7  \n",
       "9               10                      10  "
      ]
     },
     "execution_count": 11,
     "metadata": {},
     "output_type": "execute_result"
    }
   ],
   "source": [
    "# yarn\n",
    "yarn = df[['yarn_weight_description', 'yarn_weight_id', 'yarn_weight_name',\n",
    "       'yarn_weight_ply', 'yarn_weight_wpi', 'yarn_weight_knit_gauge']]\n",
    "yarn.groupby(['yarn_weight_description', 'yarn_weight_id'], as_index = False).count()\n"
   ]
  },
  {
   "cell_type": "code",
   "execution_count": null,
   "id": "87394230-3a91-4582-ab2f-971b842c2059",
   "metadata": {},
   "outputs": [],
   "source": [
    "# pattern category"
   ]
  },
  {
   "cell_type": "code",
   "execution_count": null,
   "id": "0b7a57f8-6b17-4901-87a4-7980545686e0",
   "metadata": {},
   "outputs": [],
   "source": [
    "# ratings\n"
   ]
  },
  {
   "cell_type": "code",
   "execution_count": null,
   "id": "beece42a-170f-463c-b147-e9c0acca1291",
   "metadata": {},
   "outputs": [],
   "source": [
    "counts"
   ]
  },
  {
   "cell_type": "code",
   "execution_count": null,
   "id": "321c1f1d-a1bd-46aa-941b-781cb44319c7",
   "metadata": {},
   "outputs": [],
   "source": [
    "# favourites - look at all data for imputing "
   ]
  },
  {
   "cell_type": "code",
   "execution_count": 21,
   "id": "f0c3a1d4-ed69-436e-8929-37855a882c13",
   "metadata": {},
   "outputs": [
    {
     "name": "stdout",
     "output_type": "stream",
     "text": [
      "[ 874.  800.  342.  388.  220.  500. 1162.   nan  114. 1150. 1568.  820.\n",
      "  225.   77.  400.  875.  465.  780.  219.  490.  125.  840.  585. 1107.\n",
      "  555.  420.  113.  121.  924.   61. 1540. 2300.  981.  681.  392.  360.\n",
      "  545.  440.  760.  109.  880.  173.   93. 1160.  550.  645.  380.  369.\n",
      "  277. 1098. 1116.  690.  436.  164. 1050.  275.  660.  280.  190.  720.\n",
      "  450. 1480. 1200. 1000. 1582. 1330.  919.   90.  218.  350.  100.  110.\n",
      "  150.]\n",
      "[  nan 1200.  798. 1826. 1764.  372. 1248.  250. 1752.  765. 1353.  850.\n",
      "  140.   90. 2420.  872.  700.  763.  880.  175.  346. 1392.  770. 1075.\n",
      "  400.  608.  450. 3660. 1302.  490. 1100. 1476. 1300.  819.  525.  380.\n",
      "  900. 1776. 1650. 1250. 2101. 1500. 2280. 1334.]\n"
     ]
    },
    {
     "data": {
      "text/html": [
       "<div>\n",
       "<style scoped>\n",
       "    .dataframe tbody tr th:only-of-type {\n",
       "        vertical-align: middle;\n",
       "    }\n",
       "\n",
       "    .dataframe tbody tr th {\n",
       "        vertical-align: top;\n",
       "    }\n",
       "\n",
       "    .dataframe thead th {\n",
       "        text-align: right;\n",
       "    }\n",
       "</style>\n",
       "<table border=\"1\" class=\"dataframe\">\n",
       "  <thead>\n",
       "    <tr style=\"text-align: right;\">\n",
       "      <th></th>\n",
       "      <th>yardage</th>\n",
       "      <th>yardage_description</th>\n",
       "      <th>yardage_max</th>\n",
       "    </tr>\n",
       "  </thead>\n",
       "  <tbody>\n",
       "    <tr>\n",
       "      <th>0</th>\n",
       "      <td>874.0</td>\n",
       "      <td>874 yards</td>\n",
       "      <td>NaN</td>\n",
       "    </tr>\n",
       "    <tr>\n",
       "      <th>1</th>\n",
       "      <td>800.0</td>\n",
       "      <td>800 - 1200 yards</td>\n",
       "      <td>1200.0</td>\n",
       "    </tr>\n",
       "    <tr>\n",
       "      <th>2</th>\n",
       "      <td>342.0</td>\n",
       "      <td>342 - 798 yards</td>\n",
       "      <td>798.0</td>\n",
       "    </tr>\n",
       "    <tr>\n",
       "      <th>3</th>\n",
       "      <td>388.0</td>\n",
       "      <td>388 yards</td>\n",
       "      <td>NaN</td>\n",
       "    </tr>\n",
       "    <tr>\n",
       "      <th>4</th>\n",
       "      <td>220.0</td>\n",
       "      <td>220 yards</td>\n",
       "      <td>NaN</td>\n",
       "    </tr>\n",
       "    <tr>\n",
       "      <th>5</th>\n",
       "      <td>500.0</td>\n",
       "      <td>500 yards</td>\n",
       "      <td>NaN</td>\n",
       "    </tr>\n",
       "    <tr>\n",
       "      <th>6</th>\n",
       "      <td>1162.0</td>\n",
       "      <td>1162 - 1826 yards</td>\n",
       "      <td>1826.0</td>\n",
       "    </tr>\n",
       "    <tr>\n",
       "      <th>7</th>\n",
       "      <td>NaN</td>\n",
       "      <td>yards</td>\n",
       "      <td>NaN</td>\n",
       "    </tr>\n",
       "    <tr>\n",
       "      <th>8</th>\n",
       "      <td>114.0</td>\n",
       "      <td>114 yards</td>\n",
       "      <td>NaN</td>\n",
       "    </tr>\n",
       "    <tr>\n",
       "      <th>9</th>\n",
       "      <td>1150.0</td>\n",
       "      <td>1150 yards</td>\n",
       "      <td>NaN</td>\n",
       "    </tr>\n",
       "    <tr>\n",
       "      <th>10</th>\n",
       "      <td>1568.0</td>\n",
       "      <td>1568 - 1764 yards</td>\n",
       "      <td>1764.0</td>\n",
       "    </tr>\n",
       "    <tr>\n",
       "      <th>11</th>\n",
       "      <td>820.0</td>\n",
       "      <td>820 yards</td>\n",
       "      <td>NaN</td>\n",
       "    </tr>\n",
       "    <tr>\n",
       "      <th>12</th>\n",
       "      <td>NaN</td>\n",
       "      <td>yards</td>\n",
       "      <td>NaN</td>\n",
       "    </tr>\n",
       "    <tr>\n",
       "      <th>13</th>\n",
       "      <td>225.0</td>\n",
       "      <td>225 yards</td>\n",
       "      <td>NaN</td>\n",
       "    </tr>\n",
       "    <tr>\n",
       "      <th>14</th>\n",
       "      <td>NaN</td>\n",
       "      <td>yards</td>\n",
       "      <td>NaN</td>\n",
       "    </tr>\n",
       "    <tr>\n",
       "      <th>15</th>\n",
       "      <td>77.0</td>\n",
       "      <td>77 - 372 yards</td>\n",
       "      <td>372.0</td>\n",
       "    </tr>\n",
       "    <tr>\n",
       "      <th>16</th>\n",
       "      <td>NaN</td>\n",
       "      <td>yards</td>\n",
       "      <td>NaN</td>\n",
       "    </tr>\n",
       "    <tr>\n",
       "      <th>17</th>\n",
       "      <td>400.0</td>\n",
       "      <td>400 yards</td>\n",
       "      <td>NaN</td>\n",
       "    </tr>\n",
       "    <tr>\n",
       "      <th>18</th>\n",
       "      <td>875.0</td>\n",
       "      <td>875 - 1200 yards</td>\n",
       "      <td>1200.0</td>\n",
       "    </tr>\n",
       "    <tr>\n",
       "      <th>19</th>\n",
       "      <td>465.0</td>\n",
       "      <td>465 yards</td>\n",
       "      <td>NaN</td>\n",
       "    </tr>\n",
       "    <tr>\n",
       "      <th>20</th>\n",
       "      <td>780.0</td>\n",
       "      <td>780 - 1248 yards</td>\n",
       "      <td>1248.0</td>\n",
       "    </tr>\n",
       "    <tr>\n",
       "      <th>21</th>\n",
       "      <td>NaN</td>\n",
       "      <td>yards</td>\n",
       "      <td>NaN</td>\n",
       "    </tr>\n",
       "    <tr>\n",
       "      <th>22</th>\n",
       "      <td>NaN</td>\n",
       "      <td>yards</td>\n",
       "      <td>NaN</td>\n",
       "    </tr>\n",
       "    <tr>\n",
       "      <th>23</th>\n",
       "      <td>219.0</td>\n",
       "      <td>219 yards</td>\n",
       "      <td>NaN</td>\n",
       "    </tr>\n",
       "    <tr>\n",
       "      <th>24</th>\n",
       "      <td>490.0</td>\n",
       "      <td>490 yards</td>\n",
       "      <td>NaN</td>\n",
       "    </tr>\n",
       "    <tr>\n",
       "      <th>25</th>\n",
       "      <td>125.0</td>\n",
       "      <td>125 - 250 yards</td>\n",
       "      <td>250.0</td>\n",
       "    </tr>\n",
       "    <tr>\n",
       "      <th>26</th>\n",
       "      <td>840.0</td>\n",
       "      <td>840 - 1752 yards</td>\n",
       "      <td>1752.0</td>\n",
       "    </tr>\n",
       "    <tr>\n",
       "      <th>27</th>\n",
       "      <td>585.0</td>\n",
       "      <td>585 - 765 yards</td>\n",
       "      <td>765.0</td>\n",
       "    </tr>\n",
       "    <tr>\n",
       "      <th>28</th>\n",
       "      <td>1107.0</td>\n",
       "      <td>1107 - 1353 yards</td>\n",
       "      <td>1353.0</td>\n",
       "    </tr>\n",
       "    <tr>\n",
       "      <th>29</th>\n",
       "      <td>500.0</td>\n",
       "      <td>500 - 850 yards</td>\n",
       "      <td>850.0</td>\n",
       "    </tr>\n",
       "  </tbody>\n",
       "</table>\n",
       "</div>"
      ],
      "text/plain": [
       "    yardage yardage_description  yardage_max\n",
       "0     874.0           874 yards          NaN\n",
       "1     800.0    800 - 1200 yards       1200.0\n",
       "2     342.0     342 - 798 yards        798.0\n",
       "3     388.0           388 yards          NaN\n",
       "4     220.0           220 yards          NaN\n",
       "5     500.0           500 yards          NaN\n",
       "6    1162.0   1162 - 1826 yards       1826.0\n",
       "7       NaN               yards          NaN\n",
       "8     114.0           114 yards          NaN\n",
       "9    1150.0          1150 yards          NaN\n",
       "10   1568.0   1568 - 1764 yards       1764.0\n",
       "11    820.0           820 yards          NaN\n",
       "12      NaN               yards          NaN\n",
       "13    225.0           225 yards          NaN\n",
       "14      NaN               yards          NaN\n",
       "15     77.0      77 - 372 yards        372.0\n",
       "16      NaN               yards          NaN\n",
       "17    400.0           400 yards          NaN\n",
       "18    875.0    875 - 1200 yards       1200.0\n",
       "19    465.0           465 yards          NaN\n",
       "20    780.0    780 - 1248 yards       1248.0\n",
       "21      NaN               yards          NaN\n",
       "22      NaN               yards          NaN\n",
       "23    219.0           219 yards          NaN\n",
       "24    490.0           490 yards          NaN\n",
       "25    125.0     125 - 250 yards        250.0\n",
       "26    840.0    840 - 1752 yards       1752.0\n",
       "27    585.0     585 - 765 yards        765.0\n",
       "28   1107.0   1107 - 1353 yards       1353.0\n",
       "29    500.0     500 - 850 yards        850.0"
      ]
     },
     "execution_count": 21,
     "metadata": {},
     "output_type": "execute_result"
    }
   ],
   "source": [
    "# yardage\n",
    "yardage = df[['yardage', 'yardage_description', 'yardage_max']]\n",
    "print(yardage.yardage.unique())\n",
    "print(yardage.yardage_max.unique())\n",
    "yardage.yardage_description.unique()\n",
    "yardage.head(30)\n",
    "\n",
    "# FOR IMPUTING - FIND AVG YARDAGE FOR CATEGORY\n",
    "# IMPUTE YARDAGE MAX WITH YARDAGE\n",
    "\n",
    "# HARD CODE AVERAGES/CATEGORY - or median dependeing on distribution\n",
    "Ave_yardage = (yardage_max - yardage)/2"
   ]
  },
  {
   "cell_type": "code",
   "execution_count": 26,
   "id": "b373dedb-654c-462f-aa29-38f9d4111938",
   "metadata": {},
   "outputs": [
    {
     "data": {
      "text/plain": [
       "Index(['pattern_id', 'name', 'name_permalink', 'favorites_count',\n",
       "       'projects_count', 'difficulty_average', 'difficulty_count',\n",
       "       'rating_average', 'rating_count', 'pattern_type_id',\n",
       "       'pattern_type_names', 'pattern_type_clothing', 'photos_url', 'craft_id',\n",
       "       'url', 'pattern_needle_sizes', 'pattern_attributes', 'yardage_max',\n",
       "       'yardage', 'yardage_description', 'generally_available', 'published',\n",
       "       'gauge', 'gauge_pattern', 'gauge_divisor', 'row_gauge', 'free',\n",
       "       'downloadable', 'categories', 'yarn_weight_description',\n",
       "       'yarn_weight_id', 'yarn_weight_name', 'yarn_weight_ply',\n",
       "       'yarn_weight_wpi', 'yarn_weight_knit_gauge'],\n",
       "      dtype='object')"
      ]
     },
     "execution_count": 26,
     "metadata": {},
     "output_type": "execute_result"
    }
   ],
   "source": [
    "# needle sizes\n",
    "df.columns"
   ]
  },
  {
   "cell_type": "markdown",
   "id": "9d43ab84-eebc-44f6-a280-23e9d50b3b55",
   "metadata": {},
   "source": [
    "## With data"
   ]
  },
  {
   "cell_type": "code",
   "execution_count": null,
   "id": "5284c4ff-77e4-4b73-a755-6d012322aa3d",
   "metadata": {},
   "outputs": [],
   "source": [
    "# CLEAN!\n",
    "plot missing values\n",
    "# dropna()"
   ]
  },
  {
   "cell_type": "code",
   "execution_count": null,
   "id": "95755505-dfc9-41cc-87aa-7598f954a220",
   "metadata": {},
   "outputs": [],
   "source": [
    "# distribution of pattern counts\n",
    "\n",
    "# averages\n"
   ]
  },
  {
   "cell_type": "code",
   "execution_count": null,
   "id": "2edafaaf-80a2-4b77-8950-c580c1dd1d3b",
   "metadata": {},
   "outputs": [],
   "source": []
  },
  {
   "cell_type": "code",
   "execution_count": null,
   "id": "645733b3-0027-4b2c-8c95-20037ad5c613",
   "metadata": {},
   "outputs": [],
   "source": [
    "correlation matrix (favourites, take first or last category) after fill nas"
   ]
  },
  {
   "cell_type": "code",
   "execution_count": null,
   "id": "9ebc621a-4eb6-4a8b-84f9-7ebfc488c4a5",
   "metadata": {},
   "outputs": [],
   "source": [
    "BOX PLOTS!"
   ]
  }
 ],
 "metadata": {
  "kernelspec": {
   "display_name": "test_env",
   "language": "python",
   "name": "test_env"
  },
  "language_info": {
   "codemirror_mode": {
    "name": "ipython",
    "version": 3
   },
   "file_extension": ".py",
   "mimetype": "text/x-python",
   "name": "python",
   "nbconvert_exporter": "python",
   "pygments_lexer": "ipython3",
   "version": "3.6.13"
  }
 },
 "nbformat": 4,
 "nbformat_minor": 5
}
