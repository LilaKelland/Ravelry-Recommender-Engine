{
 "cells": [
  {
   "cell_type": "markdown",
   "id": "53f7ba2e-4936-4f86-82dc-b8a78f6d6472",
   "metadata": {},
   "source": [
    "## Data Cleaning and Processing"
   ]
  },
  {
   "cell_type": "code",
   "execution_count": 47,
   "id": "beb729f3-edac-4c7a-aad5-649a276a9878",
   "metadata": {},
   "outputs": [],
   "source": [
    "import numpy as np\n",
    "import pandas as pd\n",
    "\n",
    "import ast"
   ]
  },
  {
   "cell_type": "code",
   "execution_count": null,
   "id": "4dcfd16d-dc28-42c2-bfbc-bb4e754a951f",
   "metadata": {},
   "outputs": [],
   "source": [
    "# # colsolidate into one dataframe\n",
    "# df = four_star.append(five_star_clothing, ignore_index=True)\n",
    "# df = df.append(five_star_not_clothing, ignore_index=True)\n",
    "# df.shape\n",
    "\n",
    "# # remove any rows with headers\n",
    "# df = df.drop(df[df['pattern_id']=='pattern_id'].index)\n",
    "# # drop douplicates\n",
    "# df = df.drop_duplicates()"
   ]
  },
  {
   "cell_type": "code",
   "execution_count": 84,
   "id": "f76253ef-0013-4303-b37c-5b2aa49cf3c5",
   "metadata": {},
   "outputs": [],
   "source": [
    "df = pd.read_csv('data/consolidated_patterns.csv', low_memory=False)\n",
    "\n",
    "\n",
    "\n",
    "# Need to save and reload clean data!! \n",
    "df = clean_out_bad_data(df)\n",
    "df.reset_index(inplace=True, drop=True)\n",
    "\n",
    "df.to_csv('data/patterns_cleaned.csv', index=False)\n",
    "\n",
    "# # INCLUDE WEIGHTED AVERAGE SCORE RATHER THAN RATING?"
   ]
  }
 ],
 "metadata": {
  "kernelspec": {
   "display_name": "test_env",
   "language": "python",
   "name": "test_env"
  },
  "language_info": {
   "codemirror_mode": {
    "name": "ipython",
    "version": 3
   },
   "file_extension": ".py",
   "mimetype": "text/x-python",
   "name": "python",
   "nbconvert_exporter": "python",
   "pygments_lexer": "ipython3",
   "version": "3.6.13"
  }
 },
 "nbformat": 4,
 "nbformat_minor": 5
}
