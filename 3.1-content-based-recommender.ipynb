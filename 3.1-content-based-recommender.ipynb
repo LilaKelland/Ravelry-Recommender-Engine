{
 "cells": [
  {
   "cell_type": "markdown",
   "id": "5bfb6670-a320-43d3-b04d-e91cc3932923",
   "metadata": {},
   "source": [
    "## Content Based Recommender\n",
    "\n",
    "Uses similarities between patterns based on angular distance of eudlidean distance of pattern features. Feature engineering for this recommender can have a large inpact on results.\n",
    "\n",
    "look here wh"
   ]
  },
  {
   "cell_type": "code",
   "execution_count": 1,
   "id": "ded8b31e-6471-4dda-8137-79b58fd045e8",
   "metadata": {},
   "outputs": [],
   "source": [
    "# import pandas\n",
    "import pandas as pd\n",
    "import numpy as np\n",
    "\n",
    "# import TfidfVectorizer\n",
    "from sklearn.feature_extraction.text import TfidfVectorizer\n",
    "\n",
    "# import cosine_similarity\n",
    "from sklearn.metrics.pairwise import cosine_similarity\n",
    "# Import linear_kernel\n",
    "from sklearn.metrics.pairwise import linear_kernel\n",
    "\n",
    "from sklearn.metrics.pairwise import euclidean_distances"
   ]
  },
  {
   "cell_type": "code",
   "execution_count": 3,
   "id": "8a74bf22-7b2e-437f-b882-fd2ee4fbd436",
   "metadata": {},
   "outputs": [],
   "source": [
    "# import data\n",
    "patterns = pd.read_csv('data/patterns_df.csv')"
   ]
  },
  {
   "cell_type": "code",
   "execution_count": null,
   "id": "d0dd84c2-bd0f-453c-ad48-8d96df6bc673",
   "metadata": {},
   "outputs": [],
   "source": [
    "# create column for just attribite soup or BOW"
   ]
  },
  {
   "cell_type": "code",
   "execution_count": null,
   "id": "bacb4670-6da7-4e40-aaee-3b6c4c210e82",
   "metadata": {},
   "outputs": [],
   "source": [
    "# vectorize the words first (count vectorizor \n",
    "\n",
    "count = CountVectorizer()\n",
    "count_matrix = count.fit_transform(df['bag_of_words'])\n",
    "\n",
    "# generating the cosine similarity matrix\n",
    "cosine_sim = cosine_similarity(count_matrix, count_matrix)"
   ]
  },
  {
   "cell_type": "code",
   "execution_count": null,
   "id": "54f3d1d0-7519-49c7-9387-ce3d86db585c",
   "metadata": {},
   "outputs": [],
   "source": [
    "# https://towardsdatascience.com/how-to-build-from-scratch-a-content-based-movie-recommender-with-natural-language-processing-25ad400eb243\n",
    "\n",
    "# creating a Series for the movie titles so they are associated to an ordered numerical\n",
    "# list I will use in the function to match the indexes\n",
    "indices = pd.Series(df.index)\n",
    "\n",
    "#  defining the function that takes in movie title \n",
    "# as input and returns the top 10 recommended movies\n",
    "def recommendations(title, cosine_sim = cosine_sim):\n",
    "    \n",
    "    # initializing the empty list of recommended movies\n",
    "    recommended_movies = []\n",
    "    \n",
    "    # gettin the index of the movie that matches the title\n",
    "    idx = indices[indices == title].index[0]\n",
    "\n",
    "    # creating a Series with the similarity scores in descending order\n",
    "    score_series = pd.Series(cosine_sim[idx]).sort_values(ascending = False)\n",
    "\n",
    "    # getting the indexes of the 10 most similar movies\n",
    "    top_10_indexes = list(score_series.iloc[1:11].index)\n",
    "    \n",
    "    # populating the list with the titles of the best 10 matching movies\n",
    "    for i in top_10_indexes:\n",
    "        recommended_movies.append(list(df.index)[i])\n",
    "        \n",
    "    return recommended_movies"
   ]
  },
  {
   "cell_type": "code",
   "execution_count": null,
   "id": "4cad6ca6-7ae3-4a63-88f5-88d933152bcb",
   "metadata": {},
   "outputs": [],
   "source": [
    "# # Compute the cosine similarity matrix\n",
    "# cosine_sim = linear_kernel(tfidf_matrix, tfidf_matrix)"
   ]
  },
  {
   "cell_type": "code",
   "execution_count": null,
   "id": "c98112f6-6df5-4650-ab18-ddb66f5da7ea",
   "metadata": {},
   "outputs": [],
   "source": [
    "#TRY EUCLIDEAN DISTANCE AS WELL\n",
    "# from lecture monday:"
   ]
  },
  {
   "cell_type": "code",
   "execution_count": null,
   "id": "848ab410-9181-43db-80cc-30745539045d",
   "metadata": {},
   "outputs": [],
   "source": [
    "from sklearn.preprocessing import StandardScaler\n",
    "\n",
    "# Extract only some subset of columns to reduce computation time \n",
    "X = cars[['mpg', 'disp', 'hp', 'wt']].values\n",
    "\n",
    "# Standardize the features so that no feature dominates the\n",
    "# distance computations due to unit scale\n",
    "scaler = StandardScaler().fit(X)\n",
    "X = scaler.transform(X)"
   ]
  },
  {
   "cell_type": "code",
   "execution_count": null,
   "id": "530de522-bfe0-474e-bc4a-e30279154fbc",
   "metadata": {},
   "outputs": [],
   "source": [
    "# Car the user is looking at\n",
    "looking_at_car = [15, 300, 160, 3.2]\n",
    "looking_at_car = scaler.transform([looking_at_car])\n",
    "\n",
    "# Distance from all other cars\n",
    "distances = euclidean_distances(X, looking_at_car)\n",
    "distances = distances.reshape(-1)   # Before it was (n_cars, 1)\n",
    "\n",
    "# Find the 3 indices with the minimum distance (highest similarity) to the car we're looking at\n",
    "ordered_indices = distances.argsort()\n",
    "closest_indices = ordered_indices[:3]\n",
    "\n",
    "# Get the cars for these indices\n",
    "closest_cars = cars.iloc[closest_indices]\n",
    "closest_cars"
   ]
  }
 ],
 "metadata": {
  "kernelspec": {
   "display_name": "test_env",
   "language": "python",
   "name": "test_env"
  },
  "language_info": {
   "codemirror_mode": {
    "name": "ipython",
    "version": 3
   },
   "file_extension": ".py",
   "mimetype": "text/x-python",
   "name": "python",
   "nbconvert_exporter": "python",
   "pygments_lexer": "ipython3",
   "version": "3.6.13"
  }
 },
 "nbformat": 4,
 "nbformat_minor": 5
}
