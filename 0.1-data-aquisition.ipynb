{
 "cells": [
  {
   "cell_type": "markdown",
   "id": "03dd9fed-fd7f-414b-b883-a17bb71b7aa4",
   "metadata": {},
   "source": [
    "## Aquiring Data\n",
    "\n",
    "Using ravelry.com's api.  Limit of 100k per call.  As of Friday November 19, 665,465 knitting patterns. Api does not currently allow for sort-by searches directly.  Will need to segment and pull out in sequential chunks, then filter down after the fact. \n",
    "\n",
    "#### PLAN OF ATTACK\n",
    "* get pattern categories list\n",
    "* start with one category\n",
    "* then iterate through grab patterns for each if <100k\n",
    "* combine into one monster dataframe\n",
    "\n",
    "* write a script to interate through all id's grab info, write to csv... append with all info"
   ]
  },
  {
   "cell_type": "code",
   "execution_count": 1,
   "id": "c89fe5c2-e542-4531-aeab-9f1414dfbb28",
   "metadata": {},
   "outputs": [],
   "source": [
    "import pandas as pd\n",
    "import numpy as np\n",
    "\n",
    "import ast\n",
    "import json\n",
    "import requests\n",
    "from requests.auth import HTTPBasicAuth\n",
    "from pprint import pprint\n",
    "\n",
    "from config import basic_auth_username, basic_auth_password\n",
    "from config import basic_auth_username_read_only, basic_auth_password_read_only"
   ]
  },
  {
   "cell_type": "markdown",
   "id": "84d0a5cc-b712-420e-90de-49bf337a6964",
   "metadata": {},
   "source": [
    "### Try current user call (my account)"
   ]
  },
  {
   "cell_type": "code",
   "execution_count": 459,
   "id": "f29193ad-86f8-482a-ba76-d23a9a744b2a",
   "metadata": {},
   "outputs": [
    {
     "data": {
      "text/plain": [
       "{'user': {'id': 264731,\n",
       "  'username': 'upsidedown',\n",
       "  'tiny_photo_url': 'https://avatars-d.ravelrycache.com/upsidedown/122038936/IMG_2763_tiny.JPG',\n",
       "  'small_photo_url': 'https://avatars-d.ravelrycache.com/upsidedown/122038936/IMG_2763_small.JPG',\n",
       "  'photo_url': 'https://avatars-d.ravelrycache.com/upsidedown/122038936/IMG_2763_large.JPG',\n",
       "  'large_photo_url': 'https://avatars-d.ravelrycache.com/upsidedown/122038936/IMG_2763_xlarge.JPG'}}"
      ]
     },
     "execution_count": 459,
     "metadata": {},
     "output_type": "execute_result"
    }
   ],
   "source": [
    "def search_current_user():\n",
    "    \"\"\" returns current (my) user metadata \"\"\"\n",
    "    response =requests.get('https://api.ravelry.com/current_user.json', auth=HTTPBasicAuth(basic_auth_username, basic_auth_password))\n",
    "    if response.status_code != 200:\n",
    "        print(\"Something's not quite right - please take a look, status_code = {}\".format(response.status_code))\n",
    "    else:\n",
    "        return response.json()\n",
    "    \n",
    "search_current_user()"
   ]
  },
  {
   "cell_type": "code",
   "execution_count": 460,
   "id": "4e3f1991-2404-4b92-ac44-b53823418d70",
   "metadata": {},
   "outputs": [],
   "source": [
    "# response =requests.get('https://api.ravelry.com/projects/DonnaYB/list.json?sort=rating_', auth=HTTPBasicAuth(basic_auth_username, basic_auth_password))\n",
    "# response.json()"
   ]
  },
  {
   "cell_type": "markdown",
   "id": "34f2ea1c-480b-466a-93b8-0b1c1bbb2376",
   "metadata": {},
   "source": [
    "### More general Search"
   ]
  },
  {
   "cell_type": "code",
   "execution_count": 138,
   "id": "9e2901ba-dfb5-4bc9-9218-c84deddf6751",
   "metadata": {},
   "outputs": [],
   "source": [
    "# def search(params, endpoint):\n",
    "#         \"\"\" gets data from ravelry api with given end point (string) and parameters (dictionary)\n",
    "#         outlined in the api documentation \"\"\"\n",
    "#         base_url = 'https://api.ravelry.com/'\n",
    "#         params = params\n",
    "#         response =requests.get('https://api.ravelry.com/'+endpoint, params=params,auth=HTTPBasicAuth(basic_auth_username, basic_auth_password))\n",
    "#         if response.status_code != 200:\n",
    "#             print(\"Something's not quite right - please take a look, status_code = {}\".format(response.status_code))\n",
    "#         return(response.json())"
   ]
  },
  {
   "cell_type": "code",
   "execution_count": null,
   "id": "4ea7de80-c987-4498-b765-46193937c4a4",
   "metadata": {},
   "outputs": [],
   "source": []
  },
  {
   "cell_type": "code",
   "execution_count": null,
   "id": "0ead16d2-8031-43f8-8db2-cf8d62c3a664",
   "metadata": {},
   "outputs": [],
   "source": []
  },
  {
   "cell_type": "code",
   "execution_count": 157,
   "id": "d6327d0c-2053-4616-94a5-8876b936f490",
   "metadata": {},
   "outputs": [],
   "source": [
    "endpoint = 'patterns/search.json'\n",
    "params = {'query' : {'craft':'knitting'},\"page\": 1,\"page_size\": 500}# 'year published': '2020'\n",
    "# params = {'query' : {'craft':'knitting', 'sort by': 'best match'}, 'limit':500, \"page\": 1,\"page_size\": 100}\n",
    "response =requests.get('https://api.ravelry.com/'+end_point, params=params, auth=HTTPBasicAuth(basic_auth_username, basic_auth_password))\n",
    "# response =requests.get('https://api.ravelry.com/search.json?patterns/knitting', auth=HTTPBasicAuth(basic_auth_username, basic_auth_password))"
   ]
  },
  {
   "cell_type": "code",
   "execution_count": 159,
   "id": "3ee2b9ca-de49-4bf1-91c7-37d62ded4fe4",
   "metadata": {},
   "outputs": [
    {
     "data": {
      "text/plain": [
       "500"
      ]
     },
     "execution_count": 159,
     "metadata": {},
     "output_type": "execute_result"
    }
   ],
   "source": [
    "results = response.json()\n",
    "results\n",
    "pattern_id = []\n",
    "pattern_name =[]\n",
    "for i in range(len(results['patterns'])):\n",
    "    pattern_id.append(results['patterns'][i]['id'])\n",
    "    pattern_name.append(results['patterns'][i]['name'])\n",
    "len(pattern_id)\n",
    "# results['patterns'][1]\n",
    "# pattern_name[0:15]\n",
    "pprint(results)"
   ]
  },
  {
   "cell_type": "code",
   "execution_count": null,
   "id": "ecf4dc02-b3a7-488a-8a70-424789bcd323",
   "metadata": {},
   "outputs": [],
   "source": [
    "# create pandas df\n",
    "# save to csv"
   ]
  },
  {
   "cell_type": "code",
   "execution_count": 60,
   "id": "3a901cd2-03e5-4ef5-b125-970ecee075d0",
   "metadata": {},
   "outputs": [],
   "source": [
    "import requests\n",
    "\n",
    "result = requests.get(\n",
    "#     \"patterns/search\"\n",
    "    'https://api.ravelry.com/patterns.json',\n",
    "    data={\n",
    "        \"query\": \"\",\n",
    "        \"page\": 1,\n",
    "        \"page_size\": 100\n",
    "    },\n",
    "    auth=HTTPBasicAuth(basic_auth_username, basic_auth_password)\n",
    ")"
   ]
  },
  {
   "cell_type": "code",
   "execution_count": null,
   "id": "0c336957-be55-43c8-8886-fcc2c071b0f8",
   "metadata": {},
   "outputs": [],
   "source": []
  },
  {
   "cell_type": "code",
   "execution_count": 61,
   "id": "7952f410-9a33-4cda-9200-36be039478f1",
   "metadata": {},
   "outputs": [
    {
     "name": "stdout",
     "output_type": "stream",
     "text": [
      "<Response [400]>\n"
     ]
    }
   ],
   "source": [
    "pprint(result)"
   ]
  },
  {
   "cell_type": "markdown",
   "id": "0d6a30fc-0b2d-409d-9e1c-97ada068cc79",
   "metadata": {},
   "source": [
    "## Grab actual patterns"
   ]
  },
  {
   "cell_type": "code",
   "execution_count": 2,
   "id": "59431226-914b-44e5-9977-d957022266b3",
   "metadata": {},
   "outputs": [],
   "source": [
    "# For knitting search:\n",
    "response =requests.get('https://api.ravelry.com/patterns/search.json?craft=knitting&rating=4&sort=created_&page_size=100',auth=HTTPBasicAuth(basic_auth_username, basic_auth_password))\n",
    "search_result = response.json()\n",
    "\n",
    "ids = []\n",
    "for i in range(len(search_result['patterns'])):\n",
    "    ids.append(search_result['patterns'][i]['id'])\n",
    "    \n",
    "id_list = [str(x) for x in ids]\n",
    "spaced_ids = '+'.join(id_list)\n",
    "spaced_ids\n",
    "\n",
    "response =requests.get(f'https://api.ravelry.com/patterns.json?ids={spaced_ids}', auth=HTTPBasicAuth(basic_auth_username, basic_auth_password))\n",
    "patterns = response.json()\n"
   ]
  },
  {
   "cell_type": "code",
   "execution_count": 355,
   "id": "3c76d91d-7ae1-43d4-9786-3d39c9ec3e95",
   "metadata": {},
   "outputs": [],
   "source": [
    "# user\n",
    "response =requests.get(f'https://api.ravelry.com/people/264731.json', auth=HTTPBasicAuth(basic_auth_username, basic_auth_password))\n",
    "users = response.json()\n",
    "users"
   ]
  },
  {
   "cell_type": "code",
   "execution_count": null,
   "id": "600e1fde-b526-44a3-b49e-c284d1587a9e",
   "metadata": {},
   "outputs": [],
   "source": []
  },
  {
   "cell_type": "code",
   "execution_count": 350,
   "id": "bb9a97a6-f6b3-4645-8f61-7014606a9078",
   "metadata": {},
   "outputs": [],
   "source": [
    "# {'paginator': {'last_page': 1000,\n",
    "#                'page': 1,\n",
    "#                'page_count': 1000,\n",
    "#                'page_size': 100,\n",
    "#                'results': 100000},d\n",
    "\n",
    "\n",
    "def get_all_patterns():\n",
    "     try:\n",
    "        for page in range(1:1001):\n",
    "             search_results = get_page(page)\n",
    "             patterns = get_patterns(search_results)\n",
    "             parsed_patterns = parse_patterns(patterns)\n",
    "             save_patterns(parsed_patterns)\n",
    "     except:\n",
    "         print('Stopped on page {}'.format(page))\n",
    "\n",
    "\n"
   ]
  },
  {
   "cell_type": "code",
   "execution_count": 326,
   "id": "5dd4d167-b02f-4565-b36b-9b516938e060",
   "metadata": {},
   "outputs": [],
   "source": []
  },
  {
   "cell_type": "code",
   "execution_count": null,
   "id": "21d79cf5-1043-4adf-a135-24d5fe2cba3a",
   "metadata": {},
   "outputs": [],
   "source": []
  },
  {
   "cell_type": "markdown",
   "id": "145a9e55-5dea-4707-b63f-a180da8faf07",
   "metadata": {},
   "source": [
    "### For Pattern Details\n",
    "#### For a singular result:"
   ]
  },
  {
   "cell_type": "code",
   "execution_count": 414,
   "id": "38b4490a-19ec-4b6c-beae-69bb3fb8c4b8",
   "metadata": {},
   "outputs": [],
   "source": [
    "# For one result:\n",
    "response =requests.get('https://api.ravelry.com/patterns/573.json',auth=HTTPBasicAuth(basic_auth_username, basic_auth_password))\n",
    "patterns = response.json()\n",
    "# pprint(patterns)\n",
    "# 'Mid-calf' 'Socks','Feet / '\n",
    "# Accessories\n",
    "# 'Legs'"
   ]
  },
  {
   "cell_type": "code",
   "execution_count": null,
   "id": "849e6ab8-04b9-4be4-94f7-95c79ec56a7b",
   "metadata": {},
   "outputs": [],
   "source": [
    "def get_categories(pattern):\n",
    "    cat_dict = pattern['pattern_categories'][0]\n",
    "    cat_list = [cat_dict['permalink']]\n",
    "    new_dict = cat_dict['parent']\n",
    "    while 'parent' in new_dict.keys():\n",
    "        cat_list.append(new_dict['permalink'])\n",
    "        new_dict = new_dict['parent']\n",
    "    if len(cat_list)>1:\n",
    "        cat_list = cat_list[:2]\n",
    "#     if 'yarn_weight' in pattern.keys():\n",
    "#         yarn_weight = '-'.join(pattern['yarn_weight']['name'].split(' '))\n",
    "#     else:\n",
    "#         yarn_weight = None\n",
    "#     attr_dict = {'yarn_weight':yarn_weight,\n",
    "#     'pattern_attributes': [attr['permalink'] for attr in pattern['pattern_attributes']],\n",
    "#     'pattern_categories':cat_list}\n",
    "    return attr_dict"
   ]
  },
  {
   "cell_type": "markdown",
   "id": "a7eef763-eb5c-41a7-a491-73428e55eba7",
   "metadata": {},
   "source": [
    "#### For more than one result:"
   ]
  },
  {
   "cell_type": "code",
   "execution_count": null,
   "id": "ff39908a-246b-44fc-90bc-d97f1495ea3c",
   "metadata": {},
   "outputs": [],
   "source": [
    "'pattern_categories': [{'id': 885,\n",
    "                                     'name': 'Mid-calf',\n",
    "                                     'parent': {'id': 354,\n",
    "                                                'name': 'Socks',\n",
    "                                                'parent': {'id': 353,\n",
    "                                                           'name': 'Feet / '\n",
    "                                                                   'Legs',\n",
    "                                                           'parent': {'id': 337,\n",
    "                                                                      'name': 'Accessories',\n",
    "                                                                      'parent': {'id': 301,\n",
    "                                                                                 'name': 'Categories',\n",
    "                                                                                 'permalink': 'categories'},\n",
    "                                                                      'permalink': 'accessories'},\n",
    "                                                           'permalink': 'feet-legs'},\n",
    "                                                'permalink': 'socks'},\n",
    "                                     'permalink': 'mid-calf'}],\n",
    "             'pattern_needle_sizes': [{'crochet': False,\n",
    "                                       'hook': None,\n",
    "                                       'id': 21,\n",
    "                                       'knitting': True,\n",
    "                                       'metric': 2.5,\n",
    "                                       'name': 'US 1½ - 2.5 mm',\n",
    "                                       'pretty_metric': '2.5',\n",
    "                                       'us': '1½',\n",
    "                                       'us_steel': None}],"
   ]
  },
  {
   "cell_type": "code",
   "execution_count": 229,
   "id": "ba2bc30c-54f7-4505-a43d-4c73c73acc48",
   "metadata": {},
   "outputs": [],
   "source": [
    "pattern = response.json()\n",
    "page_count = pattern['paginator']['page_count']\n",
    "last_page = pattern['paginator']['last_page']\n",
    "# pprint(pattern['patterns'])"
   ]
  },
  {
   "cell_type": "code",
   "execution_count": 5,
   "id": "22e77513-ebaf-40c5-a964-a83522e45962",
   "metadata": {},
   "outputs": [],
   "source": [
    "# pprint(pattern)"
   ]
  },
  {
   "cell_type": "code",
   "execution_count": 3,
   "id": "409e28ba-659b-4bab-80b1-9223932e10c0",
   "metadata": {},
   "outputs": [
    {
     "name": "stdout",
     "output_type": "stream",
     "text": [
      "uhoh - check out categories!\n",
      "uhoh - check out categories!\n",
      "uhoh - check out categories!\n",
      "uhoh - check out categories!\n",
      "uhoh - check out categories!\n",
      "uhoh - check out categories!\n",
      "uhoh - check out categories!\n",
      "uhoh - check out categories!\n",
      "uhoh - check out categories!\n",
      "uhoh - check out categories!\n",
      "uhoh - check out categories!\n",
      "uhoh - check out categories!\n",
      "uhoh - check out categories!\n",
      "uhoh - check out categories!\n",
      "uhoh - check out categories!\n",
      "uhoh - check out categories!\n",
      "uhoh - check out categories!\n",
      "uhoh - check out categories!\n",
      "uhoh - check out categories!\n",
      "uhoh - check out categories!\n",
      "uhoh - check out categories!\n",
      "uhoh - check out categories!\n",
      "uhoh - check out categories!\n",
      "uhoh - check out categories!\n",
      "uhoh - check out categories!\n",
      "uhoh - check out categories!\n",
      "uhoh - check out categories!\n",
      "uhoh - check out categories!\n",
      "uhoh - check out categories!\n",
      "uhoh - check out categories!\n",
      "uhoh - check out categories!\n",
      "uhoh - check out categories!\n",
      "uhoh - check out categories!\n",
      "uhoh - check out categories!\n",
      "uhoh - check out categories!\n",
      "uhoh - check out categories!\n",
      "uhoh - check out categories!\n",
      "uhoh - check out categories!\n",
      "uhoh - check out categories!\n",
      "uhoh - check out categories!\n",
      "uhoh - check out categories!\n",
      "uhoh - check out categories!\n",
      "uhoh - check out categories!\n",
      "uhoh - check out categories!\n",
      "uhoh - check out categories!\n",
      "uhoh - check out categories!\n",
      "uhoh - check out categories!\n",
      "uhoh - check out categories!\n",
      "uhoh - check out categories!\n",
      "uhoh - check out categories!\n",
      "uhoh - check out categories!\n",
      "uhoh - check out categories!\n",
      "uhoh - check out categories!\n",
      "uhoh - check out categories!\n",
      "uhoh - check out categories!\n",
      "uhoh - check out categories!\n",
      "uhoh - check out categories!\n",
      "uhoh - check out categories!\n",
      "uhoh - check out categories!\n",
      "uhoh - check out categories!\n",
      "uhoh - check out categories!\n",
      "uhoh - check out categories!\n",
      "uhoh - check out categories!\n",
      "uhoh - check out categories!\n",
      "uhoh - check out categories!\n",
      "uhoh - check out categories!\n",
      "uhoh - check out categories!\n",
      "uhoh - check out categories!\n",
      "uhoh - check out categories!\n",
      "uhoh - check out categories!\n",
      "uhoh - check out categories!\n",
      "uhoh - check out categories!\n",
      "uhoh - check out categories!\n",
      "uhoh - check out categories!\n",
      "uhoh - check out categories!\n",
      "uhoh - check out categories!\n",
      "uhoh - check out categories!\n",
      "uhoh - check out categories!\n",
      "uhoh - check out categories!\n",
      "uhoh - check out categories!\n",
      "uhoh - check out categories!\n",
      "uhoh - check out categories!\n",
      "uhoh - check out categories!\n",
      "uhoh - check out categories!\n",
      "uhoh - check out categories!\n",
      "uhoh - check out categories!\n",
      "uhoh - check out categories!\n",
      "uhoh - check out categories!\n",
      "uhoh - check out categories!\n",
      "uhoh - check out categories!\n",
      "uhoh - check out categories!\n",
      "uhoh - check out categories!\n",
      "uhoh - check out categories!\n",
      "uhoh - check out categories!\n",
      "uhoh - check out categories!\n",
      "uhoh - check out categories!\n",
      "uhoh - check out categories!\n",
      "uhoh - check out categories!\n",
      "uhoh - check out categories!\n",
      "uhoh - check out categories!\n"
     ]
    }
   ],
   "source": [
    "# Note this only works for multiple call \n",
    "pattern = response.json()\n",
    "\n",
    "id_ = []\n",
    "name = []\n",
    "favorites_count = []\n",
    "projects_count = []\n",
    "difficulty_average = []\n",
    "difficulty_count = []\n",
    "rating_average = []\n",
    "rating_count = []\n",
    "pattern_type_id = []\n",
    "pattern_type_names = []\n",
    "pattern_type_clothing = []\n",
    "yarn_weight = []\n",
    "photos_url =[]\n",
    "craft_id = []\n",
    "yarn_weight = []\n",
    "pattern_needle_sizes = []\n",
    "yardage = []\n",
    "yarn_weight_description = []\n",
    "yardage_max = []\n",
    "yardage = []\n",
    "published = []\n",
    "gauge = []\n",
    "gauge_pattern = []\n",
    "gauge_divisor = []\n",
    "row_gauge = []\n",
    "free = []\n",
    "downloadable = []\n",
    "queued_projects_count =[]\n",
    "attributes = []\n",
    "generally_available = []\n",
    "\n",
    "yarn_weight_id = []\n",
    "yarn_weight_name = []\n",
    "yarn_weight_ply = []\n",
    "yarn_weight_knit_gauge = []\n",
    "yardage_description =[]\n",
    "url = []\n",
    "yarn_weight_wpi = []\n",
    "pattern_attributes = []\n",
    "categories = []\n",
    "name_permalink =[]\n",
    "\n",
    "# parse json response \n",
    "for i in pattern['patterns']:\n",
    "    id_.append(pattern['patterns'][i]['id'])\n",
    "    name.append(pattern['patterns'][i]['name'])\n",
    "    name_permalink.append(pattern['patterns'][i]['permalink'])\n",
    "    favorites_count.append(pattern['patterns'][i]['favorites_count'])\n",
    "    projects_count.append(pattern['patterns'][i]['projects_count'])\n",
    "    difficulty_average.append(pattern['patterns'][i]['difficulty_average'])\n",
    "    difficulty_count.append(pattern['patterns'][i]['difficulty_count'])\n",
    "    queued_projects_count.append(pattern['patterns'][i]['queued_projects_count'])\n",
    "    rating_average.append(pattern['patterns'][i]['rating_average'])\n",
    "    rating_count.append(pattern['patterns'][i]['rating_count'])\n",
    "    downloadable.append(pattern['patterns'][i]['downloadable'])\n",
    "    free.append(pattern['patterns'][i]['free'])\n",
    "#     row_gauge.append(pattern['patterns'][i]['row_gauge'])\n",
    "    gauge_divisor.append(pattern['patterns'][i]['gauge_divisor'])\n",
    "#     gauge_pattern.append(pattern['patterns'][i]['gauge_pattern'])\n",
    "    gauge.append(pattern['patterns'][i]['gauge'])\n",
    "#     published.append(pattern['patterns'][i]['published'])\n",
    "    yardage.append(pattern['patterns'][i]['yardage'])\n",
    "    yardage_max.append(pattern['patterns'][i]['yardage_max'])\n",
    "    yarn_weight_description.append(pattern['patterns'][i]['yarn_weight_description'])\n",
    "    generally_available.append(pattern['patterns'][i]['generally_available'])\n",
    "    \n",
    "    \n",
    "    try:\n",
    "        pattern_needle_sizes.append(pattern['patterns'][i]['pattern_needle_sizes'])\n",
    "#         pattern_needle_sizes.append(ast.literal_eval(pattern['patterns'][i]['pattern_needle_sizes']))#['metric'])\n",
    "    except:\n",
    "        pattern_needle_sizes.append('None')\n",
    "                                    \n",
    "    attributes = []\n",
    "    try:\n",
    "        for j in range(len(pattern['patterns'][i]['pattern_attributes'])):\n",
    "            attributes.append(pattern['patterns'][i]['pattern_attributes'][j]['permalink'])\n",
    "        pattern_attributes.append(attributes)\n",
    "    except:\n",
    "        pattern_attributes.append('None')\n",
    "    \n",
    "    \n",
    "    try:\n",
    "        category_dict = pattern['patterns'][i]['pattern_categories'][0]\n",
    "        category_list = [category_dict['permalink']]\n",
    "        new_dict = category_dict['parent']\n",
    "        while 'parent' in new_dict.keys():\n",
    "            cat_list.append(new_dict['permalink'])\n",
    "            new_dict = new_dict['parent']\n",
    "        categories.append(cat_list)\n",
    "    except:\n",
    "        print(\"uhoh - check out categories!\")\n",
    "'pattern_categories': [{'id': 350,\n",
    "                             'name': 'Shawl / Wrap',\n",
    "                             'parent': {'id': 338,\n",
    "                                        'name': 'Neck / Torso',\n",
    "                                        'parent': {'id': 337,\n",
    "                                                   'name': 'Accessories',\n",
    "                                                   'parent': {'id': 301,\n",
    "                                                              'name': 'Categories',\n",
    "                                                              'permalink': 'categories'},\n",
    "                                                   'permalink': 'accessories'},\n",
    "                                        'permalink': 'neck-torso'},\n",
    "                             'permalink': 'shawl-wrap'}],\n",
    "        \n",
    "    yardage_description.append(pattern['patterns'][i]['yardage_description'])\n",
    "#     url.append(pattern['patterns'][i]['url'])\n",
    "                      \n",
    "#     craft_id.append(pattern['patterns'][i]['craft']['id'])\n",
    "    photos_url.append(pattern['patterns'][i]['photos'][0]['square_url'])\n",
    "    pattern_type_clothing.append(pattern['patterns'][i]['pattern_type']['clothing'])\n",
    "    pattern_type_names.append(pattern['patterns'][i]['pattern_type']['permalink'])\n",
    "#     pattern_type_id.append(pattern['patterns'][i]['pattern_type']['id'])\n",
    "    \n",
    "\n",
    "\n",
    "\n",
    "# pattern['patterns']['600']['photos']['image_url']"
   ]
  },
  {
   "cell_type": "code",
   "execution_count": 478,
   "id": "e73e8e11-7783-493b-8185-3710179c01ca",
   "metadata": {},
   "outputs": [],
   "source": [
    "data = {'pattern_id':id_,\n",
    "        'name':name,\n",
    "        'name_permalink':name_permalink,\n",
    "        'favorites_count': favorites_count,\n",
    "        'projects_count': projects_count, \n",
    "        'difficulty_average' : difficulty_average, \n",
    "        'difficulty_count': difficulty_count, \n",
    "        'rating_average': rating_average,\n",
    "        'queued_projects_count': queued_projects_count,\n",
    "        'rating_count':rating_count,\n",
    "#         'pattern_type_id':pattern_type_id,\n",
    "        'pattern_type_names' :pattern_type_names,\n",
    "        'pattern_type_clothing' :pattern_type_clothing,\n",
    "        'photos_url' :photos_url,\n",
    "#         'craft_id':craft_id,\n",
    "#         'url' :url,\n",
    "        'pattern_needle_sizes' :pattern_needle_sizes,\n",
    "        'pattern_attributes':pattern_attributes,\n",
    "        'yardage_max' :yardage_max,\n",
    "        'yardage' :yardage,\n",
    "#         'yardage_description':yardage_description,\n",
    "        'generally_available':generally_available,\n",
    "#         'published' :published,\n",
    "        'gauge' :gauge,\n",
    "#         'gauge_pattern' :gauge_pattern,\n",
    "        'gauge_divisor' :gauge_divisor,\n",
    "#         'row_gauge' :row_gauge,\n",
    "        'free' :free,\n",
    "        'downloadable': downloadable,\n",
    "        'categories':categories,\n",
    "        'yarn_weight_description' :yarn_weight_description,\n",
    "#         'yarn_weight_id':yarn_weight_id,\n",
    "#         'yarn_weight_name':yarn_weight_name,\n",
    "#         'yarn_weight_ply':yarn_weight_ply,\n",
    "#         'yarn_weight_wpi':yarn_weight_wpi,\n",
    "#         'yarn_weight_knit_gauge':yarn_weight_knit_gauge,\n",
    "       \n",
    "       }\n",
    "patterns_df = pd.DataFrame(data)"
   ]
  },
  {
   "cell_type": "code",
   "execution_count": 479,
   "id": "6c7be4b3-ab69-4e5e-a2b3-9b861c352bd3",
   "metadata": {},
   "outputs": [
    {
     "data": {
      "text/plain": [
       "Index(['pattern_id', 'name', 'name_permalink', 'favorites_count',\n",
       "       'projects_count', 'difficulty_average', 'difficulty_count',\n",
       "       'rating_average', 'queued_projects_count', 'rating_count',\n",
       "       'pattern_type_names', 'pattern_type_clothing', 'photos_url',\n",
       "       'pattern_needle_sizes', 'pattern_attributes', 'yardage_max', 'yardage',\n",
       "       'generally_available', 'gauge', 'gauge_divisor', 'free', 'downloadable',\n",
       "       'categories', 'yarn_weight_description'],\n",
       "      dtype='object')"
      ]
     },
     "execution_count": 479,
     "metadata": {},
     "output_type": "execute_result"
    }
   ],
   "source": [
    "patterns_df.columns"
   ]
  },
  {
   "cell_type": "code",
   "execution_count": 480,
   "id": "845fd4e0-a7e9-4b29-ac31-5f5146114b30",
   "metadata": {},
   "outputs": [],
   "source": [
    "def filter_and_save_csv(df):\n",
    "    # remove any non-knitting project \n",
    "#     df = df[df['craft_id'] == 2]\n",
    "    # remove any project with less than 5 projects\n",
    "    \n",
    "    # remove any with rating less than equal 3.5\n",
    "    \n",
    "    # do the actual saving\n",
    "    df.to_csv('data/patterns_df.csv', index=False)\n",
    "    \n",
    "filter_and_save_csv(patterns_df)"
   ]
  },
  {
   "cell_type": "code",
   "execution_count": null,
   "id": "282e79e6-fdea-4163-86bf-8574d068ac47",
   "metadata": {},
   "outputs": [],
   "source": []
  },
  {
   "cell_type": "code",
   "execution_count": 12,
   "id": "b5b465b8-5f6e-4ac4-9295-d34b661e32e3",
   "metadata": {},
   "outputs": [],
   "source": [
    "# try:\n",
    "categories = []\n",
    "#     category_dict = pattern['patterns'][i]['pattern_categories'][0]\n",
    "category_dict= {'id': 350,\n",
    "             'name': 'Shawl / Wrap',\n",
    "             'parent': {'id': 338,\n",
    "                        'name': 'Neck / Torso',\n",
    "                        'parent': {'id': 337,\n",
    "                                   'name': 'Accessories',\n",
    "                                   'parent': {'id': 301,\n",
    "                                              'name': 'Categories',\n",
    "                                              'permalink': 'categories'},\n",
    "                                   'permalink': 'accessories'},\n",
    "                        'permalink': 'neck-torso'},\n",
    "             'permalink': 'shawl-wrap'}\n",
    "category_list = [category_dict['permalink']]\n",
    "new_dict = category_dict['parent']\n",
    "while 'parent' in new_dict.keys():\n",
    "    category_list.append(new_dict['permalink'])\n",
    "    new_dict = new_dict['parent']\n",
    "    categories.append(category_list)\n",
    "# except:\n",
    "#     print(\"uhoh - check out categories!\")\n",
    "    \n",
    "    \n",
    "\n",
    "\n"
   ]
  },
  {
   "cell_type": "code",
   "execution_count": 13,
   "id": "f62f2369-2af4-4aa6-b649-4f19afd1aac9",
   "metadata": {},
   "outputs": [
    {
     "data": {
      "text/plain": [
       "['shawl-wrap', 'neck-torso', 'accessories']"
      ]
     },
     "execution_count": 13,
     "metadata": {},
     "output_type": "execute_result"
    }
   ],
   "source": [
    "category_list"
   ]
  },
  {
   "cell_type": "code",
   "execution_count": null,
   "id": "0c889c6c-d158-4529-a04e-6dea2c801f3d",
   "metadata": {},
   "outputs": [],
   "source": []
  }
 ],
 "metadata": {
  "kernelspec": {
   "display_name": "new_bootcamp",
   "language": "python",
   "name": "new_bootcamp"
  },
  "language_info": {
   "codemirror_mode": {
    "name": "ipython",
    "version": 3
   },
   "file_extension": ".py",
   "mimetype": "text/x-python",
   "name": "python",
   "nbconvert_exporter": "python",
   "pygments_lexer": "ipython3",
   "version": "3.8.11"
  }
 },
 "nbformat": 4,
 "nbformat_minor": 5
}
